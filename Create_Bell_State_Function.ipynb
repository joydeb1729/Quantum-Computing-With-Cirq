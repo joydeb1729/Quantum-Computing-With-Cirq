{
 "cells": [
  {
   "cell_type": "markdown",
   "metadata": {},
   "source": [
    "## Function: `create_bell_state`\n",
    "\n",
    "The function `create_bell_state` is designed to generate one of the four Bell states based on the input parameters $a$ and $b$. Bell states are a specific type of quantum state that represent maximum entanglement between two qubits. These states are crucial in quantum information and communication, as they serve as the foundation for many quantum protocols.\n",
    "\n",
    "#### Bell States\n",
    "\n",
    "The four Bell states are:\n",
    "\n",
    "1. $$ \\left| \\Phi^+ \\right\\rangle = \\frac{1}{\\sqrt{2}} (\\left| 00 \\right\\rangle + \\left| 11 \\right\\rangle) $$\n",
    "2. $$ \\left| \\Phi^- \\right\\rangle = \\frac{1}{\\sqrt{2}} (\\left| 00 \\right\\rangle - \\left| 11 \\right\\rangle) $$\n",
    "3. $$ \\left| \\Psi^+ \\right\\rangle = \\frac{1}{\\sqrt{2}} (\\left| 01 \\right\\rangle + \\left| 10 \\right\\rangle) $$\n",
    "4. $$ \\left| \\Psi^- \\right\\rangle = \\frac{1}{\\sqrt{2}} (\\left| 01 \\right\\rangle - \\left| 10 \\right\\rangle) $$\n",
    "\n",
    "#### How the Function Works\n",
    "\n",
    "- **Inputs**: The function takes two parameters, $a$ and $b$, each of which can be either 0 or 1. These parameters determine which Bell state will be created.\n",
    "  \n",
    "- **Qubits**: Two named qubits, $q_0$ and $q_1$, are used in the function.\n",
    "\n",
    "- **Circuit Construction**:\n",
    "  -  $\\left| \\Phi^+ \\right\\rangle$ ($B_{00}$)  : If both $a$ and $b$ are 0, the circuit applies a Hadamard gate to $q_0$ followed by a CNOT gate with $q_0$ as the control and $q_1$ as the target. This creates the $\\left| \\Phi^+ \\right\\rangle$ state.\n",
    "\n",
    "  - $\\left| \\Phi^- \\right\\rangle$ ($B_{01}$) : If $a$ is 0 and $b$ is 1, after creating the $\\left| \\Phi^+ \\right\\rangle$ state, a Z gate is applied to $q_0$ to obtain $\\left| \\Phi^- \\right\\rangle$.\n",
    "\n",
    "  - $\\left| \\Psi^+ \\right\\rangle$ ($B_{10}$) : If $a$ is 1 and $b$ is 0, the $\\left| \\Phi^+ \\right\\rangle$ state is modified by applying an X gate to $q_0$, creating the $\\left| \\Psi^+ \\right\\rangle$  state.\n",
    "\n",
    "  - $\\left| \\Psi^- \\right\\rangle$ ($B_{11}$)  : If both $a$ and $b$ are 1, an X gate and a Z gate are applied to $q_0$ after creating the $\\left| \\Phi^+ \\right\\rangle$ state, resulting in the $\\left| \\Psi^- \\right\\rangle$ state.\n",
    "\n",
    "- **Output**: The function returns a `cirq.Circuit` that represents the sequence of operations needed to create the desired Bell state.\n",
    "\n",
    "This function provides a flexible way to generate any of the four Bell states by specifying the parameters $a$ and $b$.\n"
   ]
  },
  {
   "cell_type": "code",
   "execution_count": 1,
   "metadata": {},
   "outputs": [],
   "source": [
    "import cirq"
   ]
  },
  {
   "cell_type": "code",
   "execution_count": 2,
   "metadata": {},
   "outputs": [],
   "source": [
    "def create_bell_state(a, b):\n",
    "    \n",
    "    q0 = cirq.NamedQubit('q0')\n",
    "    q1 = cirq.NamedQubit('q1')\n",
    "\n",
    "    qc = cirq.Circuit()\n",
    "    \n",
    "    if a==0:\n",
    "        if b==0:\n",
    "            qc.append(cirq.H(q0))\n",
    "            qc.append(cirq.CNOT(q0, q1))    # B00\n",
    "        \n",
    "        if b==1:\n",
    "            qc.append(cirq.H(q0))           \n",
    "            qc.append(cirq.CNOT(q0, q1))    # B01\n",
    "            qc.append(cirq.Z(q0))\n",
    "            \n",
    "            \n",
    "    elif a==1:\n",
    "        if b==0:\n",
    "            qc.append(cirq.H(q0))\n",
    "            qc.append(cirq.CNOT(q0, q1))    #B10\n",
    "            qc.append(cirq.X(q0))\n",
    "        \n",
    "        if b==1:\n",
    "            qc.append(cirq.H(q0))\n",
    "            qc.append(cirq.CNOT(q0, q1))    #B11\n",
    "            qc.append(cirq.X(q0))\n",
    "            qc.append(cirq.Z(q0))\n",
    "\n",
    "    return qc \n",
    "        \n"
   ]
  },
  {
   "cell_type": "markdown",
   "metadata": {},
   "source": [
    "### Using the `create_bell_state` Function\n",
    "\n",
    "Once you have defined the `create_bell_state` function, you can use it to generate specific Bell states and visualize the resulting quantum circuit.\n",
    "\n",
    "#### Example: Generating the Bell State: $$ \\left| \\Psi^+ \\right\\rangle = \\frac{1}{\\sqrt{2}} (\\left| 01 \\right\\rangle + \\left| 10 \\right\\rangle) $$\n",
    "\n",
    "\n",
    "\n"
   ]
  },
  {
   "cell_type": "code",
   "execution_count": 3,
   "metadata": {},
   "outputs": [
    {
     "name": "stdout",
     "output_type": "stream",
     "text": [
      "Quantum Circuit:\n",
      "\n",
      " q0: ───H───@───X───\n",
      "           │\n",
      "q1: ───────X───────\n",
      "\n",
      "\n",
      "Bell State : 0.71|01⟩ + 0.71|10⟩\n"
     ]
    }
   ],
   "source": [
    "qc = create_bell_state(1, 0)\n",
    "\n",
    "# Get the final state vector\n",
    "state_vector = qc.final_state_vector()\n",
    "\n",
    "# Display the circuit\n",
    "print('Quantum Circuit:\\n\\n', qc)\n",
    "\n",
    "# Display the state vector in Dirac notation\n",
    "\n",
    "print('\\n\\nBell State :', cirq.dirac_notation(state_vector))\n",
    "\n"
   ]
  }
 ],
 "metadata": {
  "kernelspec": {
   "display_name": "cirq_env",
   "language": "python",
   "name": "python3"
  },
  "language_info": {
   "codemirror_mode": {
    "name": "ipython",
    "version": 3
   },
   "file_extension": ".py",
   "mimetype": "text/x-python",
   "name": "python",
   "nbconvert_exporter": "python",
   "pygments_lexer": "ipython3",
   "version": "3.8.19"
  }
 },
 "nbformat": 4,
 "nbformat_minor": 2
}
