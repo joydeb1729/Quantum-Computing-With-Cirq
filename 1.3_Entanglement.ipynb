{
 "cells": [
  {
   "cell_type": "markdown",
   "metadata": {},
   "source": [
    "# Entanglement\n",
    "\n",
    "- Entanglement is a quantum phenomenon where the state of two or more particles becomes interconnected such that the state of each particle cannot be described independently of the state of the others, even when the particles are separated by large distances.\n",
    "\n",
    "- Entangled qubits are connected in such a way that the measurement of one qubit instantly determines the state of the other qubit, regardless of the distance between them. This connection results in strong correlations between the states of the entangled qubits, which are not possible in classical systems.\n"
   ]
  },
  {
   "cell_type": "markdown",
   "metadata": {},
   "source": [
    "## Creating Entanglement with Hadamard and CNOT Gates\n",
    "\n",
    "To create an entangled state between two qubits, we can use a combination of the Hadamard (H) gate and the Controlled-NOT (CNOT) gate. Let's denote two qubits as $|q_0\\rangle$ and $|q_1\\rangle$.\n",
    "\n",
    "1. **Apply the Hadamard (H) gate to the first qubit ($|q_0\\rangle$)**:\n",
    "   $$ H|q_0\\rangle = \\frac{1}{\\sqrt{2}}(|0\\rangle + |1\\rangle) $$\n",
    "\n",
    "   After applying the H gate, the state of $|q_0\\rangle$ is now a superposition of $|0\\rangle$ and $|1\\rangle$.\n",
    "\n",
    "2. **Apply the Controlled-NOT (CNOT) gate** with $|q_0\\rangle$ as the control qubit and $|q1\\rangle$ as the target qubit:\n",
    "   - If $|q_0\\rangle$ = $|0\\rangle$ , $|q_1\\rangle$ remains unchanged.\n",
    "   - If $|q_0\\rangle$ = $|1\\rangle$ , $|q_1\\rangle$ is flipped.\n",
    "\n",
    "   This operation results in the following entangled state:\n",
    "   $$ \\text{CNOT}(H|q_0\\rangle \\otimes |q_1\\rangle) = \\frac{1}{\\sqrt{2}}(|00\\rangle + |11\\rangle) $$\n",
    "\n",
    "   Here, $|00\\rangle$ and $|00\\rangle$ are two possible Bell states, specifically $ |\\Phi^+\\rangle $ , which are entangled states where both qubits are in the same state.\n"
   ]
  },
  {
   "cell_type": "markdown",
   "metadata": {},
   "source": [
    "## What is a Controlled-NOT (CNOT) Gate ??\n",
    "\n",
    "#### Matrix Representation:\n",
    "The CNOT gate's action can be represented by the following matrix:\n",
    "$$\n",
    "\\text{CNOT} = \\begin{pmatrix}\n",
    "1 & 0 & 0 & 0 \\\\\n",
    "0 & 1 & 0 & 0 \\\\\n",
    "0 & 0 & 0 & 1 \\\\\n",
    "0 & 0 & 1 & 0\n",
    "\\end{pmatrix}\n",
    "$$\n",
    "\n",
    "Where the rows and columns correspond to the basis states $|00\\rangle$, $|01\\rangle$, $|10\\rangle$, $|11\\rangle$ respectively.\n",
    "\n",
    "#### Operation:\n",
    "- $\\text{CNOT}$ gate flips the state of the target qubit (second qubit) if and only if the control qubit (first qubit) is in the state $|1\\rangle$.\n",
    "\n",
    "**Case 1:** If the control qubit is $|1\\rangle$, the target qubit is flipped.\n",
    "- CX $|1\\rangle \\rightarrow |0\\rangle$\n",
    "- CX $|0\\rangle \\rightarrow |1\\rangle$\n",
    "\n",
    "**Case 2:** If the control qubit is $|0\\rangle$, the target qubit remains unchanged.\n",
    "- CX $|1\\rangle \\rightarrow |1\\rangle$\n",
    "- CX $|0\\rangle \\rightarrow |0\\rangle$\n"
   ]
  },
  {
   "cell_type": "markdown",
   "metadata": {},
   "source": [
    "## How to apply a CNOT-Gate ??"
   ]
  },
  {
   "cell_type": "code",
   "execution_count": 1,
   "metadata": {},
   "outputs": [
    {
     "data": {
      "text/html": [
       "<pre style=\"overflow: auto; white-space: pre;\">q0: ───@───\n",
       "       │\n",
       "q1: ───X───</pre>"
      ],
      "text/plain": [
       "q0: ───@───\n",
       "       │\n",
       "q1: ───X───"
      ]
     },
     "metadata": {},
     "output_type": "display_data"
    },
    {
     "name": "stderr",
     "output_type": "stream",
     "text": [
      "findfont: Font family 'Arial' not found.\n",
      "findfont: Font family 'Arial' not found.\n",
      "findfont: Font family 'Arial' not found.\n",
      "findfont: Font family 'Arial' not found.\n"
     ]
    },
    {
     "data": {
      "image/svg+xml": [
       "<svg xmlns=\"http://www.w3.org/2000/svg\" width=\"160.0\" height=\"100.0\"><line x1=\"30.0\" x2=\"130.0\" y1=\"25.0\" y2=\"25.0\" stroke=\"#1967d2\" stroke-width=\"1\" /><line x1=\"30.0\" x2=\"130.0\" y1=\"75.0\" y2=\"75.0\" stroke=\"#1967d2\" stroke-width=\"1\" /><line x1=\"90.0\" x2=\"90.0\" y1=\"25.0\" y2=\"75.0\" stroke=\"black\" stroke-width=\"3\" /><rect x=\"10.0\" y=\"5.0\" width=\"40\" height=\"40\" stroke=\"black\" fill=\"white\" stroke-width=\"0\" /><text x=\"30.0\" y=\"25.0\" dominant-baseline=\"middle\" text-anchor=\"middle\" font-size=\"14px\" font-family=\"Arial\">q0: </text><rect x=\"10.0\" y=\"55.0\" width=\"40\" height=\"40\" stroke=\"black\" fill=\"white\" stroke-width=\"0\" /><text x=\"30.0\" y=\"75.0\" dominant-baseline=\"middle\" text-anchor=\"middle\" font-size=\"14px\" font-family=\"Arial\">q1: </text><circle cx=\"90.0\" cy=\"25.0\" r=\"10.0\" /><rect x=\"70.0\" y=\"55.0\" width=\"40\" height=\"40\" stroke=\"black\" fill=\"white\" stroke-width=\"1\" /><text x=\"90.0\" y=\"75.0\" dominant-baseline=\"middle\" text-anchor=\"middle\" font-size=\"18px\" font-family=\"Arial\">X</text></svg>"
      ],
      "text/plain": [
       "<cirq.contrib.svg.svg.SVGCircuit at 0x7fea58b62e20>"
      ]
     },
     "metadata": {},
     "output_type": "display_data"
    }
   ],
   "source": [
    "import cirq\n",
    "from cirq.contrib.svg import SVGCircuit\n",
    "\n",
    "my_qubits = cirq.NamedQubit.range(2, prefix='q')\n",
    "qc = cirq.Circuit()\n",
    "\n",
    "qc.append(cirq.CNOT(my_qubits[0], my_qubits[1]))\n",
    "\n",
    "display(qc)\n",
    "\n",
    "display(SVGCircuit(qc))"
   ]
  },
  {
   "cell_type": "markdown",
   "metadata": {},
   "source": [
    "**Remember!!**  : The warning message `findfont: Font family 'Arial' not found.` typically appears when Matplotlib cannot find the specified font family for rendering text in plots or diagrams. This issue is common in some environments but usually does not affect the functionality of `SVGCircuit` from `cirq.contrib.svg`."
   ]
  },
  {
   "cell_type": "markdown",
   "metadata": {},
   "source": [
    "## Creating an Entanglement State\n",
    "\n",
    "Now that we know how to create both H-Gate and CNOT-Gate, let's follow the steps to create Entanglement.\n",
    "\n",
    "**Step 1:** Create two qubits $q_0$ and $q_1$ and add them to the circuit.\n",
    "\n",
    "**Step 2:** Apply the Hadamard gate to the first qubit.\n",
    "\n",
    "**Step 3:** Apply the Controlled-NOT (CNOT) gate with $|q_0\\rangle$ as the control qubit and $|q_1\\rangle$ as the target qubit.\n"
   ]
  },
  {
   "cell_type": "code",
   "execution_count": 2,
   "metadata": {},
   "outputs": [
    {
     "data": {
      "text/html": [
       "<pre style=\"overflow: auto; white-space: pre;\">q0: ───H───@───\n",
       "           │\n",
       "q1: ───────X───</pre>"
      ],
      "text/plain": [
       "q0: ───H───@───\n",
       "           │\n",
       "q1: ───────X───"
      ]
     },
     "metadata": {},
     "output_type": "display_data"
    },
    {
     "name": "stderr",
     "output_type": "stream",
     "text": [
      "findfont: Font family 'Arial' not found.\n"
     ]
    },
    {
     "name": "stderr",
     "output_type": "stream",
     "text": [
      "findfont: Font family 'Arial' not found.\n",
      "findfont: Font family 'Arial' not found.\n",
      "findfont: Font family 'Arial' not found.\n",
      "findfont: Font family 'Arial' not found.\n"
     ]
    },
    {
     "data": {
      "image/svg+xml": [
       "<svg xmlns=\"http://www.w3.org/2000/svg\" width=\"220.0\" height=\"100.0\"><line x1=\"30.0\" x2=\"190.0\" y1=\"25.0\" y2=\"25.0\" stroke=\"#1967d2\" stroke-width=\"1\" /><line x1=\"30.0\" x2=\"190.0\" y1=\"75.0\" y2=\"75.0\" stroke=\"#1967d2\" stroke-width=\"1\" /><line x1=\"150.0\" x2=\"150.0\" y1=\"25.0\" y2=\"75.0\" stroke=\"black\" stroke-width=\"3\" /><rect x=\"10.0\" y=\"5.0\" width=\"40\" height=\"40\" stroke=\"black\" fill=\"white\" stroke-width=\"0\" /><text x=\"30.0\" y=\"25.0\" dominant-baseline=\"middle\" text-anchor=\"middle\" font-size=\"14px\" font-family=\"Arial\">q0: </text><rect x=\"10.0\" y=\"55.0\" width=\"40\" height=\"40\" stroke=\"black\" fill=\"white\" stroke-width=\"0\" /><text x=\"30.0\" y=\"75.0\" dominant-baseline=\"middle\" text-anchor=\"middle\" font-size=\"14px\" font-family=\"Arial\">q1: </text><rect x=\"70.0\" y=\"5.0\" width=\"40\" height=\"40\" stroke=\"black\" fill=\"white\" stroke-width=\"1\" /><text x=\"90.0\" y=\"25.0\" dominant-baseline=\"middle\" text-anchor=\"middle\" font-size=\"18px\" font-family=\"Arial\">H</text><circle cx=\"150.0\" cy=\"25.0\" r=\"10.0\" /><rect x=\"130.0\" y=\"55.0\" width=\"40\" height=\"40\" stroke=\"black\" fill=\"white\" stroke-width=\"1\" /><text x=\"150.0\" y=\"75.0\" dominant-baseline=\"middle\" text-anchor=\"middle\" font-size=\"18px\" font-family=\"Arial\">X</text></svg>"
      ],
      "text/plain": [
       "<cirq.contrib.svg.svg.SVGCircuit at 0x7fea58b62190>"
      ]
     },
     "metadata": {},
     "output_type": "display_data"
    }
   ],
   "source": [
    "import cirq\n",
    "from cirq.contrib.svg import SVGCircuit\n",
    "\n",
    "my_qubits = cirq.NamedQubit.range(2, prefix='q')\n",
    "qc = cirq.Circuit()\n",
    "\n",
    "qc.append(cirq.H(my_qubits[0]))\n",
    "qc.append(cirq.CNOT(my_qubits[0], my_qubits[1]))\n",
    "\n",
    "display(qc)\n",
    "\n",
    "display(SVGCircuit(qc))"
   ]
  },
  {
   "cell_type": "markdown",
   "metadata": {},
   "source": [
    "# Beauty of Entanglement\n",
    "\n",
    "Now that we have created an Entangled state, we can explore its properties and behaviors:\n",
    "\n",
    "1. **Check the Entangled State**\n",
    "   - Verify the state created by the entanglement process.\n",
    "\n",
    "2. **Add Measurement**\n",
    "   - Apply measurements to observe the quantum states of the entangled qubits.\n",
    "\n",
    "3. **Simulate for Multiple Times and Examine Results**\n",
    "   - Run simulations to observe how measurements of entangled qubits correlate over multiple repetitions, revealing the probabilistic nature of quantum measurements.\n",
    "\n",
    "4. **Visualize the Result using Histogram for Multiple Repetitions**\n",
    "   - To visualize the result using a histogram, we can observe the distribution of measurement outcomes. This helps in understanding the probabilistic nature of quantum measurements and how entangled qubits behave under repeated measurements.\n",
    "\n"
   ]
  },
  {
   "cell_type": "markdown",
   "metadata": {},
   "source": [
    "**1. Checking the Entangled State :**"
   ]
  },
  {
   "cell_type": "code",
   "execution_count": 3,
   "metadata": {},
   "outputs": [
    {
     "data": {
      "text/plain": [
       "'0.71|00⟩ + 0.71|11⟩'"
      ]
     },
     "metadata": {},
     "output_type": "display_data"
    }
   ],
   "source": [
    "entangled_state = cirq.final_state_vector(qc)\n",
    "\n",
    "display(cirq.dirac_notation(entangled_state))"
   ]
  },
  {
   "cell_type": "markdown",
   "metadata": {},
   "source": [
    "**2. Adding Measurement :**"
   ]
  },
  {
   "cell_type": "code",
   "execution_count": 4,
   "metadata": {},
   "outputs": [
    {
     "data": {
      "text/html": [
       "<pre style=\"overflow: auto; white-space: pre;\">q0: ───H───@───M───\n",
       "           │   │\n",
       "q1: ───────X───M───</pre>"
      ],
      "text/plain": [
       "q0: ───H───@───M───\n",
       "           │   │\n",
       "q1: ───────X───M───"
      ]
     },
     "metadata": {},
     "output_type": "display_data"
    },
    {
     "name": "stderr",
     "output_type": "stream",
     "text": [
      "findfont: Font family 'Arial' not found.\n"
     ]
    },
    {
     "name": "stderr",
     "output_type": "stream",
     "text": [
      "findfont: Font family 'Arial' not found.\n",
      "findfont: Font family 'Arial' not found.\n",
      "findfont: Font family 'Arial' not found.\n",
      "findfont: Font family 'Arial' not found.\n",
      "findfont: Font family 'Arial' not found.\n",
      "findfont: Font family 'Arial' not found.\n"
     ]
    },
    {
     "data": {
      "image/svg+xml": [
       "<svg xmlns=\"http://www.w3.org/2000/svg\" width=\"280.0\" height=\"100.0\"><line x1=\"30.0\" x2=\"250.0\" y1=\"25.0\" y2=\"25.0\" stroke=\"#1967d2\" stroke-width=\"1\" /><line x1=\"30.0\" x2=\"250.0\" y1=\"75.0\" y2=\"75.0\" stroke=\"#1967d2\" stroke-width=\"1\" /><line x1=\"150.0\" x2=\"150.0\" y1=\"25.0\" y2=\"75.0\" stroke=\"black\" stroke-width=\"3\" /><line x1=\"210.0\" x2=\"210.0\" y1=\"25.0\" y2=\"75.0\" stroke=\"black\" stroke-width=\"3\" /><rect x=\"10.0\" y=\"5.0\" width=\"40\" height=\"40\" stroke=\"black\" fill=\"white\" stroke-width=\"0\" /><text x=\"30.0\" y=\"25.0\" dominant-baseline=\"middle\" text-anchor=\"middle\" font-size=\"14px\" font-family=\"Arial\">q0: </text><rect x=\"10.0\" y=\"55.0\" width=\"40\" height=\"40\" stroke=\"black\" fill=\"white\" stroke-width=\"0\" /><text x=\"30.0\" y=\"75.0\" dominant-baseline=\"middle\" text-anchor=\"middle\" font-size=\"14px\" font-family=\"Arial\">q1: </text><rect x=\"70.0\" y=\"5.0\" width=\"40\" height=\"40\" stroke=\"black\" fill=\"white\" stroke-width=\"1\" /><text x=\"90.0\" y=\"25.0\" dominant-baseline=\"middle\" text-anchor=\"middle\" font-size=\"18px\" font-family=\"Arial\">H</text><circle cx=\"150.0\" cy=\"25.0\" r=\"10.0\" /><rect x=\"130.0\" y=\"55.0\" width=\"40\" height=\"40\" stroke=\"black\" fill=\"white\" stroke-width=\"1\" /><text x=\"150.0\" y=\"75.0\" dominant-baseline=\"middle\" text-anchor=\"middle\" font-size=\"18px\" font-family=\"Arial\">X</text><rect x=\"190.0\" y=\"5.0\" width=\"40\" height=\"40\" stroke=\"black\" fill=\"white\" stroke-width=\"1\" /><text x=\"210.0\" y=\"25.0\" dominant-baseline=\"middle\" text-anchor=\"middle\" font-size=\"18px\" font-family=\"Arial\">M</text><rect x=\"190.0\" y=\"55.0\" width=\"40\" height=\"40\" stroke=\"black\" fill=\"white\" stroke-width=\"1\" /><text x=\"210.0\" y=\"75.0\" dominant-baseline=\"middle\" text-anchor=\"middle\" font-size=\"18px\" font-family=\"Arial\">M</text></svg>"
      ],
      "text/plain": [
       "<cirq.contrib.svg.svg.SVGCircuit at 0x7fea58bb3310>"
      ]
     },
     "metadata": {},
     "output_type": "display_data"
    }
   ],
   "source": [
    "qc.append(cirq.measure(my_qubits))\n",
    "\n",
    "display(qc)\n",
    "\n",
    "display(SVGCircuit(qc))"
   ]
  },
  {
   "cell_type": "markdown",
   "metadata": {},
   "source": [
    "**3. Simulating for 10 Times and Examining Results :**"
   ]
  },
  {
   "cell_type": "code",
   "execution_count": 5,
   "metadata": {},
   "outputs": [
    {
     "data": {
      "text/plain": [
       "q0,q1=0011010011, 0011010011"
      ]
     },
     "execution_count": 5,
     "metadata": {},
     "output_type": "execute_result"
    }
   ],
   "source": [
    "simulator = cirq.Simulator()\n",
    "\n",
    "results = simulator.run(qc, repetitions=10)\n",
    "\n",
    "results"
   ]
  },
  {
   "cell_type": "markdown",
   "metadata": {},
   "source": [
    "#### Entanglement Measurement Results :\n",
    "\n",
    "- After creating an entangled state and running measurements on qubits $q_0$ and $q_1$ for 10 repetitions using a quantum simulator, the results show that every time, the state of $q_0$ and $q_1$ is the same:\n",
    "\n",
    "- These binary strings represent the outcomes of measuring qubits $q_0$ and $q_1$, respectively, over multiple runs of the circuit. Entanglement ensures that the measurement results of entangled qubits exhibit strong correlations, as evidenced by the similarity in outcomes between the two qubits.\n",
    "\n"
   ]
  },
  {
   "cell_type": "markdown",
   "metadata": {},
   "source": [
    "**4. Visualizing the Result using Histogram for 1000 Repetitions :**"
   ]
  },
  {
   "cell_type": "code",
   "execution_count": 6,
   "metadata": {},
   "outputs": [
    {
     "data": {
      "image/png": "[encoded data removed]",
      "text/plain": [
       "<Figure size 640x480 with 1 Axes>"
      ]
     },
     "metadata": {},
     "output_type": "display_data"
    }
   ],
   "source": [
    "import matplotlib.pyplot as plt\n",
    "\n",
    "results = simulator.run(qc, repetitions=10000)\n",
    "\n",
    "_ = cirq.plot_state_histogram(results, plt.subplot(), title='Qubit States', xlabel='States', ylabel='Occurrence', tick_label=['00', '01', '10', '11'])\n",
    "plt.show()\n"
   ]
  },
  {
   "cell_type": "markdown",
   "metadata": {},
   "source": [
    "#### Explanation of Code: Plotting State Histogram in Cirq\n",
    "\n",
    "The code snippet `cirq.plot_state_histogram(results, plt.subplot(), title='Qubit States', xlabel='States', ylabel='Occurrence', tick_label=binary_labels(2))` performs the following actions:\n",
    "\n",
    "1. **Plot State Histogram**: It uses `cirq.plot_state_histogram` function to create a histogram of quantum measurement results.\n",
    "\n",
    "2. **Arguments**:\n",
    "   - `results`: This variable holds the measurement results obtained from running a quantum circuit simulation.\n",
    "   - `plt.subplot()`: Creates a subplot for the histogram using Matplotlib.\n",
    "   - `title='Qubit States'`: Sets the title of the histogram plot to 'Qubit States'.\n",
    "   - `xlabel='States'`: Labels the x-axis of the histogram as 'States'.\n",
    "   - `ylabel='Occurrence'`: Labels the y-axis of the histogram as 'Occurrence'.\n",
    "   - `tick_label=binary_labels(2)`: Specifies the tick labels for the histogram bins. `binary_labels(2)` generates binary labels for 2 qubits, representing possible measurement outcomes.\n",
    "\n",
    "3. **Displaying the Plot**: The plot is displayed using `plt.show()`, which renders the histogram in the notebook output.\n",
    "\n"
   ]
  },
  {
   "cell_type": "markdown",
   "metadata": {},
   "source": [
    "## Practice Question:\n",
    "\n",
    "- Create two qubits.\n",
    "- Add an H gate to the first qubit and an X gate to the second qubit, followed by a CNOT gate with the first qubit as the control and the second qubit as the target.\n",
    "- Measure both qubits at the end.\n",
    "- Output your circuit.\n",
    "- Simulate the result of your circuit for 10,000 times and plot a histogram."
   ]
  },
  {
   "cell_type": "code",
   "execution_count": 7,
   "metadata": {},
   "outputs": [
    {
     "name": "stderr",
     "output_type": "stream",
     "text": [
      "findfont: Font family 'Arial' not found.\n",
      "findfont: Font family 'Arial' not found.\n",
      "findfont: Font family 'Arial' not found.\n",
      "findfont: Font family 'Arial' not found.\n",
      "findfont: Font family 'Arial' not found.\n",
      "findfont: Font family 'Arial' not found.\n",
      "findfont: Font family 'Arial' not found.\n"
     ]
    },
    {
     "name": "stdout",
     "output_type": "stream",
     "text": [
      "Circuit:\n",
      "\n",
      "q0: ───H───@───M───\n",
      "           │   │\n",
      "q1: ───X───X───M───\n"
     ]
    },
    {
     "data": {
      "image/svg+xml": [
       "<svg xmlns=\"http://www.w3.org/2000/svg\" width=\"280.0\" height=\"100.0\"><line x1=\"30.0\" x2=\"250.0\" y1=\"25.0\" y2=\"25.0\" stroke=\"#1967d2\" stroke-width=\"1\" /><line x1=\"30.0\" x2=\"250.0\" y1=\"75.0\" y2=\"75.0\" stroke=\"#1967d2\" stroke-width=\"1\" /><line x1=\"150.0\" x2=\"150.0\" y1=\"25.0\" y2=\"75.0\" stroke=\"black\" stroke-width=\"3\" /><line x1=\"210.0\" x2=\"210.0\" y1=\"25.0\" y2=\"75.0\" stroke=\"black\" stroke-width=\"3\" /><rect x=\"10.0\" y=\"5.0\" width=\"40\" height=\"40\" stroke=\"black\" fill=\"white\" stroke-width=\"0\" /><text x=\"30.0\" y=\"25.0\" dominant-baseline=\"middle\" text-anchor=\"middle\" font-size=\"14px\" font-family=\"Arial\">q0: </text><rect x=\"10.0\" y=\"55.0\" width=\"40\" height=\"40\" stroke=\"black\" fill=\"white\" stroke-width=\"0\" /><text x=\"30.0\" y=\"75.0\" dominant-baseline=\"middle\" text-anchor=\"middle\" font-size=\"14px\" font-family=\"Arial\">q1: </text><rect x=\"70.0\" y=\"5.0\" width=\"40\" height=\"40\" stroke=\"black\" fill=\"white\" stroke-width=\"1\" /><text x=\"90.0\" y=\"25.0\" dominant-baseline=\"middle\" text-anchor=\"middle\" font-size=\"18px\" font-family=\"Arial\">H</text><circle cx=\"150.0\" cy=\"25.0\" r=\"10.0\" /><rect x=\"130.0\" y=\"55.0\" width=\"40\" height=\"40\" stroke=\"black\" fill=\"white\" stroke-width=\"1\" /><text x=\"150.0\" y=\"75.0\" dominant-baseline=\"middle\" text-anchor=\"middle\" font-size=\"18px\" font-family=\"Arial\">X</text><rect x=\"190.0\" y=\"5.0\" width=\"40\" height=\"40\" stroke=\"black\" fill=\"white\" stroke-width=\"1\" /><text x=\"210.0\" y=\"25.0\" dominant-baseline=\"middle\" text-anchor=\"middle\" font-size=\"18px\" font-family=\"Arial\">M</text><rect x=\"190.0\" y=\"55.0\" width=\"40\" height=\"40\" stroke=\"black\" fill=\"white\" stroke-width=\"1\" /><text x=\"210.0\" y=\"75.0\" dominant-baseline=\"middle\" text-anchor=\"middle\" font-size=\"18px\" font-family=\"Arial\">M</text></svg>"
      ],
      "text/plain": [
       "<cirq.contrib.svg.svg.SVGCircuit at 0x7fea58b903d0>"
      ]
     },
     "metadata": {},
     "output_type": "display_data"
    },
    {
     "name": "stdout",
     "output_type": "stream",
     "text": [
      "\n",
      "\n",
      "Histogram:\n",
      "\n"
     ]
    },
    {
     "data": {
      "image/png": "[encoded data removed]",
      "text/plain": [
       "<Figure size 640x480 with 1 Axes>"
      ]
     },
     "metadata": {},
     "output_type": "display_data"
    }
   ],
   "source": [
    "# Solve ->\n",
    "\n",
    "import cirq\n",
    "import matplotlib.pyplot as plt\n",
    "\n",
    "\n",
    "my_qubits = cirq.NamedQubit.range(2, prefix='q')          # Creating two named qubits, 'q0' and 'q1'\n",
    "my_circuit = cirq.Circuit()                               # Creating an empty circuit\n",
    "\n",
    "\n",
    "\n",
    "my_circuit.append(cirq.H(my_qubits[0]))                   # Apply H gate to q0: puts it in superposition (|+> state)\n",
    "my_circuit.append(cirq.X(my_qubits[1]))                   # Apply X gate to q1: flips its state to |1>\n",
    "my_circuit.append(cirq.CNOT(my_qubits[0], my_qubits[1]))  # Apply CNOT with q0 as control and q1 as target: entangles qubits\n",
    "\n",
    "\n",
    "\n",
    "\n",
    "my_circuit.append(cirq.measure(my_qubits))                 # Measuring both qubits q0 and q1\n",
    "\n",
    "\n",
    "\n",
    "\n",
    "print(\"Circuit:\\n\")                                         # Printing the circuit structure\n",
    "print(my_circuit)\n",
    "display(SVGCircuit(qc))\n",
    "\n",
    "\n",
    "\n",
    "simulator = cirq.Simulator()\n",
    "results = simulator.run(my_circuit, repetitions=10000)      # Simulating the circuit 10000 times\n",
    "\n",
    "\n",
    "\n",
    "\n",
    "# Plot a histogram of the measurement results\n",
    "histogram = cirq.plot_state_histogram(results, plt.subplot(), title='Qubit States', xlabel='States', ylabel='Occurrence', tick_label=['00', '01', '10', '11'])\n",
    "\n",
    "\n",
    "\n",
    "\n",
    "\n",
    "\n",
    "print(\"\\n\\nHistogram:\\n\")                                     # Displaying the histogram\n",
    "plt.show()\n",
    "\n",
    "\n"
   ]
  }
 ],
 "metadata": {
  "kernelspec": {
   "display_name": "cirq_env",
   "language": "python",
   "name": "python3"
  },
  "language_info": {
   "codemirror_mode": {
    "name": "ipython",
    "version": 3
   },
   "file_extension": ".py",
   "mimetype": "text/x-python",
   "name": "python",
   "nbconvert_exporter": "python",
   "pygments_lexer": "ipython3",
   "version": "3.8.19"
  }
 },
 "nbformat": 4,
 "nbformat_minor": 2
}
