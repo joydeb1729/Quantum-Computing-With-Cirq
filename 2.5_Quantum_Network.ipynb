{
 "cells": [
  {
   "cell_type": "markdown",
   "metadata": {},
   "source": [
    "# **Quantum Network**\n",
    "\n",
    "A **Quantum Network** is a network of quantum systems where qubits are entangled and quantum information is transmitted using quantum teleportation and entanglement swapping. Building a quantum network involves extending entanglement between distant qubits and facilitating secure communication over large distances. Here’s how these concepts contribute to the development of a quantum network:\n",
    "\n",
    "### Building a Quantum Network with Quantum Teleportation and Entanglement Swapping\n",
    "\n",
    "1. **Quantum Teleportation**:\n",
    "   - **Purpose**: Quantum teleportation allows the transfer of quantum information between distant qubits using pre-established entanglement and classical communication. It ensures that the state of a qubit can be transmitted across the network without physically moving the qubit itself.\n",
    "   - **Process**:\n",
    "     - **Preparation**: Alice and Bob share a pair of entangled qubits.\n",
    "     - **Teleportation**: Alice performs measurements on her qubit and the qubit to be teleported. The results are sent to Bob via classical communication.\n",
    "     - **Recovery**: Based on the measurement results, Bob applies corrective operations to his qubit to recreate the teleported state.\n",
    "\n",
    "2. **Entanglement Swapping**:\n",
    "   - **Purpose**: Entanglement swapping allows for the creation of entanglement between two qubits that have never interacted directly. This process is crucial for establishing entanglement over long distances and linking multiple segments of the network.\n",
    "   - **Process**:\n",
    "     - **Initial Entanglement**: Start with entangled pairs and send qubits to a repeater station.\n",
    "     - **Repeater Station**: The repeater entangles the qubits received and performs measurements.\n",
    "     - **Entanglement Extension**: Based on the measurement results, corrective operations are applied to establish entanglement between distant qubits.\n",
    "\n",
    "### Practical Implementation\n",
    "\n",
    "1. **Network Setup**:\n",
    "   - **Entanglement Distribution**: Use quantum teleportation and entanglement swapping to create a network of entangled qubits. Establish initial entanglement pairs and use repeaters to extend the entanglement over long distances.\n",
    "\n",
    "2. **Quantum Communication**:\n",
    "   - **Secure Communication**: Utilize quantum teleportation for secure and instantaneous transmission of quantum information across the network.\n",
    "   - **Error Correction**: Implement quantum error correction to maintain the integrity of the information and compensate for losses or errors.\n",
    "\n",
    "3. **Scalability**:\n",
    "   - **Repeater Networks**: Deploy multiple repeaters to extend the network further and create a global quantum communication infrastructure.\n",
    "   - **Integration**: Integrate quantum networks with classical communication networks to enable hybrid systems that leverage both quantum and classical information processing.\n",
    "\n",
    "\n",
    "Building a quantum network involves using quantum teleportation to transfer quantum information and entanglement swapping to establish entanglement between distant qubits. These techniques facilitate the development of scalable and secure quantum communication systems, paving the way for advancements in quantum computing and distributed quantum information processing.\n"
   ]
  },
  {
   "cell_type": "code",
   "execution_count": 1,
   "metadata": {},
   "outputs": [],
   "source": [
    "import matplotlib.pyplot as plt\n",
    "import numpy as np\n",
    "\n",
    "import cirq\n",
    "\n",
    "def binary_labels(num_qubits):\n",
    "    return [bin(x)[2:].zfill(num_qubits) for x in range (2**num_qubits)]\n",
    "\n",
    "plt.rcParams.update({'font.size': 8})"
   ]
  },
  {
   "cell_type": "markdown",
   "metadata": {},
   "source": [
    "## **Part 1: Preparing Bell States and Quantum Teleportation**"
   ]
  },
  {
   "cell_type": "markdown",
   "metadata": {},
   "source": [
    "### **Part 1.1: Creating Different Bell States**"
   ]
  },
  {
   "cell_type": "markdown",
   "metadata": {},
   "source": [
    "#### 1.1.1: Creating $\\phi^+$ ($B_{00}$)  State\n",
    "\n",
    "The $B_{00}$ state, also known as the $\\phi^+$ state, is represented as:\n",
    "\n",
    "$$\n",
    "|\\phi^+\\rangle = \\frac{1}{\\sqrt{2}}(|00\\rangle + |11\\rangle)\n",
    "$$"
   ]
  },
  {
   "cell_type": "code",
   "execution_count": 2,
   "metadata": {},
   "outputs": [
    {
     "name": "stdout",
     "output_type": "stream",
     "text": [
      "Circuit :\n",
      "\n",
      " q0: ───H───@───\n",
      "           │\n",
      "q1: ───────X───\n",
      "\n",
      "Bell State:  0.71|00⟩ + 0.71|11⟩\n"
     ]
    }
   ],
   "source": [
    "# Create a circuit\n",
    "circuit = cirq.Circuit()\n",
    "\n",
    "# Create two qubits\n",
    "qubits = cirq.NamedQubit.range(2, prefix='q')\n",
    "\n",
    "# Apply a Hadamard gate to the first qubit\n",
    "circuit.append(cirq.H(qubits[0]))\n",
    "\n",
    "# Apply a CNOT gate with the first qubit as control and the second as target\n",
    "circuit.append(cirq.CNOT(qubits[0], qubits[1]))\n",
    "\n",
    "# Bell State\n",
    "bell_state = cirq.final_state_vector(circuit)\n",
    "\n",
    "# Display the circuit and Bell State\n",
    "print('Circuit :\\n\\n',circuit)\n",
    "print('\\nBell State: ', cirq.dirac_notation(bell_state))"
   ]
  },
  {
   "cell_type": "markdown",
   "metadata": {},
   "source": [
    "#### 1.1.2: Creating $\\phi^-$ ($B_{10}$)  State\n",
    "\n",
    "The $B_{10}$ state, also known as the $\\phi^-$ state, is represented as:\n",
    "\n",
    "$$\n",
    "|\\phi^-\\rangle = \\frac{1}{\\sqrt{2}}(|00\\rangle - |11\\rangle)\n",
    "$$\n"
   ]
  },
  {
   "cell_type": "code",
   "execution_count": 3,
   "metadata": {},
   "outputs": [
    {
     "name": "stdout",
     "output_type": "stream",
     "text": [
      "Circuit :\n",
      "\n",
      " q0: ───H───@───Z───\n",
      "           │\n",
      "q1: ───────X───────\n",
      "\n",
      "Bell State:  0.71|00⟩ - 0.71|11⟩\n"
     ]
    }
   ],
   "source": [
    "# Create a circuit\n",
    "circuit = cirq.Circuit()\n",
    "\n",
    "# Create two qubits\n",
    "qubits = cirq.NamedQubit.range(2, prefix='q')\n",
    "\n",
    "# Apply a Hadamard gate to the first qubit\n",
    "circuit.append(cirq.H(qubits[0]))\n",
    "\n",
    "# Apply a CNOT gate with the first qubit as control and the second as target\n",
    "circuit.append(cirq.CNOT(qubits[0], qubits[1]))\n",
    "\n",
    "# Apply a Z gate to the first qubit\n",
    "circuit.append(cirq.Z(qubits[0]))\n",
    "\n",
    "# Bell State\n",
    "bell_state = cirq.final_state_vector(circuit)\n",
    "\n",
    "# Display the circuit and Bell State\n",
    "print('Circuit :\\n\\n',circuit)\n",
    "print('\\nBell State: ', cirq.dirac_notation(bell_state))"
   ]
  },
  {
   "cell_type": "markdown",
   "metadata": {},
   "source": [
    "#### 1.1.3: Creating $\\psi^+$ ($B_{01}$)  State\n",
    "\n",
    "The $B_{01}$ state, also known as the $\\psi^+$ state, is represented as:\n",
    "\n",
    "$$\n",
    "|\\psi^+\\rangle = \\frac{1}{\\sqrt{2}}(|01\\rangle + |10\\rangle)\n",
    "$$\n"
   ]
  },
  {
   "cell_type": "code",
   "execution_count": 4,
   "metadata": {},
   "outputs": [
    {
     "name": "stdout",
     "output_type": "stream",
     "text": [
      "Circuit :\n",
      "\n",
      " q0: ───H───@───X───\n",
      "           │\n",
      "q1: ───────X───────\n",
      "\n",
      "Bell State:  0.71|01⟩ + 0.71|10⟩\n"
     ]
    }
   ],
   "source": [
    "# Create a circuit\n",
    "circuit = cirq.Circuit()\n",
    "\n",
    "# Create two qubits\n",
    "qubits = cirq.NamedQubit.range(2, prefix='q')\n",
    "\n",
    "# Apply a Hadamard gate to the first qubit\n",
    "circuit.append(cirq.H(qubits[0]))\n",
    "\n",
    "# Apply a CNOT gate with the first qubit as control and the second as target\n",
    "circuit.append(cirq.CNOT(qubits[0], qubits[1]))\n",
    "\n",
    "# Apply a X gate to the first qubit\n",
    "circuit.append(cirq.X(qubits[0]))\n",
    "\n",
    "# Bell State\n",
    "bell_state = cirq.final_state_vector(circuit)\n",
    "\n",
    "# Display the circuit and Bell State\n",
    "print('Circuit :\\n\\n',circuit)\n",
    "print('\\nBell State: ', cirq.dirac_notation(bell_state))"
   ]
  },
  {
   "cell_type": "markdown",
   "metadata": {},
   "source": [
    "#### 1.1.4: Creating $\\psi^-$ ($B_{11}$)  State\n",
    "\n",
    "The $B_{11}$ state, also known as the $\\psi^-$ state, is represented as:\n",
    "\n",
    "$$\n",
    "|\\psi^-\\rangle = \\frac{1}{\\sqrt{2}}(|01\\rangle - |10\\rangle)\n",
    "$$\n"
   ]
  },
  {
   "cell_type": "code",
   "execution_count": 5,
   "metadata": {},
   "outputs": [
    {
     "name": "stdout",
     "output_type": "stream",
     "text": [
      "Circuit :\n",
      "\n",
      " q0: ───H───@───X───Z───\n",
      "           │\n",
      "q1: ───────X───────────\n",
      "\n",
      "Bell State:  0.71|01⟩ - 0.71|10⟩\n"
     ]
    }
   ],
   "source": [
    "# Create a circuit\n",
    "circuit = cirq.Circuit()\n",
    "\n",
    "# Create two qubits\n",
    "qubits = cirq.NamedQubit.range(2, prefix='q')\n",
    "\n",
    "# Apply a Hadamard gate to the first qubit\n",
    "circuit.append(cirq.H(qubits[0]))\n",
    "\n",
    "# Apply a CNOT gate with the first qubit as control and the second as target\n",
    "circuit.append(cirq.CNOT(qubits[0], qubits[1]))\n",
    "\n",
    "# Apply a X gate then a Z gate to the first qubit\n",
    "circuit.append(cirq.X(qubits[0]))\n",
    "circuit.append(cirq.Z(qubits[0]))\n",
    "\n",
    "# Bell State\n",
    "bell_state = cirq.final_state_vector(circuit)\n",
    "\n",
    "# Display the circuit and Bell State\n",
    "print('Circuit :\\n\\n',circuit)\n",
    "print('\\nBell State: ', cirq.dirac_notation(bell_state))"
   ]
  },
  {
   "cell_type": "markdown",
   "metadata": {},
   "source": [
    "### **Part 1.2: Preparing Quantum Teleportation Protocol**\n",
    "\n",
    "**Quantum Teleportation** is a quantum information protocol that allows the transfer of the state of a qubit from one location to another without physically moving the qubit itself. This process is foundational for quantum communication and quantum computing, as it enables the transmission of quantum information over distances using entanglement and classical communication.\n",
    "\n",
    "#### Key Concepts\n",
    "\n",
    "1. **Quantum State**: The complete description of a qubit's information, which can be in any superposition of basis states. For example, the state $|\\psi\\rangle = \\alpha|0\\rangle + \\beta|1\\rangle$ represents a general quantum state.\n",
    "\n",
    "2. **Entanglement**: A fundamental quantum phenomenon where two or more qubits become correlated in such a way that the state of one qubit instantly influences the state of the other, regardless of distance. In quantum teleportation, a shared entangled pair between the sender and receiver is crucial.\n",
    "\n",
    "3. **Classical Communication**: The process of transmitting classical information (such as measurement results) between the sender and receiver. This information is used to perform corrective operations on the receiver's qubit to complete the teleportation process.\n",
    "\n",
    "#### Steps in Quantum Teleportation\n",
    "\n",
    "1. **Preparation**:\n",
    "   - **Shared Entanglement**: Alice and Bob share an entangled pair of qubits. This entangled pair acts as a resource for teleportation.\n",
    "\n",
    "2. **Teleportation Process**:\n",
    "   - **State Preparation**: Alice prepares a qubit in the state $|\\psi\\rangle$ that she wants to teleport.\n",
    "   - **Measurement**: Alice performs a joint measurement (Bell state measurement) on her qubit and the entangled pair. This measurement collapses the qubit state into one of the Bell states, and the result is sent to Bob.\n",
    "\n",
    "3. **Classical Communication**:\n",
    "   - **Sending Results**: Alice sends the measurement results to Bob via classical channels. This information is used to determine which corrective operations Bob needs to apply.\n",
    "\n",
    "4. **Correction and Recovery**:\n",
    "   - **Bob’s Corrections**: Based on Alice's measurement results, Bob applies a set of corrective operations (such as X and Z gates) to his entangled qubit to reconstruct the teleported state.\n",
    "\n",
    "5. **Outcome**:\n",
    "   - **Final State**: After applying the corrective operations, Bob's qubit now holds the state that Alice originally prepared, effectively completing the teleportation."
   ]
  },
  {
   "cell_type": "markdown",
   "metadata": {},
   "source": [
    "#### Step 1.2.1: Alice and Bob Share a Bell Pair and Go Their Separate Ways\n",
    "\n",
    "- This step involves one qubit representing the message to be sent, and two qubits for Alice and Bob.\n",
    "- There is also one classical bit for each measurement.\n",
    "- We create a Bell state using Alice's and Bob's qubits."
   ]
  },
  {
   "cell_type": "code",
   "execution_count": 6,
   "metadata": {},
   "outputs": [
    {
     "name": "stdout",
     "output_type": "stream",
     "text": [
      "Alice: ───H───@───\n",
      "              │\n",
      "Bob: ─────────X───\n"
     ]
    }
   ],
   "source": [
    "circuit = cirq.Circuit()\n",
    "\n",
    "# Define qubits\n",
    "msg = cirq.NamedQubit('Message')\n",
    "alice = cirq.NamedQubit('Alice')\n",
    "bob = cirq.NamedQubit('Bob')\n",
    "\n",
    "# Entangle Alice's and Bob's qubits\n",
    "circuit.append(cirq.H(alice))\n",
    "circuit.append(cirq.CNOT(alice, bob))\n",
    "\n",
    "# Display the circuit\n",
    "print(circuit)"
   ]
  },
  {
   "cell_type": "markdown",
   "metadata": {},
   "source": [
    "#### Step 1.2.2: Alice Prepares a Special State to Teleport to Bob\n",
    "\n",
    "- Prepare the teleportation qubit in the $|1\\rangle$ state."
   ]
  },
  {
   "cell_type": "code",
   "execution_count": 7,
   "metadata": {},
   "outputs": [
    {
     "data": {
      "text/html": [
       "<pre style=\"overflow: auto; white-space: pre;\">Alice: ─────H───@───\n",
       "                │\n",
       "Bob: ───────────X───\n",
       "\n",
       "Message: ───X───────</pre>"
      ],
      "text/plain": [
       "Alice: ─────H───@───\n",
       "                │\n",
       "Bob: ───────────X───\n",
       "\n",
       "Message: ───X───────"
      ]
     },
     "execution_count": 7,
     "metadata": {},
     "output_type": "execute_result"
    }
   ],
   "source": [
    "circuit.append(cirq.X(msg))\n",
    "\n",
    "circuit"
   ]
  },
  {
   "cell_type": "markdown",
   "metadata": {},
   "source": [
    "#### Step 1.2.3: Alice Measures Her Half of the Entangled Pair and Her Special State in the Entangled Basis\n",
    "\n",
    "- Apply a CNOT gate with the `msg` qubit as control and `alice` qubit as the target.\n",
    "- Apply a Hadamard gate to the `msg` qubit.\n",
    "- Measure both `msg` and `alice` qubits."
   ]
  },
  {
   "cell_type": "code",
   "execution_count": 8,
   "metadata": {},
   "outputs": [
    {
     "data": {
      "text/html": [
       "<pre style=\"overflow: auto; white-space: pre;\">Alice: ─────H───@───X───────M───\n",
       "                │   │       │\n",
       "Bob: ───────────X───┼───────┼───\n",
       "                    │       │\n",
       "Message: ───X───────@───H───M───</pre>"
      ],
      "text/plain": [
       "Alice: ─────H───@───X───────M───\n",
       "                │   │       │\n",
       "Bob: ───────────X───┼───────┼───\n",
       "                    │       │\n",
       "Message: ───X───────@───H───M───"
      ]
     },
     "execution_count": 8,
     "metadata": {},
     "output_type": "execute_result"
    }
   ],
   "source": [
    "circuit.append(cirq.CNOT(msg, alice))\n",
    "circuit.append(cirq.H(msg))\n",
    "circuit.append(cirq.measure(msg, alice))\n",
    "\n",
    "circuit"
   ]
  },
  {
   "cell_type": "markdown",
   "metadata": {},
   "source": [
    "#### Step 1.2.4: Alice Sends Bob Her Measurement Results Over a Classical Channel\n",
    "\n",
    "- Alice communicates her measurement results to Bob via a classical channel.\n",
    "- This information is necessary for Bob to perform the appropriate corrections on his qubit to complete the teleportation process."
   ]
  },
  {
   "cell_type": "markdown",
   "metadata": {},
   "source": [
    "#### Step 1.2.5: Bob Adjusts His Half of the Bell Pair Based on Alice's Measurement Results\n",
    "\n",
    "- Apply an X gate to Bob's qubit if Alice's measurement result is 1 (corresponding to the CNOT gate).\n",
    "- Apply a Z gate to Bob's qubit if the measurement of the teleported qubit is 1 (corresponding to the CZ gate).\n",
    "- Measure Bob's qubit to obtain the final state."
   ]
  },
  {
   "cell_type": "code",
   "execution_count": 9,
   "metadata": {},
   "outputs": [
    {
     "name": "stdout",
     "output_type": "stream",
     "text": [
      "Final Circuit: \n",
      "\n",
      " Alice: ─────H───@───X───────M───@───────────\n",
      "                │   │       │   │\n",
      "Bob: ───────────X───┼───────┼───X───@───M───\n",
      "                    │       │       │\n",
      "Message: ───X───────@───H───M───────@───────\n"
     ]
    }
   ],
   "source": [
    "circuit.append(cirq.CNOT(alice, bob))\n",
    "circuit.append(cirq.CZ(msg, bob))\n",
    "\n",
    "circuit.append(cirq.measure(bob))\n",
    "\n",
    "print('Final Circuit: \\n\\n',circuit)"
   ]
  },
  {
   "cell_type": "markdown",
   "metadata": {},
   "source": [
    "#### Step 1.2.6: Simulating Quantum Teleportation"
   ]
  },
  {
   "cell_type": "code",
   "execution_count": 10,
   "metadata": {},
   "outputs": [
    {
     "data": {
      "image/png": "[encoded data removed]",
      "text/plain": [
       "<Figure size 640x480 with 1 Axes>"
      ]
     },
     "metadata": {},
     "output_type": "display_data"
    }
   ],
   "source": [
    "sim = cirq.Simulator()\n",
    "\n",
    "results = sim.run(circuit, repetitions=100)\n",
    "\n",
    "hist = cirq.plot_state_histogram(results, plt.subplot(), title= 'Quantum Teleportation', xlabel='Sates', ylabel='Occurrences', tick_label=binary_labels(3))\n",
    "\n",
    "plt.show()"
   ]
  },
  {
   "cell_type": "markdown",
   "metadata": {},
   "source": [
    "### Results and Explanation\n",
    "\n",
    "After simulating the quantum teleportation circuit and plotting the histogram of measurement results, you should observe the following:\n",
    "\n",
    "- **Histogram Analysis**:\n",
    "  - The histogram will display the occurrences of different qubit states after running the simulation.\n",
    "  - Due to the nature of quantum teleportation, the result should show only non-zero counts where the third qubit (the `msg` qubit) is in the $|1\\rangle$ state.\n",
    "\n",
    "- **Why the Results are Correct**:\n",
    "  - In the teleportation protocol, the `msg` qubit is prepared in the $|1\\rangle$ state initially. After teleportation, Bob's qubit should end up in the state that was originally prepared in the `msg` qubit.\n",
    "  - Alice's measurements and subsequent operations on Bob's qubit ensure that Bob's qubit accurately represents the state of the `msg` qubit.\n",
    "  - The histogram should therefore only have non-zero counts where the measurement result reflects the state of the `msg` qubit as $|1\\rangle$.\n",
    "\n",
    "- **Expected Outcome**:\n",
    "  - Given the setup, the final state of the `msg` qubit after teleportation will be the state that Bob's qubit is in, which should correspond to the state that was originally prepared.\n",
    "  - Since the `msg` qubit was initially set to $|1\\rangle$, and assuming perfect teleportation, the histogram should show that the state $|1\\rangle$ is observed with high probability.\n",
    "\n",
    "This result confirms that the quantum teleportation protocol has correctly transferred the state of the `msg` qubit to Bob's qubit, as expected.\n"
   ]
  },
  {
   "cell_type": "markdown",
   "metadata": {},
   "source": [
    "## Question: Modified Code to Send $|+\\rangle$ State\n",
    "\n",
    "The goal is to modify the quantum teleportation code to send the $|+\\rangle$ state instead of the $|1\\rangle$ state.\n",
    "\n",
    "### Modified Circuit Description\n",
    "\n",
    "- **Initial Setup**: Entangle Alice's and Bob's qubits.\n",
    "- **Prepare the State**: Set the `msg` qubit to the $|+\\rangle$ state.\n",
    "- **Teleportation Process**:\n",
    "  - Perform entanglement and measurement operations.\n",
    "  - Apply corrections based on Alice's measurements."
   ]
  },
  {
   "cell_type": "code",
   "execution_count": 11,
   "metadata": {},
   "outputs": [
    {
     "name": "stdout",
     "output_type": "stream",
     "text": [
      "Final Circuit: \n",
      "\n",
      " Alice: ─────H───@───X───────M───@───────────\n",
      "                │   │       │   │\n",
      "Bob: ───────────X───┼───────┼───X───@───M───\n",
      "                    │       │       │\n",
      "Message: ───H───────@───H───M───────@───────\n"
     ]
    },
    {
     "data": {
      "image/png": "[encoded data removed]",
      "text/plain": [
       "<Figure size 640x480 with 1 Axes>"
      ]
     },
     "metadata": {},
     "output_type": "display_data"
    }
   ],
   "source": [
    "# Define the circuit\n",
    "circuit = cirq.Circuit()\n",
    "\n",
    "# Define qubits\n",
    "msg = cirq.NamedQubit('Message')\n",
    "alice = cirq.NamedQubit('Alice')\n",
    "bob = cirq.NamedQubit('Bob')\n",
    "\n",
    "# Entangle Alice's and Bob's qubits\n",
    "circuit.append(cirq.H(alice))\n",
    "circuit.append(cirq.CNOT(alice, bob))\n",
    "\n",
    "# Prepare the |+⟩ state on the msg qubit\n",
    "circuit.append(cirq.H(msg))                     # Prepare |+⟩ state\n",
    "\n",
    "# Perform the teleportation protocol\n",
    "circuit.append(cirq.CNOT(msg, alice))\n",
    "circuit.append(cirq.H(msg))\n",
    "circuit.append(cirq.measure(msg, alice))\n",
    "\n",
    "# Apply corrections based on Alice's measurements\n",
    "circuit.append(cirq.CNOT(alice, bob))\n",
    "circuit.append(cirq.CZ(msg, bob))\n",
    "\n",
    "# Measure Bob's qubit\n",
    "circuit.append(cirq.measure(bob))\n",
    "\n",
    "# Print the final circuit\n",
    "print('Final Circuit: \\n\\n', circuit)\n",
    "\n",
    "# Run the simulation\n",
    "sim = cirq.Simulator()\n",
    "results = sim.run(circuit, repetitions=100)\n",
    "\n",
    "# Plot the histogram of the measurement results\n",
    "hist = cirq.plot_state_histogram(results, plt.subplot(), title='Quantum Teleportation', xlabel='States', ylabel='Occurrences', tick_label=binary_labels(3))\n",
    "\n",
    "plt.show()"
   ]
  },
  {
   "cell_type": "markdown",
   "metadata": {},
   "source": [
    "### Explanation of Results\n",
    "\n",
    "The histogram shows no zero counts because:\n",
    "\n",
    "- **Initial State**: The `msg` qubit is prepared in the $|+\\rangle$ state, which is a superposition of $|0\\rangle$ and $|1\\rangle$. \n",
    "- **Teleportation Protocol**: The teleportation protocol transfers the state of the `msg` qubit to Bob's qubit. Since the `msg` qubit was initially in the $|+\\rangle$ state, this state is teleported to Bob's qubit.\n",
    "- **Measurement Outcomes**: In quantum teleportation, the final state of Bob's qubit reflects the initial state of the `msg` qubit. As a result, the histogram should show counts for states corresponding to the $|+\\rangle$ state of the `msg` qubit. \n",
    "\n",
    "Given that the $|+\\rangle$ state is equally likely to collapse to $|0\\rangle$ or $|1\\rangle$ upon measurement, we will observe both states with non-zero counts in the histogram, reflecting the superposition nature of the $|+\\rangle$ state.\n"
   ]
  },
  {
   "cell_type": "markdown",
   "metadata": {},
   "source": [
    "## **Part 2: Entanglement Swapping**\n",
    "\n",
    "**Entanglement Swapping** is a quantum information protocol that allows the creation of entanglement between two qubits that have never interacted directly. This process is particularly important in quantum communication and quantum networking, as it enables the extension of entanglement across long distances.\n",
    "\n",
    "#### Key Concepts\n",
    "\n",
    "1. **Entanglement**: A fundamental quantum phenomenon where two or more qubits become linked, such that the state of one qubit instantly influences the state of the other, no matter how far apart they are.\n",
    "\n",
    "2. **Quantum Teleportation**: A process that allows the state of a qubit to be transferred from one location to another using entanglement and classical communication. It involves creating entanglement between qubits and performing measurements to transfer quantum information.\n",
    "\n",
    "3. **Repeater**: A device or protocol used to extend quantum communication over long distances by creating entanglement between qubits and facilitating entanglement swapping. The repeater performs entanglement generation and measurement steps, sending classical information to other parties to ensure that the qubits become entangled even if they were initially far apart.\n",
    "\n",
    "#### Steps in Entanglement Swapping\n",
    "\n",
    "1. **Initial Entanglement**:\n",
    "   - **Setup**: Start with two pairs of entangled qubits. For example, we have qubits $A_1$ and $A_2$ in one Bell state and qubits $B_1$ and $B_2$ in another Bell state.\n",
    "   - **Bell State Pairs**: These are maximally entangled pairs like $ \\left| \\Phi^+ \\right\\rangle = \\frac{1}{\\sqrt{2}}(\\left| 00 \\right\\rangle + \\left| 11 \\right\\rangle) $.\n",
    "\n",
    "2. **Send Qubits to Repeater**:\n",
    "   - **Preparation**: Entangle qubits $A_2$ and $B_1$ with each other at a repeater station. This involves creating a new Bell pair between these qubits.\n",
    "\n",
    "3. **Entangle Qubits at Repeater**:\n",
    "   - **Entanglement Formation**: Create a Bell pair between the repeater's qubits $A_2$ and $B_1$.\n",
    "   - **Measurements**: Measure the repeater's qubits $A_2$ and $B_1$. The measurement outcomes are sent to Alice and Bob.\n",
    "\n",
    "4. **Apply Conditional Operations**:\n",
    "   - **Alice**: Based on the measurement result from the repeater, Alice applies a corrective operation (e.g., a Z gate) to her qubit $A_1$ if needed.\n",
    "   - **Bob**: Similarly, Bob applies a corrective operation (e.g., an X gate) to his qubit $B_2$ based on the repeater's measurements.\n",
    "\n",
    "5. **Measurement**:\n",
    "   - **Final State**: Measure the final states of Alice's and Bob's qubits. The outcomes will show that $A_1$ and $B_2$ are now entangled, even though they were never directly interacted."
   ]
  },
  {
   "cell_type": "markdown",
   "metadata": {},
   "source": [
    "#### Step 2.1: Initialize 4-Qubits\n",
    "\n",
    "- Define four qubits, which will be used for the entanglement swapping process."
   ]
  },
  {
   "cell_type": "code",
   "execution_count": 12,
   "metadata": {},
   "outputs": [],
   "source": [
    "qubits = cirq.NamedQubit.range(4, prefix='q')"
   ]
  },
  {
   "cell_type": "markdown",
   "metadata": {},
   "source": [
    "#### Step 2.2: Create Bell Pair\n",
    "\n",
    "- Create a Bell pair between `qubits[0]` and `qubits[1]` (Alice's qubits).\n",
    "- Create another Bell pair between `qubits[2]` and `qubits[3]` (Bob's qubits).\n"
   ]
  },
  {
   "cell_type": "code",
   "execution_count": 13,
   "metadata": {},
   "outputs": [
    {
     "name": "stdout",
     "output_type": "stream",
     "text": [
      "q0: ───H───@───\n",
      "           │\n",
      "q1: ───────X───\n",
      "\n",
      "q2: ───H───@───\n",
      "           │\n",
      "q3: ───────X───\n"
     ]
    }
   ],
   "source": [
    "# Define the circuit\n",
    "circuit = cirq.Circuit()\n",
    "\n",
    "# Creating Bell Pair between qubits[0] and qubits[1] (Alice's qubits)\n",
    "circuit.append(cirq.H(qubits[0]))\n",
    "circuit.append(cirq.CNOT(qubits[0], qubits[1]))\n",
    "\n",
    "# Creating Bell Pair between qubits[2] and qubits[3] (Bob's qubits)\n",
    "circuit.append(cirq.H(qubits[2]))\n",
    "circuit.append(cirq.CNOT(qubits[2], qubits[3]))\n",
    "\n",
    "# Display the circuit\n",
    "print(circuit)"
   ]
  },
  {
   "cell_type": "markdown",
   "metadata": {},
   "source": [
    "#### Step 2.3: Alice and Bob Each Send Half of Their Bell Pair to the Repeater\n",
    "\n",
    "- **$q_0$**: Alice's qubit.\n",
    "- **$q_1$**: Qubit from Alice's Bell pair sent to the Repeater.\n",
    "- **$q_2$**: Qubit from Bob's Bell pair sent to the Repeater.\n",
    "- **$q_3$**: Bob's qubit.\n",
    "\n",
    "In this step, Alice and Bob each send one qubit from their respective Bell pairs to a central repeater.\n"
   ]
  },
  {
   "cell_type": "markdown",
   "metadata": {},
   "source": [
    "#### Step 2.4: Quantum Teleportation\n",
    "\n",
    "- The qubit from the repeater corresponding to Alice's Bell pair (`qubits[1]`) is the qubit to be teleported.\n",
    "- The qubit from the repeater corresponding to Bob's Bell pair (`qubits[2]`) is half of its entangled pair with Bob.\n",
    "- Bob's qubit (`qubits[3]`) is the qubit that will receive the teleported state.\n",
    "\n",
    "**In Practice**\n",
    "\n",
    "- **The Repeater**:\n",
    "  - Entangles `qubits[1]` (Alice's repeater qubit) and `qubits[2]` (Bob's repeater qubit) to form a standard Bell pair.\n",
    "  - Measures `qubits[1]` and `qubits[2]` and sends the results to Alice and Bob, respectively.\n",
    "\n",
    "- **Alice**:\n",
    "  - Applies a Z gate to `qubits[0]` (Alice's qubit) only if `qubits[1]` is in the $|1\\rangle$ state.\n",
    "  - Measures `qubits[0]`.\n",
    "\n",
    "- **Bob**:\n",
    "  - Applies an X gate to `qubits[3]` (Bob's qubit) only if `qubits[2]` is in the $|1\\rangle$ state.\n",
    "  - Measures `qubits[3]`."
   ]
  },
  {
   "cell_type": "code",
   "execution_count": 14,
   "metadata": {},
   "outputs": [
    {
     "name": "stdout",
     "output_type": "stream",
     "text": [
      "q0: ───H───@───────────────@───M───\n",
      "           │               │\n",
      "q1: ───────X───H───@───M───@───────\n",
      "                   │   │\n",
      "q2: ───H───@───────X───M───@───────\n",
      "           │               │\n",
      "q3: ───────X───────────────X───M───\n"
     ]
    }
   ],
   "source": [
    "# Creating a Bell pair between qubits[1] and qubits[2] (the repeater's qubits)\n",
    "circuit.append(cirq.H(qubits[1]))\n",
    "circuit.append(cirq.CNOT(qubits[1], qubits[2]))\n",
    "\n",
    "# Measure qubits[1] and qubits[2]\n",
    "circuit.append(cirq.measure(qubits[1], qubits[2]))\n",
    "\n",
    "# Apply Z gate to qubits[0] if qubits[1] is in the |1⟩ state\n",
    "circuit.append(cirq.CZ(qubits[1], qubits[0]))\n",
    "circuit.append(cirq.measure(qubits[0]))\n",
    "\n",
    "# Apply X gate to qubits[3] if qubits[2] is in the |1⟩ state\n",
    "circuit.append(cirq.CX(qubits[2], qubits[3]))\n",
    "circuit.append(cirq.measure(qubits[3]))\n",
    "\n",
    "# Display the circuit\n",
    "print(circuit)\n"
   ]
  },
  {
   "cell_type": "markdown",
   "metadata": {},
   "source": [
    "#### Step 2.5: Simulate the result 1000 times"
   ]
  },
  {
   "cell_type": "code",
   "execution_count": 15,
   "metadata": {},
   "outputs": [
    {
     "data": {
      "image/png": "[encoded data removed]",
      "text/plain": [
       "<Figure size 640x480 with 1 Axes>"
      ]
     },
     "metadata": {},
     "output_type": "display_data"
    }
   ],
   "source": [
    "# Run the simulation\n",
    "sim = cirq.Simulator()\n",
    "results = sim.run(circuit, repetitions=1000)\n",
    "\n",
    "# Plot the histogram of the measurement results\n",
    "hist = cirq.plot_state_histogram(results, plt.subplot(), title='Entanglement Swapping', xlabel='States', ylabel='Occurrences', tick_label=binary_labels(4))\n",
    "\n",
    "plt.show()"
   ]
  },
  {
   "cell_type": "markdown",
   "metadata": {},
   "source": [
    "### Explanation of Results\n",
    "\n",
    "In the histogram, we observe non-zero counts only for states where the 1st and 4th qubits (i.e., `qubits[0]` and `qubits[3]`, or `q0` and `q3`) are the same. This indicates that the entanglement swap was successful. Here’s why:\n",
    "\n",
    "1. **Entanglement Swapping Process**:\n",
    "   - The goal of entanglement swapping is to entangle two qubits (`q0` and `q3`) that were not directly entangled before.\n",
    "   - This is achieved by using a repeater that first entangles `q1` and `q2` and then performs quantum teleportation, transferring the entanglement from `q1` and `q2` to `q0` and `q3`.\n",
    "\n",
    "2. **Conditional Operations**:\n",
    "   - The repeater entangles `q1` and `q2` and measures them, sending the measurement results to Alice and Bob.\n",
    "   - Alice applies a Z gate to `q0` if `q1` is in the $|1\\rangle$ state, and Bob applies an X gate to `q3` if `q2` is in the $|1\\rangle$ state.\n",
    "\n",
    "3. **Measurement and Results**:\n",
    "   - After applying the appropriate gates based on the measurement results from the repeater, `q0` and `q3` become entangled.\n",
    "   - The histogram reflects the measurement outcomes of `q0` and `q3`. Since entanglement swapping ensures that `q0` and `q3` are correlated, the only states with non-zero counts in the histogram are those where `q0` and `q3` have the same value (either both are 0 or both are 1).\n",
    "\n",
    "4. **Conclusion**:\n",
    "   - The non-zero counts in the histogram for states where `q0` and `q3` are the same confirm that the entanglement swap was successful.\n",
    "   - If `q0` and `q3` had different values, this would indicate a failure in the entanglement swapping process.\n",
    "\n",
    "This result demonstrates that the entanglement swap worked correctly, successfully entangling the qubits `q0` and `q3` through the repeater and the subsequent quantum teleportation process.\n"
   ]
  }
 ],
 "metadata": {
  "kernelspec": {
   "display_name": "cirq_env",
   "language": "python",
   "name": "python3"
  },
  "language_info": {
   "codemirror_mode": {
    "name": "ipython",
    "version": 3
   },
   "file_extension": ".py",
   "mimetype": "text/x-python",
   "name": "python",
   "nbconvert_exporter": "python",
   "pygments_lexer": "ipython3",
   "version": "3.8.19"
  }
 },
 "nbformat": 4,
 "nbformat_minor": 2
}
