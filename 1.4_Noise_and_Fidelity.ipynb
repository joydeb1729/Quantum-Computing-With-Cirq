{
 "cells": [
  {
   "cell_type": "markdown",
   "metadata": {},
   "source": [
    "# Noise and Fidelity in Quantum Computing\n",
    "\n",
    "In quantum computing, **noise** and **fidelity** are critical concepts that affect the performance and reliability of quantum systems.\n",
    "\n",
    "## Noise\n",
    "\n",
    "1. **Definition**: \n",
    "   - Noise in quantum computing refers to any unwanted interactions or errors that occur in a quantum system, affecting the quantum states or the operations performed on them.\n",
    "\n",
    "2. **Sources of Noise**:\n",
    "   - **Decoherence**: The process by which quantum information is lost to the environment, causing the system to lose its quantum properties.\n",
    "   - **Gate Errors**: Imperfections in the implementation of quantum gates, leading to inaccuracies in quantum operations.\n",
    "   - **Measurement Errors**: Inaccuracies in reading the state of a qubit, leading to incorrect results.\n",
    "\n",
    "3. **Impact**: \n",
    "   - Noise can degrade the performance of quantum algorithms by altering the intended quantum states, causing errors in computation, and reducing the overall reliability of the quantum system.\n",
    "\n",
    "4. **Types of Noise**:\n",
    "   - **Depolarizing Noise**: A type of noise where a qubit's state is replaced with a completely mixed state with a certain probability.\n",
    "   - **Amplitude Damping**: A noise process where energy is lost from the quantum system, typically affecting the probability amplitudes.\n",
    "   - **Phase Damping**: A noise process that causes dephasing, altering the relative phase between the components of a quantum state.\n",
    "\n",
    "5. **Mitigation**: \n",
    "   - Quantum error correction and noise mitigation techniques are developed to reduce the impact of noise and improve the fidelity of quantum computations.\n",
    "\n",
    "## Fidelity\n",
    "\n",
    "1. **Definition**: \n",
    "   - Fidelity is a measure of how closely a quantum state or operation matches an ideal or reference state or operation. It quantifies the accuracy of quantum operations and the preservation of quantum information.\n",
    "\n",
    "2. **Measurement**: \n",
    "   - Fidelity is typically calculated as the overlap between the ideal quantum state and the actual quantum state produced by a noisy operation.\n",
    "\n",
    "3. **Importance**:\n",
    "   - High fidelity indicates that a quantum system or operation closely approximates the desired outcome, making it reliable for quantum computation.\n",
    "   - Fidelity is crucial for evaluating the performance of quantum devices and algorithms, as it provides a benchmark for how well they preserve quantum information.\n",
    "\n",
    "4. **Applications**:\n",
    "   - Fidelity is used to assess the effectiveness of quantum gates, circuits, and algorithms.\n",
    "   - It helps in diagnosing and improving quantum systems by identifying sources of error and optimizing operations to enhance performance.\n",
    "\n",
    "5. **Relation to Noise**: \n",
    "   - Fidelity is inversely related to noise; as noise increases, fidelity typically decreases. Understanding and mitigating noise is essential for improving fidelity in quantum computations.\n",
    "\n",
    "## Importance of Noise Simulation\n",
    "\n",
    "1. **Predicting Performance**: \n",
    "   - Noise simulation allows researchers to predict how quantum circuits will perform under realistic conditions. By understanding potential sources of error, researchers can better design and test quantum algorithms.\n",
    "\n",
    "2. **Developing Error Correction**: \n",
    "   - Simulating noise helps in the development and testing of error correction protocols, which are essential for maintaining the integrity of quantum information in noisy environments.\n",
    "\n",
    "3. **Optimizing Quantum Systems**:\n",
    "   - Noise simulations enable the optimization of quantum systems by allowing researchers to identify weak points in the circuit or system design that are susceptible to noise.\n",
    "\n",
    "4. **Benchmarking and Comparison**: \n",
    "   - Simulations provide a benchmark for comparing different quantum devices and algorithms, helping to determine which configurations are more robust against noise.\n",
    "\n",
    "5. **Advancing Quantum Technology**: \n",
    "   - Understanding the effects of noise through simulation is critical for advancing quantum technology from theoretical models to practical applications, ensuring the development of scalable, reliable quantum computers.\n",
    "\n",
    "In summary, noise is an inherent challenge in quantum computing that disrupts quantum states, while fidelity serves as a crucial metric for evaluating the accuracy and reliability of quantum operations in the presence of noise. Simulating noise is essential for understanding, mitigating, and ultimately overcoming these challenges to build practical and robust quantum systems.\n"
   ]
  },
  {
   "cell_type": "code",
   "execution_count": 1,
   "metadata": {},
   "outputs": [],
   "source": [
    "import random\n",
    "import matplotlib.pyplot as plt\n",
    "import numpy as np\n",
    "import cirq\n",
    "from cirq.contrib.svg import SVGCircuit\n",
    "\n",
    "def binary_labels(num_qubits):\n",
    "    return [bin(x)[2:].zfill(num_qubits) for x in range (2**num_qubits)]\n",
    "\n",
    "plt.rcParams.update({'font.size': 8})"
   ]
  },
  {
   "cell_type": "markdown",
   "metadata": {},
   "source": [
    "## Part 1: Noisy Simulations"
   ]
  },
  {
   "cell_type": "markdown",
   "metadata": {},
   "source": [
    "**Creating Qubits and Circuit :**"
   ]
  },
  {
   "cell_type": "code",
   "execution_count": 2,
   "metadata": {},
   "outputs": [
    {
     "name": "stderr",
     "output_type": "stream",
     "text": [
      "findfont: Font family 'Arial' not found.\n"
     ]
    },
    {
     "name": "stderr",
     "output_type": "stream",
     "text": [
      "findfont: Font family 'Arial' not found.\n",
      "findfont: Font family 'Arial' not found.\n",
      "findfont: Font family 'Arial' not found.\n",
      "findfont: Font family 'Arial' not found.\n",
      "findfont: Font family 'Arial' not found.\n",
      "findfont: Font family 'Arial' not found.\n"
     ]
    },
    {
     "data": {
      "image/svg+xml": [
       "<svg xmlns=\"http://www.w3.org/2000/svg\" width=\"280.0\" height=\"100.0\"><line x1=\"30.0\" x2=\"250.0\" y1=\"25.0\" y2=\"25.0\" stroke=\"#1967d2\" stroke-width=\"1\" /><line x1=\"30.0\" x2=\"250.0\" y1=\"75.0\" y2=\"75.0\" stroke=\"#1967d2\" stroke-width=\"1\" /><line x1=\"150.0\" x2=\"150.0\" y1=\"25.0\" y2=\"75.0\" stroke=\"black\" stroke-width=\"3\" /><line x1=\"210.0\" x2=\"210.0\" y1=\"25.0\" y2=\"75.0\" stroke=\"black\" stroke-width=\"3\" /><rect x=\"10.0\" y=\"5.0\" width=\"40\" height=\"40\" stroke=\"black\" fill=\"white\" stroke-width=\"0\" /><text x=\"30.0\" y=\"25.0\" dominant-baseline=\"middle\" text-anchor=\"middle\" font-size=\"14px\" font-family=\"Arial\">q0: </text><rect x=\"10.0\" y=\"55.0\" width=\"40\" height=\"40\" stroke=\"black\" fill=\"white\" stroke-width=\"0\" /><text x=\"30.0\" y=\"75.0\" dominant-baseline=\"middle\" text-anchor=\"middle\" font-size=\"14px\" font-family=\"Arial\">q1: </text><rect x=\"70.0\" y=\"5.0\" width=\"40\" height=\"40\" stroke=\"black\" fill=\"white\" stroke-width=\"1\" /><text x=\"90.0\" y=\"25.0\" dominant-baseline=\"middle\" text-anchor=\"middle\" font-size=\"18px\" font-family=\"Arial\">H</text><circle cx=\"150.0\" cy=\"25.0\" r=\"10.0\" /><rect x=\"130.0\" y=\"55.0\" width=\"40\" height=\"40\" stroke=\"black\" fill=\"white\" stroke-width=\"1\" /><text x=\"150.0\" y=\"75.0\" dominant-baseline=\"middle\" text-anchor=\"middle\" font-size=\"18px\" font-family=\"Arial\">X</text><rect x=\"190.0\" y=\"5.0\" width=\"40\" height=\"40\" stroke=\"black\" fill=\"white\" stroke-width=\"1\" /><text x=\"210.0\" y=\"25.0\" dominant-baseline=\"middle\" text-anchor=\"middle\" font-size=\"18px\" font-family=\"Arial\">M</text><rect x=\"190.0\" y=\"55.0\" width=\"40\" height=\"40\" stroke=\"black\" fill=\"white\" stroke-width=\"1\" /><text x=\"210.0\" y=\"75.0\" dominant-baseline=\"middle\" text-anchor=\"middle\" font-size=\"18px\" font-family=\"Arial\">M</text></svg>"
      ],
      "text/plain": [
       "<cirq.contrib.svg.svg.SVGCircuit at 0x7fb099dc2100>"
      ]
     },
     "metadata": {},
     "output_type": "display_data"
    }
   ],
   "source": [
    "qubits = cirq.NamedQubit.range(2, prefix='q')\n",
    "circuit = cirq.Circuit()\n",
    "\n",
    "circuit.append(cirq.H(qubits[0]))\n",
    "circuit.append(cirq.CNOT(qubits[0], qubits[1]))\n",
    "\n",
    "circuit.append(cirq.measure(qubits))\n",
    "\n",
    "display(SVGCircuit(circuit))"
   ]
  },
  {
   "cell_type": "markdown",
   "metadata": {},
   "source": [
    "### 1.1: Adding general noises\n",
    "\n",
    "- Simulating noise by adding it generally to the circuit using  `.with_noise(...)` method"
   ]
  },
  {
   "cell_type": "markdown",
   "metadata": {},
   "source": [
    "#### Question 1.1.1 :\n",
    "\n",
    "- Simulate this circuit with 5% chance of depolarizing noise\n"
   ]
  },
  {
   "cell_type": "code",
   "execution_count": 3,
   "metadata": {},
   "outputs": [
    {
     "data": {
      "image/png": "[encoded data removed]",
      "text/plain": [
       "<Figure size 640x480 with 1 Axes>"
      ]
     },
     "metadata": {},
     "output_type": "display_data"
    }
   ],
   "source": [
    "noise = cirq.depolarize(0.05)                                       # Defining a noise model \n",
    "\n",
    "simulator = cirq.Simulator()                                        # Initializing the Cirq simulator\n",
    "\n",
    "result = simulator.run(circuit.with_noise(noise), repetitions=100)   # Running the circuit with the noise model\n",
    "\n",
    "\n",
    "hist = cirq.plot_state_histogram(result, plt.subplot(), title = '5% Depolarization', xlabel='States', ylabel='Occurrences', tick_label=binary_labels(2))\n",
    "\n",
    "plt.show()"
   ]
  },
  {
   "cell_type": "markdown",
   "metadata": {},
   "source": [
    "### Conclusion After Simulating the Circuit with Noise\n",
    "\n",
    "After simulating the quantum circuit with a depolarizing noise model, we observe the following:\n",
    "\n",
    "1. **Effect on Superposition and Entanglement**:\n",
    "   - In the absence of noise, the Hadamard and CNOT gates create a superposition and entangled state of the qubits.\n",
    "   - The 5% depolarizing noise introduces random errors, leading to a mixture of states rather than the pure states expected in an ideal scenario.\n",
    "\n",
    "2. **Impact on Measurement Outcomes**:\n",
    "   - The histogram of measurement outcomes shows increased variability compared to the ideal case.\n",
    "   - Probabilities for certain quantum states (e.g., $|00\\rangle$ or $|11\\rangle$) are reduced, while non-zero probabilities appear for states that ideally should not occur."
   ]
  },
  {
   "cell_type": "markdown",
   "metadata": {},
   "source": [
    "### 1.2: Appending Noise to a specific moment"
   ]
  },
  {
   "cell_type": "markdown",
   "metadata": {},
   "source": [
    "#### Question 1.2.1:\n",
    "\n",
    "- Simulate the circuit with a 100% chance of depolarizing noise on just q0 before applying H-Gate"
   ]
  },
  {
   "cell_type": "code",
   "execution_count": 4,
   "metadata": {},
   "outputs": [
    {
     "name": "stderr",
     "output_type": "stream",
     "text": [
      "findfont: Font family 'Arial' not found.\n",
      "findfont: Font family 'Arial' not found.\n",
      "findfont: Font family 'Arial' not found.\n"
     ]
    },
    {
     "name": "stderr",
     "output_type": "stream",
     "text": [
      "findfont: Font family 'Arial' not found.\n",
      "findfont: Font family 'Arial' not found.\n",
      "findfont: Font family 'Arial' not found.\n",
      "findfont: Font family 'Arial' not found.\n",
      "findfont: Font family 'Arial' not found.\n"
     ]
    },
    {
     "data": {
      "image/svg+xml": [
       "<svg xmlns=\"http://www.w3.org/2000/svg\" width=\"340.0\" height=\"100.0\"><line x1=\"30.0\" x2=\"310.0\" y1=\"25.0\" y2=\"25.0\" stroke=\"#1967d2\" stroke-width=\"1\" /><line x1=\"30.0\" x2=\"310.0\" y1=\"75.0\" y2=\"75.0\" stroke=\"#1967d2\" stroke-width=\"1\" /><line x1=\"210.0\" x2=\"210.0\" y1=\"25.0\" y2=\"75.0\" stroke=\"black\" stroke-width=\"3\" /><line x1=\"270.0\" x2=\"270.0\" y1=\"25.0\" y2=\"75.0\" stroke=\"black\" stroke-width=\"3\" /><rect x=\"10.0\" y=\"5.0\" width=\"40\" height=\"40\" stroke=\"black\" fill=\"white\" stroke-width=\"0\" /><text x=\"30.0\" y=\"25.0\" dominant-baseline=\"middle\" text-anchor=\"middle\" font-size=\"14px\" font-family=\"Arial\">q0: </text><rect x=\"10.0\" y=\"55.0\" width=\"40\" height=\"40\" stroke=\"black\" fill=\"white\" stroke-width=\"0\" /><text x=\"30.0\" y=\"75.0\" dominant-baseline=\"middle\" text-anchor=\"middle\" font-size=\"14px\" font-family=\"Arial\">q1: </text><rect x=\"70.0\" y=\"5.0\" width=\"40\" height=\"40\" stroke=\"black\" fill=\"white\" stroke-width=\"1\" /><text x=\"90.0\" y=\"25.0\" dominant-baseline=\"middle\" text-anchor=\"middle\" font-size=\"14px\" font-family=\"Arial\">D(1)</text><rect x=\"130.0\" y=\"5.0\" width=\"40\" height=\"40\" stroke=\"black\" fill=\"white\" stroke-width=\"1\" /><text x=\"150.0\" y=\"25.0\" dominant-baseline=\"middle\" text-anchor=\"middle\" font-size=\"18px\" font-family=\"Arial\">H</text><circle cx=\"210.0\" cy=\"25.0\" r=\"10.0\" /><rect x=\"190.0\" y=\"55.0\" width=\"40\" height=\"40\" stroke=\"black\" fill=\"white\" stroke-width=\"1\" /><text x=\"210.0\" y=\"75.0\" dominant-baseline=\"middle\" text-anchor=\"middle\" font-size=\"18px\" font-family=\"Arial\">X</text><rect x=\"250.0\" y=\"5.0\" width=\"40\" height=\"40\" stroke=\"black\" fill=\"white\" stroke-width=\"1\" /><text x=\"270.0\" y=\"25.0\" dominant-baseline=\"middle\" text-anchor=\"middle\" font-size=\"18px\" font-family=\"Arial\">M</text><rect x=\"250.0\" y=\"55.0\" width=\"40\" height=\"40\" stroke=\"black\" fill=\"white\" stroke-width=\"1\" /><text x=\"270.0\" y=\"75.0\" dominant-baseline=\"middle\" text-anchor=\"middle\" font-size=\"18px\" font-family=\"Arial\">M</text></svg>"
      ],
      "text/plain": [
       "<cirq.contrib.svg.svg.SVGCircuit at 0x7fb0e0bada60>"
      ]
     },
     "metadata": {},
     "output_type": "display_data"
    }
   ],
   "source": [
    "noise = cirq.depolarize(1.0)                                       # Defining a noise model \n",
    "\n",
    "# Creating Qubits and circuit\n",
    "\n",
    "qubits = cirq.NamedQubit.range(2, prefix='q')\n",
    "circuit = cirq.Circuit()\n",
    "\n",
    "\n",
    "circuit.append(noise.on_each(qubits[0]))\n",
    "circuit.append(cirq.H(qubits[0]))\n",
    "circuit.append(cirq.CNOT(qubits[0], qubits[1]))\n",
    "\n",
    "circuit.append(cirq.measure(qubits))\n",
    "\n",
    "display(SVGCircuit(circuit))"
   ]
  },
  {
   "cell_type": "code",
   "execution_count": 5,
   "metadata": {},
   "outputs": [
    {
     "data": {
      "image/png": "[encoded data removed]",
      "text/plain": [
       "<Figure size 640x480 with 1 Axes>"
      ]
     },
     "metadata": {},
     "output_type": "display_data"
    }
   ],
   "source": [
    "# Simulating noise \n",
    "\n",
    "\n",
    "simulator = cirq.Simulator()                               \n",
    "\n",
    "result = simulator.run(circuit, repetitions=100)   # Running the circuit with the noise model\n",
    "\n",
    "\n",
    "hist = cirq.plot_state_histogram(result, plt.subplot(), title = 'Qubit State', xlabel='States', ylabel='Occurrences', tick_label=binary_labels(2))\n",
    "\n",
    "plt.show()"
   ]
  },
  {
   "cell_type": "markdown",
   "metadata": {},
   "source": [
    "### Impact of 100% Depolarizing Noise Before Hadamard Gate\n",
    "\n",
    "When applying 100% depolarizing noise to qubit `q0` before the Hadamard gate, the state of `q0` becomes maximally mixed. This means that:\n",
    "\n",
    "- **Maximally Mixed State**: The density matrix of `q0` is:\n",
    "  $$\n",
    "  \\rho = \\frac{1}{2} \\begin{pmatrix}\n",
    "  1 & 0 \\\\\n",
    "  0 & 1\n",
    "  \\end{pmatrix}\n",
    "  $$\n",
    "  This indicates equal probabilities for measuring |0⟩ or |1⟩.\n",
    "\n",
    "- **Effect of Hadamard Gate**: After the depolarizing noise, the Hadamard gate will transform this maximally mixed state into a state resembling |−⟩, which is a specific superposition state:\n",
    "  $$\n",
    "  |−⟩ = \\frac{1}{\\sqrt{2}}(|0⟩ - |1⟩)\n",
    "  $$\n",
    "\n",
    "- **Entanglement**: Despite the depolarizing noise, the entanglement between `q0` and `q1` still persists. However, the specific measurement outcomes might shift. For example:\n",
    "  - The histogram will likely reflect this change in the distribution of measurement results but will still show evidence of entanglement.\n",
    "\n"
   ]
  },
  {
   "cell_type": "markdown",
   "metadata": {},
   "source": [
    "## Part 2: Noise characterization with Swap Test"
   ]
  },
  {
   "cell_type": "markdown",
   "metadata": {},
   "source": [
    "### 2.1: Calculating Fidelity with Swap Test"
   ]
  },
  {
   "cell_type": "markdown",
   "metadata": {},
   "source": [
    "### Question :\n",
    "1. Prepare 2 qubits in the given states and one ancilla qubit in the $|0\\rangle$ state.\n",
    "2. Append the swap test circuit.\n",
    "3. Run the circuit.\n",
    "4. Calculate the fidelity."
   ]
  },
  {
   "cell_type": "markdown",
   "metadata": {},
   "source": [
    "#### 2.1.1 : Prepare 2 qubits in the given states and one ancilla qubit in the $|0\\rangle$ state.\n",
    "\n",
    "- put $q_0$ into the $|0\\rangle$ \n",
    "- put $q_1$ into the $|1\\rangle$ \n",
    "- put ancilla into the $|0\\rangle$"
   ]
  },
  {
   "cell_type": "code",
   "execution_count": 6,
   "metadata": {},
   "outputs": [
    {
     "data": {
      "text/html": [
       "<pre style=\"overflow: auto; white-space: pre;\">state 0: ───I───────\n",
       "\n",
       "state 1: ───────X───</pre>"
      ],
      "text/plain": [
       "state 0: ───I───────\n",
       "\n",
       "state 1: ───────X───"
      ]
     },
     "execution_count": 6,
     "metadata": {},
     "output_type": "execute_result"
    }
   ],
   "source": [
    "q0 = cirq.NamedQubit('state 0')\n",
    "q1 = cirq.NamedQubit('state 1')\n",
    "ancilla = cirq.NamedQubit('Ancilla')\n",
    "\n",
    "#Prepare the qubit states\n",
    "circuit_0 = cirq.Circuit()\n",
    "circuit_0.append(cirq.I(q0))\n",
    "circuit_1 = cirq.Circuit()\n",
    "circuit_1.append(cirq.X(q1))\n",
    "\n",
    "circuit = circuit_0 + circuit_1\n",
    "\n",
    "circuit\n"
   ]
  },
  {
   "cell_type": "markdown",
   "metadata": {},
   "source": [
    "#### 2.1.2: Append the swap test circuit.\n",
    "\n",
    "1. Put ancilla in superposition by applying an H gate.\n",
    "2. Apply controlled-swap gate with ancilla as the controll and other two qubits as the target.\n",
    "3. Apply an H-Gate on the ancilla.\n",
    "4. Measure the ancilla qubit."
   ]
  },
  {
   "cell_type": "code",
   "execution_count": 7,
   "metadata": {},
   "outputs": [
    {
     "name": "stderr",
     "output_type": "stream",
     "text": [
      "findfont: Font family 'Arial' not found.\n",
      "findfont: Font family 'Arial' not found.\n",
      "findfont: Font family 'Arial' not found.\n",
      "findfont: Font family 'Arial' not found.\n",
      "findfont: Font family 'Arial' not found.\n",
      "findfont: Font family 'Arial' not found.\n",
      "findfont: Font family 'Arial' not found.\n",
      "findfont: Font family 'Arial' not found.\n",
      "findfont: Font family 'Arial' not found.\n",
      "findfont: Font family 'Arial' not found.\n",
      "findfont: Font family 'Arial' not found.\n"
     ]
    },
    {
     "data": {
      "image/svg+xml": [
       "<svg xmlns=\"http://www.w3.org/2000/svg\" width=\"421.145390625\" height=\"150.0\"><line x1=\"40.5726953125\" x2=\"391.145390625\" y1=\"25.0\" y2=\"25.0\" stroke=\"#1967d2\" stroke-width=\"1\" /><line x1=\"40.5726953125\" x2=\"391.145390625\" y1=\"75.0\" y2=\"75.0\" stroke=\"#1967d2\" stroke-width=\"1\" /><line x1=\"40.5726953125\" x2=\"391.145390625\" y1=\"125.0\" y2=\"125.0\" stroke=\"#1967d2\" stroke-width=\"1\" /><line x1=\"231.145390625\" x2=\"231.145390625\" y1=\"25.0\" y2=\"125.0\" stroke=\"black\" stroke-width=\"3\" /><rect x=\"10.0\" y=\"5.0\" width=\"61.145390625000005\" height=\"40\" stroke=\"black\" fill=\"white\" stroke-width=\"0\" /><text x=\"40.5726953125\" y=\"25.0\" dominant-baseline=\"middle\" text-anchor=\"middle\" font-size=\"14px\" font-family=\"Arial\">Ancilla: </text><rect x=\"10.0\" y=\"55.0\" width=\"61.145390625000005\" height=\"40\" stroke=\"black\" fill=\"white\" stroke-width=\"0\" /><text x=\"40.5726953125\" y=\"75.0\" dominant-baseline=\"middle\" text-anchor=\"middle\" font-size=\"14px\" font-family=\"Arial\">state 0: </text><rect x=\"10.0\" y=\"105.0\" width=\"61.145390625000005\" height=\"40\" stroke=\"black\" fill=\"white\" stroke-width=\"0\" /><text x=\"40.5726953125\" y=\"125.0\" dominant-baseline=\"middle\" text-anchor=\"middle\" font-size=\"14px\" font-family=\"Arial\">state 1: </text><rect x=\"91.145390625\" y=\"55.0\" width=\"40\" height=\"40\" stroke=\"black\" fill=\"white\" stroke-width=\"1\" /><text x=\"111.145390625\" y=\"75.0\" dominant-baseline=\"middle\" text-anchor=\"middle\" font-size=\"18px\" font-family=\"Arial\">I</text><rect x=\"91.145390625\" y=\"5.0\" width=\"40\" height=\"40\" stroke=\"black\" fill=\"white\" stroke-width=\"1\" /><text x=\"111.145390625\" y=\"25.0\" dominant-baseline=\"middle\" text-anchor=\"middle\" font-size=\"18px\" font-family=\"Arial\">H</text><rect x=\"151.145390625\" y=\"105.0\" width=\"40\" height=\"40\" stroke=\"black\" fill=\"white\" stroke-width=\"1\" /><text x=\"171.145390625\" y=\"125.0\" dominant-baseline=\"middle\" text-anchor=\"middle\" font-size=\"18px\" font-family=\"Arial\">X</text><circle cx=\"231.145390625\" cy=\"25.0\" r=\"10.0\" /><text x=\"231.145390625\" y=\"78.0\" dominant-baseline=\"middle\" text-anchor=\"middle\" font-size=\"40px\" font-family=\"Arial\">×</text><text x=\"231.145390625\" y=\"128.0\" dominant-baseline=\"middle\" text-anchor=\"middle\" font-size=\"40px\" font-family=\"Arial\">×</text><rect x=\"271.145390625\" y=\"5.0\" width=\"40\" height=\"40\" stroke=\"black\" fill=\"white\" stroke-width=\"1\" /><text x=\"291.145390625\" y=\"25.0\" dominant-baseline=\"middle\" text-anchor=\"middle\" font-size=\"18px\" font-family=\"Arial\">H</text><rect x=\"331.145390625\" y=\"5.0\" width=\"40\" height=\"40\" stroke=\"black\" fill=\"white\" stroke-width=\"1\" /><text x=\"351.145390625\" y=\"25.0\" dominant-baseline=\"middle\" text-anchor=\"middle\" font-size=\"18px\" font-family=\"Arial\">M</text></svg>"
      ],
      "text/plain": [
       "<cirq.contrib.svg.svg.SVGCircuit at 0x7fb099dc20a0>"
      ]
     },
     "metadata": {},
     "output_type": "display_data"
    }
   ],
   "source": [
    "circuit.append(cirq.H(ancilla))     \n",
    "\n",
    "circuit.append(cirq.CSWAP(ancilla, q0, q1))\n",
    "\n",
    "circuit.append(cirq.H(ancilla))\n",
    "\n",
    "circuit.append(cirq.measure(ancilla))\n",
    "\n",
    "\n",
    "\n",
    "display(SVGCircuit(circuit))"
   ]
  },
  {
   "cell_type": "markdown",
   "metadata": {},
   "source": [
    "#### 2.1.3: Run the circuit\n",
    "\n",
    "- Run the circuit 1000 time using a simulator"
   ]
  },
  {
   "cell_type": "code",
   "execution_count": 8,
   "metadata": {},
   "outputs": [
    {
     "data": {
      "text/plain": [
       "Ancilla=0001111101110101110110111111110010001000101000010001111001110000100011000110000111111001011000110111010110111101000111110111001001000110010010110011110111001100010010101100100110111010010101101000101111111101100011100110100101000001011011001110110010010010111101101101110100001101110100101010001000111011100010001001011101011100101011010001000111100110110100011101001010000011110110011001000010010111110001010100111010001000000011011010111000011000100110111110101110100010110101101000000011000010111111100110111001001000110001011111011011011100010011000101110010111001000111011000110011001101000011100010001001100011100010111101100111100010011111101101100010110101111110111101110000001000011101101010110111011011100010101011111101111101000000000011010001100111111100001011110010111010101110100101010110011101001100000001111111000001100100111010010111010110110000000001110110011100000000111111100010101100011010000011111111011101011011001010110100100001000011111111101111010101011001000000110101111010"
      ]
     },
     "execution_count": 8,
     "metadata": {},
     "output_type": "execute_result"
    }
   ],
   "source": [
    "simulator = cirq.Simulator()\n",
    "\n",
    "result = simulator.run(circuit, repetitions=1000)\n",
    "\n",
    "result"
   ]
  },
  {
   "cell_type": "markdown",
   "metadata": {},
   "source": [
    "##### 2.1.4: Calculate the Fidelity\n",
    "\n",
    "- Calculating fidelity using the equation : **Fidelity = 1 - 2 * prob(0)**"
   ]
  },
  {
   "cell_type": "code",
   "execution_count": 9,
   "metadata": {},
   "outputs": [
    {
     "data": {
      "text/plain": [
       "-0.038000000000000034"
      ]
     },
     "execution_count": 9,
     "metadata": {},
     "output_type": "execute_result"
    }
   ],
   "source": [
    "prob_0 = np.sum(result.measurements['Ancilla'])/len(result.measurements['Ancilla'])\n",
    "\n",
    "fidelity = 1 - 2*prob_0\n",
    "\n",
    "fidelity"
   ]
  },
  {
   "cell_type": "markdown",
   "metadata": {},
   "source": [
    "### 2.2: Characterizing Noise with the Swap Test"
   ]
  },
  {
   "cell_type": "markdown",
   "metadata": {},
   "source": [
    "#### Question: 2.2.1\n",
    "\n",
    "- Calculating the fidelity of $q_0$ in our typical `Ideal` $|0\\rangle$ state (meaning there is `no noise` ) and $q_1$ in a $|0\\rangle$ state with 5% chance of depolarization. "
   ]
  },
  {
   "cell_type": "code",
   "execution_count": 10,
   "metadata": {},
   "outputs": [
    {
     "name": "stderr",
     "output_type": "stream",
     "text": [
      "findfont: Font family 'Arial' not found.\n"
     ]
    },
    {
     "name": "stderr",
     "output_type": "stream",
     "text": [
      "findfont: Font family 'Arial' not found.\n",
      "findfont: Font family 'Arial' not found.\n",
      "findfont: Font family 'Arial' not found.\n",
      "findfont: Font family 'Arial' not found.\n",
      "findfont: Font family 'Arial' not found.\n",
      "findfont: Font family 'Arial' not found.\n",
      "findfont: Font family 'Arial' not found.\n",
      "findfont: Font family 'Arial' not found.\n",
      "findfont: Font family 'Arial' not found.\n",
      "findfont: Font family 'Arial' not found.\n",
      "findfont: Font family 'Arial' not found.\n"
     ]
    },
    {
     "data": {
      "image/svg+xml": [
       "<svg xmlns=\"http://www.w3.org/2000/svg\" width=\"501.444765625\" height=\"150.0\"><line x1=\"40.5726953125\" x2=\"471.444765625\" y1=\"25.0\" y2=\"25.0\" stroke=\"#1967d2\" stroke-width=\"1\" /><line x1=\"40.5726953125\" x2=\"471.444765625\" y1=\"75.0\" y2=\"75.0\" stroke=\"#1967d2\" stroke-width=\"1\" /><line x1=\"40.5726953125\" x2=\"471.444765625\" y1=\"125.0\" y2=\"125.0\" stroke=\"#1967d2\" stroke-width=\"1\" /><line x1=\"311.444765625\" x2=\"311.444765625\" y1=\"25.0\" y2=\"125.0\" stroke=\"black\" stroke-width=\"3\" /><rect x=\"10.0\" y=\"5.0\" width=\"61.145390625000005\" height=\"40\" stroke=\"black\" fill=\"white\" stroke-width=\"0\" /><text x=\"40.5726953125\" y=\"25.0\" dominant-baseline=\"middle\" text-anchor=\"middle\" font-size=\"14px\" font-family=\"Arial\">Ancilla: </text><rect x=\"10.0\" y=\"55.0\" width=\"61.145390625000005\" height=\"40\" stroke=\"black\" fill=\"white\" stroke-width=\"0\" /><text x=\"40.5726953125\" y=\"75.0\" dominant-baseline=\"middle\" text-anchor=\"middle\" font-size=\"14px\" font-family=\"Arial\">state 0: </text><rect x=\"10.0\" y=\"105.0\" width=\"61.145390625000005\" height=\"40\" stroke=\"black\" fill=\"white\" stroke-width=\"0\" /><text x=\"40.5726953125\" y=\"125.0\" dominant-baseline=\"middle\" text-anchor=\"middle\" font-size=\"14px\" font-family=\"Arial\">state 1: </text><rect x=\"91.145390625\" y=\"55.0\" width=\"40\" height=\"40\" stroke=\"black\" fill=\"white\" stroke-width=\"1\" /><text x=\"111.145390625\" y=\"75.0\" dominant-baseline=\"middle\" text-anchor=\"middle\" font-size=\"18px\" font-family=\"Arial\">I</text><rect x=\"91.145390625\" y=\"5.0\" width=\"40\" height=\"40\" stroke=\"black\" fill=\"white\" stroke-width=\"1\" /><text x=\"111.145390625\" y=\"25.0\" dominant-baseline=\"middle\" text-anchor=\"middle\" font-size=\"18px\" font-family=\"Arial\">H</text><rect x=\"151.145390625\" y=\"105.0\" width=\"40\" height=\"40\" stroke=\"black\" fill=\"white\" stroke-width=\"1\" /><text x=\"171.145390625\" y=\"125.0\" dominant-baseline=\"middle\" text-anchor=\"middle\" font-size=\"18px\" font-family=\"Arial\">I</text><rect x=\"211.145390625\" y=\"105.0\" width=\"60.299375\" height=\"40\" stroke=\"black\" fill=\"white\" stroke-width=\"1\" /><text x=\"241.295078125\" y=\"125.0\" dominant-baseline=\"middle\" text-anchor=\"middle\" font-size=\"14px\" font-family=\"Arial\">D(0.05)</text><circle cx=\"311.444765625\" cy=\"25.0\" r=\"10.0\" /><text x=\"311.444765625\" y=\"78.0\" dominant-baseline=\"middle\" text-anchor=\"middle\" font-size=\"40px\" font-family=\"Arial\">×</text><text x=\"311.444765625\" y=\"128.0\" dominant-baseline=\"middle\" text-anchor=\"middle\" font-size=\"40px\" font-family=\"Arial\">×</text><rect x=\"351.444765625\" y=\"5.0\" width=\"40\" height=\"40\" stroke=\"black\" fill=\"white\" stroke-width=\"1\" /><text x=\"371.444765625\" y=\"25.0\" dominant-baseline=\"middle\" text-anchor=\"middle\" font-size=\"18px\" font-family=\"Arial\">H</text><rect x=\"411.444765625\" y=\"5.0\" width=\"40\" height=\"40\" stroke=\"black\" fill=\"white\" stroke-width=\"1\" /><text x=\"431.444765625\" y=\"25.0\" dominant-baseline=\"middle\" text-anchor=\"middle\" font-size=\"18px\" font-family=\"Arial\">M</text></svg>"
      ],
      "text/plain": [
       "<cirq.contrib.svg.svg.SVGCircuit at 0x7fb099894ac0>"
      ]
     },
     "metadata": {},
     "output_type": "display_data"
    },
    {
     "name": "stdout",
     "output_type": "stream",
     "text": [
      "Ancilla=0000000000000000000000000000010000000000000000000000000000000000000000000000000000000000000000000001000000000000000000000000000000000000000000000000000000000000000000000000000000000000000000000000000000000000000000000000000000000000000001000000000100000000000000000000000000000000000000000000000000000000000000000000000000000010000000000000010000000000000000000000000000000000000000000000000000000000000000000000010000000000000000000000000000000000000000000000000000000000000000000000100000000000000010000000000000100000000000000000000000000000000000000000000000000000000000000000000000000000000000000000000000000000000000000000000000000000000000000000000000000000000000000001000000000000000000000000000000000000000000000000000000000000000000000000000000000000000000000000000010000000000000000000000000000000000000000000000000000000000000100000000000000000010000000000000000000000000000000000000010000000000000000000010000000000000010000000000000000000000000000000100000000000000000000000000000000000\n"
     ]
    }
   ],
   "source": [
    "# 1.1creating qubits\n",
    "q0 = cirq.NamedQubit('state 0')\n",
    "q1 = cirq.NamedQubit('state 1')\n",
    "ancilla = cirq.NamedQubit('Ancilla')\n",
    "\n",
    "# 1.2.Prepare the qubit states\n",
    "circuit_0 = cirq.Circuit()\n",
    "circuit_0.append(cirq.I(q0))\n",
    "circuit_1 = cirq.Circuit()\n",
    "circuit_1.append(cirq.I(q1))\n",
    "\n",
    "\n",
    "# change made here !!\n",
    "\n",
    "noise = cirq.depolarize(0.05)\n",
    "circuit = circuit_0 + circuit_1.with_noise(noise)\n",
    "\n",
    "# change made upper!!\n",
    "\n",
    "\n",
    "# 2.Append the swap test circuit.\n",
    "circuit.append(cirq.H(ancilla))     \n",
    "\n",
    "circuit.append(cirq.CSWAP(ancilla, q0, q1))\n",
    "\n",
    "circuit.append(cirq.H(ancilla))\n",
    "\n",
    "circuit.append(cirq.measure(ancilla))\n",
    "\n",
    "display(SVGCircuit(circuit))\n",
    "\n",
    "\n",
    "# 3.Run the circuit\n",
    "simulator = cirq.Simulator()\n",
    "\n",
    "result = simulator.run(circuit, repetitions=1000)\n",
    "\n",
    "print(result)\n",
    "\n",
    "\n",
    "# 4.Calculate the Fidelity\n",
    "\n",
    "prob_0 = np.sum(result.measurements['Ancilla'])/len(result.measurements['Ancilla'])\n",
    "\n",
    "fidelity = 1 - 2*prob_0\n"
   ]
  },
  {
   "cell_type": "markdown",
   "metadata": {},
   "source": [
    "### Question: Check Fidelity for 0-100% and visualize"
   ]
  },
  {
   "cell_type": "markdown",
   "metadata": {},
   "source": [
    "**Solve :**"
   ]
  },
  {
   "cell_type": "code",
   "execution_count": 11,
   "metadata": {},
   "outputs": [
    {
     "data": {
      "text/plain": [
       "[0.0,\n",
       " 0.05,\n",
       " 0.1,\n",
       " 0.15000000000000002,\n",
       " 0.2,\n",
       " 0.25,\n",
       " 0.30000000000000004,\n",
       " 0.35000000000000003,\n",
       " 0.4,\n",
       " 0.45,\n",
       " 0.5,\n",
       " 0.55,\n",
       " 0.6000000000000001,\n",
       " 0.65,\n",
       " 0.7000000000000001,\n",
       " 0.75,\n",
       " 0.8,\n",
       " 0.8500000000000001,\n",
       " 0.9,\n",
       " 0.9500000000000001,\n",
       " 1.0]"
      ]
     },
     "execution_count": 11,
     "metadata": {},
     "output_type": "execute_result"
    }
   ],
   "source": [
    "depol_probabilities = []\n",
    "\n",
    "for i in range(21):\n",
    "    depol_probabilities.append(i*0.05)\n",
    "\n",
    "depol_probabilities"
   ]
  },
  {
   "cell_type": "code",
   "execution_count": 12,
   "metadata": {},
   "outputs": [
    {
     "data": {
      "text/plain": [
       "[1.0,\n",
       " 0.954,\n",
       " 0.938,\n",
       " 0.904,\n",
       " 0.882,\n",
       " 0.848,\n",
       " 0.796,\n",
       " 0.772,\n",
       " 0.69,\n",
       " 0.718,\n",
       " 0.6779999999999999,\n",
       " 0.6599999999999999,\n",
       " 0.61,\n",
       " 0.53,\n",
       " 0.476,\n",
       " 0.536,\n",
       " 0.508,\n",
       " 0.43999999999999995,\n",
       " 0.368,\n",
       " 0.388,\n",
       " 0.32599999999999996]"
      ]
     },
     "execution_count": 12,
     "metadata": {},
     "output_type": "execute_result"
    }
   ],
   "source": [
    "fidelities = []\n",
    "\n",
    "\n",
    "for prob in depol_probabilities:\n",
    "    \n",
    "    # 1.1creating qubits\n",
    "    q0 = cirq.NamedQubit('state 0')\n",
    "    q1 = cirq.NamedQubit('state 1')\n",
    "    ancilla = cirq.NamedQubit('Ancilla')\n",
    "\n",
    "    # 1.2.Prepare the qubit states\n",
    "    circuit_0 = cirq.Circuit()\n",
    "    circuit_0.append(cirq.I(q0))\n",
    "    circuit_1 = cirq.Circuit()\n",
    "    circuit_1.append(cirq.I(q1))\n",
    "\n",
    "\n",
    "    # change made here !!\n",
    "\n",
    "    noise = cirq.depolarize(prob)\n",
    "    circuit = circuit_0 + circuit_1.with_noise(noise)\n",
    "\n",
    "    # change made upper!!\n",
    "\n",
    "\n",
    "    # 2.Append the swap test circuit.\n",
    "    circuit.append(cirq.H(ancilla))     \n",
    "\n",
    "    circuit.append(cirq.CSWAP(ancilla, q0, q1))\n",
    "\n",
    "    circuit.append(cirq.H(ancilla))\n",
    "\n",
    "    circuit.append(cirq.measure(ancilla))\n",
    "\n",
    "\n",
    "    # 3.Run the circuit\n",
    "    simulator = cirq.Simulator()\n",
    "\n",
    "    result = simulator.run(circuit, repetitions=1000)\n",
    "\n",
    "\n",
    "    # 4.Calculate the Fidelity\n",
    "\n",
    "    prob_0 = np.sum(result.measurements['Ancilla'])/len(result.measurements['Ancilla'])\n",
    "\n",
    "    fidelity = 1 - 2*prob_0\n",
    "    \n",
    "    fidelities.append(fidelity)\n",
    "\n",
    "fidelities"
   ]
  },
  {
   "cell_type": "markdown",
   "metadata": {},
   "source": [
    "**Result Vs Theoretical Prediction :**"
   ]
  },
  {
   "cell_type": "code",
   "execution_count": 13,
   "metadata": {},
   "outputs": [
    {
     "data": {
      "image/png": "[encoded data removed]",
      "text/plain": [
       "<Figure size 640x480 with 1 Axes>"
      ]
     },
     "metadata": {},
     "output_type": "display_data"
    }
   ],
   "source": [
    "plt.scatter(depol_probabilities, fidelities, label = 'Simulation')\n",
    "\n",
    "theoretical_fidelities =  [1 - prob/2 for prob in depol_probabilities]\n",
    "plt.scatter(depol_probabilities, theoretical_fidelities, label='Theory')\n",
    "\n",
    "plt.xlabel('Depolarization Probabilities')\n",
    "plt.ylabel('Fidelities')\n",
    "\n",
    "plt.legend()\n",
    "plt.show()"
   ]
  },
  {
   "cell_type": "markdown",
   "metadata": {},
   "source": [
    "### Discussion !!!\n",
    "\n",
    "In this simulation, we explore the effect of depolarizing noise on the fidelity of a quantum state comparison using a swap test.\n",
    "\n",
    "#### Key Components\n",
    "\n",
    "1. **Depolarizing Noise**: \n",
    "   - The code introduces depolarizing noise with varying probabilities (from 0 to 1 in increments of 0.05) to a quantum circuit. \n",
    "   - Depolarizing noise transforms a qubit's state into a completely mixed state with a certain probability, which can degrade the quality of quantum computations.\n",
    "\n",
    "2. **Swap Test Circuit**: \n",
    "   - The swap test is used to determine the overlap (or fidelity) between two quantum states. \n",
    "   - It involves using an ancilla qubit and applying Hadamard gates and a controlled swap (CSWAP) operation.\n",
    "\n",
    "3. **Simulation**: \n",
    "   - The circuit is executed multiple times (1000 repetitions) using a simulator to gather statistical results.\n",
    "\n",
    "4. **Fidelity Calculation**: \n",
    "   - The fidelity is calculated as  $F = 1 - 2p_0$, where $p_0$ is the probability of measuring the ancilla qubit in the state $|1\\rangle$. \n",
    "   - This gives an indication of how similar the two quantum states are.\n",
    "\n",
    "5. **Plotting**: \n",
    "   - The results are plotted against the theoretical expectation that the fidelity decreases linearly with the depolarizing probability, showing \n",
    "   \n",
    "   - $F = 1 - \\frac{\\text{prob}}{2}$.\n",
    "\n",
    "#### Results Discussion\n",
    "\n",
    "- **Simulation vs. Theory**: \n",
    "  - The scatter plot shows two sets of data points: the simulated fidelities and the theoretical fidelities. \n",
    "  - Ideally, the simulation results should align closely with the theoretical values.\n",
    "\n",
    "- **Trends**: \n",
    "  - As the depolarization probability increases, the fidelity decreases. \n",
    "  - This trend is expected because higher depolarization probabilities mean the states become more mixed, reducing their overlap.\n",
    "\n",
    "- **Noise Impact**: \n",
    "  - The results highlight how sensitive quantum states are to noise. \n",
    "  - Even small amounts of depolarizing noise can significantly reduce the fidelity, which underscores the importance of error correction and mitigation in quantum computing.\n",
    "\n",
    "- **Practical Implications**: \n",
    "  - Understanding the impact of noise is crucial for designing robust quantum algorithms and systems. \n",
    "  - The simulation provides insights into how real-world noise can affect quantum computations and the importance of accounting for such effects in practical implementations.\n",
    "\n",
    "Overall, the code effectively demonstrates the relationship between depolarizing noise and fidelity in quantum state comparisons, providing both theoretical and simulated insights.\n"
   ]
  }
 ],
 "metadata": {
  "kernelspec": {
   "display_name": "cirq_env",
   "language": "python",
   "name": "python3"
  },
  "language_info": {
   "codemirror_mode": {
    "name": "ipython",
    "version": 3
   },
   "file_extension": ".py",
   "mimetype": "text/x-python",
   "name": "python",
   "nbconvert_exporter": "python",
   "pygments_lexer": "ipython3",
   "version": "3.8.19"
  }
 },
 "nbformat": 4,
 "nbformat_minor": 2
}
