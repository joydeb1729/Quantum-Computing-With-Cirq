{
 "cells": [
  {
   "cell_type": "markdown",
   "metadata": {},
   "source": [
    "# Grover's Algorithm\n",
    "\n",
    "Grover's Algorithm is a quantum search algorithm that efficiently finds a specific item in an unsorted database. It offers a quadratic speedup over classical search algorithms, making it one of the most important quantum algorithms.\n",
    "\n",
    "## Key Concepts\n",
    "\n",
    "1. **Quantum Superposition**: Quantum bits (qubits) can exist in a superposition of states, allowing a quantum computer to process multiple possibilities simultaneously.\n",
    "\n",
    "2. **Amplitude Amplification**: Grover's algorithm uses a process called amplitude amplification to increase the probability of measuring the correct solution.\n",
    "\n",
    "3. **Oracle**: The oracle is a quantum subroutine that marks the correct solution by flipping the sign of the amplitude of the target state.\n",
    "\n",
    "4. **Grover Iteration**: The core of the algorithm is the Grover iteration, which consists of two main steps: the oracle application and the diffusion operator (inversion about the mean).\n",
    "\n",
    "## Steps of Grover's Algorithm\n",
    "\n",
    "1. **Initialization**:\n",
    "   - Start with $n$ qubits initialized to the state $|0\\rangle$. Apply the Hadamard gate to create an equal superposition of all possible states.\n",
    "\n",
    "2. **Oracle Application**:\n",
    "   - Use the oracle to identify the target state by flipping its amplitude.\n",
    "\n",
    "3. **Diffusion Operator**:\n",
    "   - Apply the diffusion operator, which reflects all amplitudes about their average, effectively amplifying the amplitude of the marked state.\n",
    "\n",
    "4. **Repetition**:\n",
    "   - Repeat the Grover iteration (oracle + diffusion) approximately $\\frac{\\pi}{4} \\sqrt{N}$ times, where $N$ is the total number of possible solutions.\n",
    "\n",
    "5. **Measurement**:\n",
    "   - Measure the quantum state. The correct solution will have the highest probability of being observed.\n",
    "\n",
    "## Efficiency and Applications\n",
    "\n",
    "- **Efficiency**: Grover's algorithm reduces the number of search operations from $O(N)$ to $O(\\sqrt{N})$, providing a significant speedup for large databases.\n",
    "\n",
    "- **Applications**: The algorithm can be applied to various problems, such as solving unstructured search problems, database search, and cryptanalysis.\n",
    "\n",
    "Grover's algorithm is a powerful example of how quantum computing can outperform classical methods for specific tasks. Its ability to efficiently search through large datasets demonstrates the potential of quantum algorithms to revolutionize fields requiring complex search operations.\n"
   ]
  },
  {
   "cell_type": "code",
   "execution_count": 1,
   "metadata": {},
   "outputs": [],
   "source": [
    "import cirq\n",
    "import numpy as np\n",
    "import math\n",
    "import scipy\n",
    "import random\n",
    "\n",
    "import matplotlib.pyplot as plt\n",
    "import warnings\n",
    "warnings.filterwarnings(\"ignore\")\n",
    "\n",
    "def binary_labels(num_qubits):\n",
    "    return [bin(x)[2:].zfill(num_qubits) for x in range (2**num_qubits)]\n",
    "\n",
    "plt.rcParams.update({'font.size': 8})"
   ]
  },
  {
   "cell_type": "markdown",
   "metadata": {},
   "source": [
    "## Part 1: Defining the Size of the Problem"
   ]
  },
  {
   "cell_type": "markdown",
   "metadata": {},
   "source": [
    "### Step 1.1: Initialize Problem Parameters\n",
    "\n",
    "- `num_of_choices = 8`: The number of possible choices or items to search through.\n",
    "- `correct_choice = 2`: The index of the correct choice/item we are searching for.\n",
    "- `n = int(math.log(num_of_choices, 2))`: The number of qubits required to represent all choices in binary form. It uses the logarithm base 2 of the number of choices because each qubit doubles the number of representable states.\n",
    "- `num_qubits = 3`: The number of qubits needed to represent the choices in a quantum circuit. This is because $2^3 = 8$, which allows us to represent 8 different states.\n"
   ]
  },
  {
   "cell_type": "code",
   "execution_count": 2,
   "metadata": {},
   "outputs": [
    {
     "data": {
      "text/plain": [
       "3"
      ]
     },
     "execution_count": 2,
     "metadata": {},
     "output_type": "execute_result"
    }
   ],
   "source": [
    "num_of_choices = 8\n",
    "correct_choice = 2\n",
    "\n",
    "n = int(math.log(num_of_choices, 2))\n",
    "num_qubits = n\n",
    "\n",
    "num_qubits"
   ]
  },
  {
   "cell_type": "markdown",
   "metadata": {},
   "source": [
    "### Step 1.2: Define Function `generate_binary_strings(num_of_choices)`\n",
    "\n",
    "- This function generates all binary strings of a certain length based on the number of choices.\n",
    "- A `for` loop iterates over the range of numbers from 0 to $2^n - 1$.\n",
    "- `binary_string = bin(i)[2:].zfill(n)`: For each number `i`, its binary representation is calculated using `bin(i)`. The `[2:]` slice removes the '0b' prefix, and `zfill(n)` ensures that the binary string is `n` digits long, padding with zeros if necessary.\n",
    "- Each binary string is appended to the `binary_strings` list."
   ]
  },
  {
   "cell_type": "code",
   "execution_count": 3,
   "metadata": {},
   "outputs": [],
   "source": [
    "def generate_binary_strings(num_of_choices):\n",
    "    n = int(math.log(num_of_choices, 2))\n",
    "    binary_strings = []\n",
    "    for i in range(2**n):\n",
    "        binary_string = bin(i)[2:].zfill(n)\n",
    "        binary_strings.append(binary_string)\n",
    "    return binary_strings\n"
   ]
  },
  {
   "cell_type": "markdown",
   "metadata": {},
   "source": [
    "### Step 1.3: Generate and Display Binary Strings\n",
    "\n",
    "- `binary_strings = generate_binary_strings(num_of_choices)`: Call the function to generate binary strings for the given number of choices.\n",
    "- `binary_strings`: Output the generated list of binary strings, representing all possible states in the quantum search space.\n"
   ]
  },
  {
   "cell_type": "code",
   "execution_count": 4,
   "metadata": {},
   "outputs": [
    {
     "data": {
      "text/plain": [
       "['000', '001', '010', '011', '100', '101', '110', '111']"
      ]
     },
     "execution_count": 4,
     "metadata": {},
     "output_type": "execute_result"
    }
   ],
   "source": [
    "binary_strings = generate_binary_strings(num_of_choices)\n",
    "binary_strings"
   ]
  },
  {
   "cell_type": "markdown",
   "metadata": {},
   "source": [
    "## Part 2: Setting up the Grover Problem"
   ]
  },
  {
   "cell_type": "markdown",
   "metadata": {},
   "source": [
    "### Step 2.1: Creating the Oracle and Using It to Create the Search Problem\n",
    "\n",
    "- **Function `make_oracle`**: Implements the oracle function:\n",
    "  - $f(x) = 1$ if $x$ matches the marked bitstring ($x = x'$).\n",
    "  - $f(x) = 0$ otherwise.\n",
    "  \n",
    "- **Operation**:\n",
    "  - Negate the qubits corresponding to 0 bits in the marked bitstring to prepare for the oracle operation.\n",
    "  - Apply the Toffoli gate (or a generalized multi-controlled X gate) to flip the ancilla qubit, marking the correct solution.\n",
    "  - Negate the qubits again to restore their original state.\n"
   ]
  },
  {
   "cell_type": "code",
   "execution_count": 5,
   "metadata": {},
   "outputs": [],
   "source": [
    "def make_oracle(qubits, ancilla, marked_bitstring):\n",
    "    for (q, bit) in zip(qubits, marked_bitstring):\n",
    "        if not bit:\n",
    "            yield cirq.X(q)\n",
    "    \n",
    "    controls = len(qubits)\n",
    "    mcx_gate = cirq.ControlledGate(sub_gate=cirq.X, num_controls=controls)\n",
    "    yield mcx_gate(*qubits, ancilla)\n",
    "    \n",
    "    for (q, bit) in zip(qubits, marked_bitstring):\n",
    "        if not bit:\n",
    "            yield cirq.X(q)\n"
   ]
  },
  {
   "cell_type": "markdown",
   "metadata": {},
   "source": [
    "### Step 2.2: Grover Iteration\n",
    "\n",
    "- **Function `grover_iteration`**: Performs one round of the Grover Iteration.\n",
    "  - Creates a quantum circuit to perform Grover's search algorithm.\n",
    "  - Initializes qubits in an equal superposition and prepares the ancilla qubit.\n",
    "  - Executes the oracle function and constructs the Grover operator.\n",
    "  - Measures the qubits to obtain the result.\n"
   ]
  },
  {
   "cell_type": "code",
   "execution_count": 6,
   "metadata": {},
   "outputs": [],
   "source": [
    "def grover_iteration(qubits, ancilla, marked_bitstring, reps=1):\n",
    "    circuit = cirq.Circuit()\n",
    "    circuit.append(cirq.H.on_each(*qubits))\n",
    "    circuit.append([cirq.X(ancilla), cirq.H(ancilla)])\n",
    "    \n",
    "    for r in range(reps):\n",
    "        for (q, bit) in zip(qubits, marked_bitstring):\n",
    "            if not bit:\n",
    "                circuit.append(cirq.X(q))\n",
    "        \n",
    "        controls = len(qubits)\n",
    "        mcx_gate = cirq.ControlledGate(sub_gate=cirq.X, num_controls=controls)\n",
    "        circuit.append(mcx_gate(*qubits, ancilla))\n",
    "        \n",
    "        for (q, bit) in zip(qubits, marked_bitstring):\n",
    "            if not bit:\n",
    "                circuit.append(cirq.X(q))\n",
    "        \n",
    "        circuit.append(cirq.H.on_each(*qubits))\n",
    "        circuit.append(cirq.X.on_each(*qubits))\n",
    "        \n",
    "        controls = len(qubits)\n",
    "        mcx_gate = cirq.ControlledGate(sub_gate=cirq.X, num_controls=controls)\n",
    "        circuit.append(mcx_gate(*qubits, ancilla))\n",
    "        \n",
    "        circuit.append(cirq.X.on_each(*qubits))\n",
    "        circuit.append(cirq.H.on_each(*qubits))\n",
    "    \n",
    "    circuit.append(cirq.measure(*qubits, key=\"result\"))\n",
    "    return circuit\n"
   ]
  },
  {
   "cell_type": "markdown",
   "metadata": {},
   "source": [
    "### Step 2.3: Initialize Two Qubit Registers\n",
    "\n",
    "- **Qubits**: Create a register of qubits for the main quantum operations.\n",
    "- **Ancilla**: An additional qubit used in the oracle function for marking the correct solution.\n"
   ]
  },
  {
   "cell_type": "code",
   "execution_count": 7,
   "metadata": {},
   "outputs": [],
   "source": [
    "qubits = cirq.LineQubit.range(num_qubits)\n",
    "ancilla = cirq.NamedQubit('Ancilla')\n"
   ]
  },
  {
   "cell_type": "markdown",
   "metadata": {},
   "source": [
    "### Step 2.4: Get Marked Bitstring\n",
    "\n",
    "- **Function `get_marked_bitstring`**: Converts the correct choice into a binary string with a specified length.\n",
    "  - Converts the correct choice to its binary representation.\n",
    "  - Pads the binary string to match the number of qubits."
   ]
  },
  {
   "cell_type": "code",
   "execution_count": 8,
   "metadata": {},
   "outputs": [
    {
     "name": "stdout",
     "output_type": "stream",
     "text": [
      "[0, 1, 0]\n"
     ]
    }
   ],
   "source": [
    "def get_marked_bitstring(correct_choice, num_qubits):\n",
    "    binary_representation = list(bin(correct_choice)[2:])\n",
    "    marked_bitstring = [eval(i) for i in binary_representation]\n",
    "    desired_length = num_qubits\n",
    "    marked_bitstring = [0] * (desired_length - len(marked_bitstring)) + marked_bitstring\n",
    "    return marked_bitstring\n",
    "\n",
    "marked_bitstring = get_marked_bitstring(correct_choice, num_qubits)\n",
    "print(marked_bitstring)\n"
   ]
  },
  {
   "cell_type": "markdown",
   "metadata": {},
   "source": [
    "### Step 2.5: Creating the Grover Circuit Using the Function\n",
    "\n",
    "- **Oracle**: Generates the oracle circuit to mark the correct bitstring.\n",
    "- **Grover Circuit**: Constructs the entire Grover search circuit and performs the specified number of iterations.\n"
   ]
  },
  {
   "cell_type": "code",
   "execution_count": 9,
   "metadata": {},
   "outputs": [
    {
     "name": "stdout",
     "output_type": "stream",
     "text": [
      "0: ─────────H───X───@───X───H───X───@───X───H───X───@───X───H───X───@───X───H───M('result')───\n",
      "                    │               │               │               │           │\n",
      "1: ─────────H───────@───H───X───────@───X───H───────@───H───X───────@───X───H───M─────────────\n",
      "                    │               │               │               │           │\n",
      "2: ─────────H───X───@───X───H───X───@───X───H───X───@───X───H───X───@───X───H───M─────────────\n",
      "                    │               │               │               │\n",
      "Ancilla: ───X───H───X───────────────X───────────────X───────────────X─────────────────────────\n"
     ]
    }
   ],
   "source": [
    "oracle = make_oracle(qubits, ancilla, marked_bitstring)\n",
    "circuit = grover_iteration(qubits=qubits, ancilla=ancilla, marked_bitstring=marked_bitstring, reps=2)\n",
    "print(circuit)\n"
   ]
  },
  {
   "cell_type": "markdown",
   "metadata": {},
   "source": [
    "## Part 3: Visualizing the Result of Grover's Algorithm"
   ]
  },
  {
   "cell_type": "markdown",
   "metadata": {},
   "source": [
    "### Step 3.1: Define Helper Functions\n",
    "\n",
    "- **Function `bitstring`**: Converts a list of bits into a string.\n",
    "- **Function `binary_labels`**: Generates binary labels for all possible states given the number of qubits.\n"
   ]
  },
  {
   "cell_type": "code",
   "execution_count": 10,
   "metadata": {},
   "outputs": [],
   "source": [
    "def bitstring(bits):\n",
    "    return \"\".join(str(int(b)) for b in bits)\n",
    "\n",
    "def binary_labels(num_qubits):\n",
    "    return [bin(x)[2:].zfill(num_qubits) for x in range(2**num_qubits)]\n"
   ]
  },
  {
   "cell_type": "markdown",
   "metadata": {},
   "source": [
    "### Step 3.2: Run the Circuit Using a Simulator\n",
    "\n",
    "- **Simulator**: Use Cirq's simulator to run the circuit and obtain results.\n",
    "- **Repetitions**: Perform multiple repetitions to gather statistics on the measurement outcomes.\n"
   ]
  },
  {
   "cell_type": "code",
   "execution_count": 11,
   "metadata": {},
   "outputs": [],
   "source": [
    "simulator = cirq.Simulator()\n",
    "result = simulator.run(circuit, repetitions=1024)"
   ]
  },
  {
   "cell_type": "markdown",
   "metadata": {},
   "source": [
    "### Step 3.3: Analyze the Results\n",
    "\n",
    "- **Histogram**: Compute the frequencies of each measurement outcome.\n",
    "- **Most Common Bitstring**: Identify the most frequently observed bitstring.\n",
    "- **Match Check**: Verify if the most common bitstring matches the marked bitstring."
   ]
  },
  {
   "cell_type": "code",
   "execution_count": 12,
   "metadata": {},
   "outputs": [
    {
     "name": "stdout",
     "output_type": "stream",
     "text": [
      "Sample results: \n",
      "Counter({'010': 961, '000': 14, '011': 11, '001': 10, '101': 8, '111': 8, '100': 7, '110': 5})\n",
      "\n",
      "Most common bitstring: 010\n",
      "\n",
      "Found match? True\n"
     ]
    }
   ],
   "source": [
    "frequencies = result.histogram(key='result', fold_func=bitstring)\n",
    "print('Sample results: \\n{}'.format(frequencies))\n",
    "\n",
    "most_common_bit_string = frequencies.most_common(1)[0][0]\n",
    "print('\\nMost common bitstring: {}'.format(most_common_bit_string))\n",
    "print('\\nFound match? {}'.format(most_common_bit_string == bitstring(marked_bitstring)))\n"
   ]
  },
  {
   "cell_type": "markdown",
   "metadata": {},
   "source": [
    "### Step 3.4: Plot the Histogram\n",
    "\n",
    "- **Histogram Plot**: Visualize the measurement outcomes using a histogram.\n",
    "- **Labels**: Use binary labels for the x-axis to represent quantum states.\n"
   ]
  },
  {
   "cell_type": "code",
   "execution_count": 13,
   "metadata": {},
   "outputs": [
    {
     "data": {
      "image/png": "[encoded data removed]",
      "text/plain": [
       "<Figure size 640x480 with 1 Axes>"
      ]
     },
     "metadata": {},
     "output_type": "display_data"
    }
   ],
   "source": [
    "hist = cirq.plot_state_histogram(result, plt.subplot(), title='Grover\\'s Algorithm', xlabel='States', ylabel='Occurrences', tick_label=binary_labels(3))\n",
    "plt.show()\n"
   ]
  },
  {
   "cell_type": "markdown",
   "metadata": {},
   "source": [
    "## Discussing the Results\n",
    "\n",
    "1. **Sample Results**:\n",
    "   - The output shows a distribution of different bitstrings obtained from the measurements.\n",
    "   - The bitstring `'010'` has the highest frequency, indicating it is the most probable outcome.\n",
    "\n",
    "2. **Most Common Bitstring**:\n",
    "   - The most common bitstring `'010'` matches the marked bitstring, which is the correct choice to be found by Grover's algorithm.\n",
    "   - The fact that this result matches the marked bitstring consistently across different runs indicates that Grover's algorithm successfully amplifies the probability of measuring the correct solution.\n",
    "\n",
    "3. **Correct Search**:\n",
    "   - Grover's algorithm uses amplitude amplification to increase the likelihood of measuring the correct bitstring.\n",
    "   - In classical search, you would need to check each option one by one, requiring $O(N)$ operations for $N$ possible solutions.\n",
    "   - Grover's algorithm, on the other hand, finds the correct solution in approximately $O(\\sqrt{N})$ operations, making it significantly more efficient.\n",
    "\n",
    "### Iteration Count and Efficiency\n",
    "\n",
    "1. **Number of Iterations (Reps)**:\n",
    "   - The number of repetitions, `reps`, in the Grover iteration is crucial for determining the success of the algorithm.\n",
    "   - The optimal number of iterations is approximately $\\frac{\\pi}{4} \\sqrt{N}$, where $N$ is the number of possible solutions. For your case, with 8 choices, the optimal number is about 2 iterations, which is what you have set.\n",
    "\n",
    "2. **Efficiency**:\n",
    "   - The efficiency of Grover's algorithm comes from its ability to dramatically reduce the number of operations needed to find the correct solution compared to classical search methods.\n",
    "   - As the number of possible solutions increases, the advantage of Grover's algorithm becomes more pronounced. For example, for a problem with $N = 10,000$ possible solutions, Grover's algorithm would need around 100 iterations instead of checking all 10,000 solutions classically.\n",
    "\n",
    "3. **Probability Amplification**:\n",
    "   - With each iteration, the probability of measuring the correct solution increases. This amplification ensures that, after the optimal number of iterations, the correct solution has the highest probability.\n",
    "\n",
    "### Conclusion\n",
    "\n",
    "Grover's algorithm is a powerful quantum search algorithm that efficiently finds the marked solution with high probability using significantly fewer iterations than classical search methods. Your implementation, which correctly identifies the marked bitstring as the most common result, showcases this efficiency. As the problem size increases, Grover's algorithm's advantage becomes even more substantial, highlighting its importance in quantum computing.\n"
   ]
  }
 ],
 "metadata": {
  "kernelspec": {
   "display_name": "cirq_env",
   "language": "python",
   "name": "python3"
  },
  "language_info": {
   "codemirror_mode": {
    "name": "ipython",
    "version": 3
   },
   "file_extension": ".py",
   "mimetype": "text/x-python",
   "name": "python",
   "nbconvert_exporter": "python",
   "pygments_lexer": "ipython3",
   "version": "3.8.19"
  }
 },
 "nbformat": 4,
 "nbformat_minor": 2
}
