{
 "cells": [
  {
   "cell_type": "markdown",
   "metadata": {},
   "source": [
    "## Quantum Teleportation\n",
    "\n",
    "Quantum teleportation enables the `transfer of an unknown quantum state using two classical bits`, without physically sending the quantum particle itself, through entanglement and classical communication.\n",
    "\n",
    "### How Quantum Teleportation Works\n",
    "\n",
    "1. **Entanglement Creation**:\n",
    "   - Two qubits, typically referred to as Alice's qubit and Bob's qubit, are entangled. This means their states are correlated in such a way that the state of one qubit instantly influences the state of the other, regardless of the distance between them.\n",
    "\n",
    "2. **State Preparation**:\n",
    "   - The qubit whose state is to be teleported (let's call it the \"target qubit\") is prepared in the desired state. This is the state we want to transfer to Bob's qubit.\n",
    "\n",
    "3. **Bell State Measurement**:\n",
    "   - Alice performs a joint measurement on her qubit and the target qubit. This measurement projects the qubits into one of the Bell states (maximally entangled states), and its outcome is used to determine the necessary corrections.\n",
    "\n",
    "4. **Classical Communication**:\n",
    "   - The result of Alice's measurement is sent to Bob through a classical communication channel. This is essential because, due to the nature of quantum mechanics, Bob cannot infer the correct state solely from the quantum channel.\n",
    "\n",
    "5. **State Correction**:\n",
    "   - Bob uses the classical information received from Alice to apply appropriate quantum gates to his qubit, ensuring it now replicates the state of the target qubit. Depending on Alice's measurement result, he might apply specific gates like Pauli X or Z.\n",
    "\n",
    "### Key Points\n",
    "\n",
    "- **No Faster-Than-Light Communication**: Quantum teleportation does not allow for faster-than-light communication because the classical communication of measurement results is necessary.\n",
    "\n",
    "- **Quantum Entanglement**: The process relies on pre-shared entanglement, making the initial setup crucial for successful teleportation.\n",
    "\n",
    "- **State Destruction**: The original state of the target qubit is destroyed during the teleportation process, as dictated by the no-cloning theorem in quantum mechanics.\n",
    "\n",
    "Quantum teleportation enables the transfer of an unknown quantum state between distant parties using entanglement and classical communication. It leverages the unique properties of quantum entanglement and measurement to achieve this transfer, demonstrating the power and potential of quantum communication and information processing.\n",
    "\n",
    "**NOTE :** `If you want to see the easy version of Quantum Teleportation go to the lesson 2.7 Part 1.2`\n"
   ]
  },
  {
   "cell_type": "code",
   "execution_count": 1,
   "metadata": {},
   "outputs": [],
   "source": [
    "import matplotlib.pyplot as plt\n",
    "import numpy as np\n",
    "from numpy import pi, random\n",
    "\n",
    "import cirq\n",
    "\n",
    "\n",
    "def binary_labels(num_qubits):\n",
    "    return [bin(x)[2:].zfill(num_qubits) for x in range (2**num_qubits)]\n",
    "\n",
    "plt.rcParams.update({'font.size': 8})"
   ]
  },
  {
   "cell_type": "markdown",
   "metadata": {},
   "source": [
    "## Part 1: Creating the Quantum Teleportation Protocol\n"
   ]
  },
  {
   "cell_type": "markdown",
   "metadata": {},
   "source": [
    "### Step 1.1: Define Qubits\n",
    "-  For Alice's qubit (A), Bob's qubit (B), and the qubit to be teleported (Q)"
   ]
  },
  {
   "cell_type": "code",
   "execution_count": 2,
   "metadata": {},
   "outputs": [],
   "source": [
    "qubit = cirq.NamedQubit('Q')\n",
    "ebit0 = cirq.NamedQubit('A')\n",
    "ebit1 = cirq.NamedQubit('B')"
   ]
  },
  {
   "cell_type": "markdown",
   "metadata": {},
   "source": [
    "### Step 1.2: Create the Quantum Circuit and Prepare the Entangled Pair\n",
    "\n",
    "In this step, we create a quantum circuit and prepare the entangled pair of qubits that will be used for teleportation. The process involves the following operations:\n",
    "\n",
    "1. **Create a Quantum Circuit**: We initialize a new `cirq.Circuit` object to hold our quantum operations.\n",
    "\n",
    "2. **Apply Hadamard Gate**: We apply a Hadamard gate to the first qubit (`ebit0`). This gate puts `ebit0` into a superposition state, which is a crucial step for creating entanglement.\n",
    "\n",
    "3. **Apply CNOT Gate**: We then apply a CNOT (Controlled-NOT) gate with `ebit0` as the control qubit and the second qubit (`ebit1`) as the target qubit. This operation entangles `ebit0` and `ebit1`, setting up the entangled pair needed for the teleportation protocol."
   ]
  },
  {
   "cell_type": "code",
   "execution_count": 3,
   "metadata": {},
   "outputs": [
    {
     "data": {
      "text/html": [
       "<pre style=\"overflow: auto; white-space: pre;\">A: ───H───@───\n",
       "          │\n",
       "B: ───────X───</pre>"
      ],
      "text/plain": [
       "A: ───H───@───\n",
       "          │\n",
       "B: ───────X───"
      ]
     },
     "execution_count": 3,
     "metadata": {},
     "output_type": "execute_result"
    }
   ],
   "source": [
    "# Create a circuit\n",
    "protocol = cirq.Circuit()\n",
    "\n",
    "# Prepare entangled pair\n",
    "protocol.append(cirq.H(ebit0))           # Put ebit0 into superposition\n",
    "protocol.append(cirq.CNOT(ebit0, ebit1)) # Entangle ebit0 and ebit1\n",
    "\n",
    "protocol"
   ]
  },
  {
   "cell_type": "markdown",
   "metadata": {},
   "source": [
    "### Step 1.3: Alice's Operations\n",
    "\n",
    "In this step, Alice performs operations on her qubit and the qubit to be teleported. The operations are as follows:\n",
    "\n",
    "1. **Apply CNOT Gate**: Alice applies a CNOT gate between the qubit to be teleported (`Q`) and her entangled qubit (`ebit0`). The qubit `Q` is the control, and `ebit0` is the target. This operation entangles the qubit `Q` with `ebit0`.\n",
    "\n",
    "2. **Apply Hadamard Gate**: Alice then applies a Hadamard gate to the qubit `Q`. This operation puts `Q` into a superposition state, preparing it for measurement in the quantum teleportation protocol.\n",
    "\n",
    "These operations are crucial for the quantum teleportation process, as they set up the necessary conditions for measuring the qubits and transmitting the quantum state."
   ]
  },
  {
   "cell_type": "code",
   "execution_count": 4,
   "metadata": {},
   "outputs": [
    {
     "data": {
      "text/html": [
       "<pre style=\"overflow: auto; white-space: pre;\">A: ───H───@───X───────\n",
       "          │   │\n",
       "B: ───────X───┼───────\n",
       "              │\n",
       "Q: ───────────@───H───</pre>"
      ],
      "text/plain": [
       "A: ───H───@───X───────\n",
       "          │   │\n",
       "B: ───────X───┼───────\n",
       "              │\n",
       "Q: ───────────@───H───"
      ]
     },
     "execution_count": 4,
     "metadata": {},
     "output_type": "execute_result"
    }
   ],
   "source": [
    "# Alice's operations\n",
    "protocol.append(cirq.CNOT(qubit, ebit0)) # Entangle qubit with ebit0\n",
    "protocol.append(cirq.H(qubit))           # Prepare qubit for measurement\n",
    "\n",
    "protocol"
   ]
  },
  {
   "cell_type": "markdown",
   "metadata": {},
   "source": [
    "### Step 1.4: Measure Alice's Qubits\n",
    "\n",
    "In this step, Alice measures her qubits and stores the results in classical registers. This information is crucial for Bob to reconstruct the original state of the qubit being teleported. The steps involved are:\n",
    "\n",
    "1. **Measure ebit0**: Alice measures her entangled qubit (`ebit0`) and stores the result in a classical register labeled 'a'. This measurement collapses the entangled state and provides the first piece of information needed for teleportation.\n",
    "\n",
    "2. **Measure Qubit**: Alice measures the qubit to be teleported (`Q`) and stores the result in a classical register labeled 'b'. This measurement provides the second piece of information required for Bob to perform his corrections.\n",
    "\n",
    "The measurement results are essential for completing the quantum teleportation protocol, as they will be used to inform Bob's conditional operations."
   ]
  },
  {
   "cell_type": "code",
   "execution_count": 5,
   "metadata": {},
   "outputs": [
    {
     "data": {
      "text/html": [
       "<pre style=\"overflow: auto; white-space: pre;\">A: ───H───@───X───M(&#x27;a&#x27;)────────────\n",
       "          │   │\n",
       "B: ───────X───┼─────────────────────\n",
       "              │\n",
       "Q: ───────────@───H────────M(&#x27;b&#x27;)───</pre>"
      ],
      "text/plain": [
       "A: ───H───@───X───M('a')────────────\n",
       "          │   │\n",
       "B: ───────X───┼─────────────────────\n",
       "              │\n",
       "Q: ───────────@───H────────M('b')───"
      ]
     },
     "execution_count": 5,
     "metadata": {},
     "output_type": "execute_result"
    }
   ],
   "source": [
    "# Measure Alice's qubits\n",
    "protocol.append(cirq.measure(ebit0, key='a'))\n",
    "protocol.append(cirq.measure(qubit, key='b'))\n",
    "\n",
    "protocol"
   ]
  },
  {
   "cell_type": "markdown",
   "metadata": {},
   "source": [
    "### 1.5 Bob's Conditional Operations\n",
    "\n",
    "In this step, Bob applies conditional operations to his qubit based on the measurement results he receives from Alice. These operations correct the state of his qubit to match the original state of the qubit that Alice teleported. The process involves:\n",
    "\n",
    "1. **Conditional X Gate**: Bob applies an X gate to his qubit (`ebit1`) if the classical measurement result of `ebit0` is 1. This operation corrects the bit flip that may have occurred during teleportation.\n",
    "\n",
    "2. **Conditional Z Gate**: Bob applies a Z gate to his qubit (`ebit1`) if the classical measurement result of `Q` is 1. This operation corrects the phase flip that may have occurred during teleportation.\n",
    "\n",
    "These conditional operations ensure that Bob's qubit accurately reflects the original state of the qubit that Alice intended to teleport."
   ]
  },
  {
   "cell_type": "code",
   "execution_count": 6,
   "metadata": {},
   "outputs": [
    {
     "data": {
      "text/html": [
       "<pre style=\"overflow: auto; white-space: pre;\">                  ┌──┐   ┌──┐\n",
       "A: ───H───@───X─────M───────────────\n",
       "          │   │     ║\n",
       "B: ───────X───┼─────╫──────X────Z───\n",
       "              │     ║      ║    ║\n",
       "Q: ───────────@────H╫─────M╫────╫───\n",
       "                    ║     ║║    ║\n",
       "a: ═════════════════@═════╬^════╬═══\n",
       "                          ║     ║\n",
       "b: ═══════════════════════@═════^═══\n",
       "                  └──┘   └──┘</pre>"
      ],
      "text/plain": [
       "                  ┌──┐   ┌──┐\n",
       "A: ───H───@───X─────M───────────────\n",
       "          │   │     ║\n",
       "B: ───────X───┼─────╫──────X────Z───\n",
       "              │     ║      ║    ║\n",
       "Q: ───────────@────H╫─────M╫────╫───\n",
       "                    ║     ║║    ║\n",
       "a: ═════════════════@═════╬^════╬═══\n",
       "                          ║     ║\n",
       "b: ═══════════════════════@═════^═══\n",
       "                  └──┘   └──┘"
      ]
     },
     "execution_count": 6,
     "metadata": {},
     "output_type": "execute_result"
    }
   ],
   "source": [
    "# Bob's conditional operations based on Alice's measurements\n",
    "protocol.append(cirq.X(ebit1).with_classical_controls('a'))  # Apply X gate if 'a' is 1\n",
    "protocol.append(cirq.Z(ebit1).with_classical_controls('b'))  # Apply Z gate if 'b' is 1\n",
    "\n",
    "protocol"
   ]
  },
  {
   "cell_type": "markdown",
   "metadata": {},
   "source": [
    "### Step 1.6: Display the Quantum Teleportation Protocol\n",
    "\n",
    "In this step, we display the quantum teleportation protocol using Cirq's circuit visualization capabilities. This allows us to see the sequence of operations applied to the qubits.\n",
    "\n",
    "**NOTE :** we display the quantum teleportation protocol using Cirq's `SVGCircuit`, which provides a clear visual representation of the circuit.\n",
    "\n",
    "**Warning???** Ignore the `findfont: Font family 'Arial' not found` error."
   ]
  },
  {
   "cell_type": "code",
   "execution_count": 7,
   "metadata": {},
   "outputs": [
    {
     "name": "stderr",
     "output_type": "stream",
     "text": [
      "findfont: Font family 'Arial' not found.\n"
     ]
    },
    {
     "name": "stdout",
     "output_type": "stream",
     "text": [
      "Quantum Teleportation Protocol Circuit:\n",
      "                  ┌──┐   ┌──┐\n",
      "A: ───H───@───X─────M───────────────\n",
      "          │   │     ║\n",
      "B: ───────X───┼─────╫──────X────Z───\n",
      "              │     ║      ║    ║\n",
      "Q: ───────────@────H╫─────M╫────╫───\n",
      "                    ║     ║║    ║\n",
      "a: ═════════════════@═════╬^════╬═══\n",
      "                          ║     ║\n",
      "b: ═══════════════════════@═════^═══\n",
      "                  └──┘   └──┘\n"
     ]
    },
    {
     "name": "stderr",
     "output_type": "stream",
     "text": [
      "findfont: Font family 'Arial' not found.\n",
      "findfont: Font family 'Arial' not found.\n",
      "findfont: Font family 'Arial' not found.\n",
      "findfont: Font family 'Arial' not found.\n",
      "findfont: Font family 'Arial' not found.\n",
      "findfont: Font family 'Arial' not found.\n",
      "findfont: Font family 'Arial' not found.\n",
      "findfont: Font family 'Arial' not found.\n",
      "findfont: Font family 'Arial' not found.\n",
      "findfont: Font family 'Arial' not found.\n",
      "findfont: Font family 'Arial' not found.\n",
      "findfont: Font family 'Arial' not found.\n",
      "findfont: Font family 'Arial' not found.\n",
      "findfont: Font family 'Arial' not found.\n",
      "findfont: Font family 'Arial' not found.\n",
      "findfont: Font family 'Arial' not found.\n",
      "findfont: Font family 'Arial' not found.\n",
      "findfont: Font family 'Arial' not found.\n"
     ]
    },
    {
     "data": {
      "image/svg+xml": [
       "<svg xmlns=\"http://www.w3.org/2000/svg\" width=\"540.0\" height=\"290.0\"><line x1=\"30.0\" x2=\"510.0\" y1=\"45.0\" y2=\"45.0\" stroke=\"#1967d2\" stroke-width=\"1\" /><line x1=\"30.0\" x2=\"510.0\" y1=\"95.0\" y2=\"95.0\" stroke=\"#1967d2\" stroke-width=\"1\" /><line x1=\"30.0\" x2=\"510.0\" y1=\"145.0\" y2=\"145.0\" stroke=\"#1967d2\" stroke-width=\"1\" /><line x1=\"30.0\" x2=\"510.0\" y1=\"195.0\" y2=\"195.0\" stroke=\"#1967d2\" stroke-width=\"1\" /><line x1=\"30.0\" x2=\"510.0\" y1=\"245.0\" y2=\"245.0\" stroke=\"#1967d2\" stroke-width=\"1\" /><line x1=\"340.0\" x2=\"430.0\" y1=\"5.0\" y2=\"5.0\" stroke=\"black\" stroke-width=\"1\" /><line x1=\"340.0\" x2=\"430.0\" y1=\"285.0\" y2=\"285.0\" stroke=\"black\" stroke-width=\"1\" /><line x1=\"240.0\" x2=\"330.0\" y1=\"5.0\" y2=\"5.0\" stroke=\"black\" stroke-width=\"1\" /><line x1=\"240.0\" x2=\"330.0\" y1=\"285.0\" y2=\"285.0\" stroke=\"black\" stroke-width=\"1\" /><line x1=\"150.0\" x2=\"150.0\" y1=\"45.0\" y2=\"95.0\" stroke=\"black\" stroke-width=\"3\" /><line x1=\"210.0\" x2=\"210.0\" y1=\"45.0\" y2=\"145.0\" stroke=\"black\" stroke-width=\"3\" /><line x1=\"300.0\" x2=\"300.0\" y1=\"45.0\" y2=\"195.0\" stroke=\"black\" stroke-width=\"3\" /><line x1=\"360.0\" x2=\"360.0\" y1=\"145.0\" y2=\"245.0\" stroke=\"black\" stroke-width=\"3\" /><line x1=\"400.0\" x2=\"400.0\" y1=\"95.0\" y2=\"195.0\" stroke=\"black\" stroke-width=\"3\" /><line x1=\"470.0\" x2=\"470.0\" y1=\"95.0\" y2=\"245.0\" stroke=\"black\" stroke-width=\"3\" /><line x1=\"340.0\" x2=\"340.0\" y1=\"5.0\" y2=\"15.0\" stroke=\"black\" stroke-width=\"3\" /><line x1=\"430.0\" x2=\"430.0\" y1=\"5.0\" y2=\"15.0\" stroke=\"black\" stroke-width=\"3\" /><line x1=\"340.0\" x2=\"340.0\" y1=\"275.0\" y2=\"285.0\" stroke=\"black\" stroke-width=\"3\" /><line x1=\"430.0\" x2=\"430.0\" y1=\"275.0\" y2=\"285.0\" stroke=\"black\" stroke-width=\"3\" /><line x1=\"240.0\" x2=\"240.0\" y1=\"5.0\" y2=\"15.0\" stroke=\"black\" stroke-width=\"3\" /><line x1=\"330.0\" x2=\"330.0\" y1=\"5.0\" y2=\"15.0\" stroke=\"black\" stroke-width=\"3\" /><line x1=\"240.0\" x2=\"240.0\" y1=\"275.0\" y2=\"285.0\" stroke=\"black\" stroke-width=\"3\" /><line x1=\"330.0\" x2=\"330.0\" y1=\"275.0\" y2=\"285.0\" stroke=\"black\" stroke-width=\"3\" /><rect x=\"10.0\" y=\"25.0\" width=\"40\" height=\"40\" stroke=\"black\" fill=\"white\" stroke-width=\"0\" /><text x=\"30.0\" y=\"45.0\" dominant-baseline=\"middle\" text-anchor=\"middle\" font-size=\"14px\" font-family=\"Arial\">A: </text><rect x=\"10.0\" y=\"75.0\" width=\"40\" height=\"40\" stroke=\"black\" fill=\"white\" stroke-width=\"0\" /><text x=\"30.0\" y=\"95.0\" dominant-baseline=\"middle\" text-anchor=\"middle\" font-size=\"14px\" font-family=\"Arial\">B: </text><rect x=\"10.0\" y=\"125.0\" width=\"40\" height=\"40\" stroke=\"black\" fill=\"white\" stroke-width=\"0\" /><text x=\"30.0\" y=\"145.0\" dominant-baseline=\"middle\" text-anchor=\"middle\" font-size=\"14px\" font-family=\"Arial\">Q: </text><rect x=\"10.0\" y=\"175.0\" width=\"40\" height=\"40\" stroke=\"black\" fill=\"white\" stroke-width=\"0\" /><text x=\"30.0\" y=\"195.0\" dominant-baseline=\"middle\" text-anchor=\"middle\" font-size=\"14px\" font-family=\"Arial\">a: </text><rect x=\"10.0\" y=\"225.0\" width=\"40\" height=\"40\" stroke=\"black\" fill=\"white\" stroke-width=\"0\" /><text x=\"30.0\" y=\"245.0\" dominant-baseline=\"middle\" text-anchor=\"middle\" font-size=\"14px\" font-family=\"Arial\">b: </text><rect x=\"70.0\" y=\"25.0\" width=\"40\" height=\"40\" stroke=\"black\" fill=\"white\" stroke-width=\"1\" /><text x=\"90.0\" y=\"45.0\" dominant-baseline=\"middle\" text-anchor=\"middle\" font-size=\"18px\" font-family=\"Arial\">H</text><circle cx=\"150.0\" cy=\"45.0\" r=\"10.0\" /><rect x=\"130.0\" y=\"75.0\" width=\"40\" height=\"40\" stroke=\"black\" fill=\"white\" stroke-width=\"1\" /><text x=\"150.0\" y=\"95.0\" dominant-baseline=\"middle\" text-anchor=\"middle\" font-size=\"18px\" font-family=\"Arial\">X</text><circle cx=\"210.0\" cy=\"145.0\" r=\"10.0\" /><rect x=\"190.0\" y=\"25.0\" width=\"40\" height=\"40\" stroke=\"black\" fill=\"white\" stroke-width=\"1\" /><text x=\"210.0\" y=\"45.0\" dominant-baseline=\"middle\" text-anchor=\"middle\" font-size=\"18px\" font-family=\"Arial\">X</text><rect x=\"240.0\" y=\"125.0\" width=\"40\" height=\"40\" stroke=\"black\" fill=\"white\" stroke-width=\"1\" /><text x=\"260.0\" y=\"145.0\" dominant-baseline=\"middle\" text-anchor=\"middle\" font-size=\"18px\" font-family=\"Arial\">H</text><rect x=\"280.0\" y=\"25.0\" width=\"40\" height=\"40\" stroke=\"black\" fill=\"white\" stroke-width=\"1\" /><text x=\"300.0\" y=\"45.0\" dominant-baseline=\"middle\" text-anchor=\"middle\" font-size=\"18px\" font-family=\"Arial\">M</text><circle cx=\"300.0\" cy=\"195.0\" r=\"10.0\" /><rect x=\"340.0\" y=\"125.0\" width=\"40\" height=\"40\" stroke=\"black\" fill=\"white\" stroke-width=\"1\" /><text x=\"360.0\" y=\"145.0\" dominant-baseline=\"middle\" text-anchor=\"middle\" font-size=\"18px\" font-family=\"Arial\">M</text><circle cx=\"360.0\" cy=\"245.0\" r=\"10.0\" /><rect x=\"380.0\" y=\"75.0\" width=\"40\" height=\"40\" stroke=\"black\" fill=\"white\" stroke-width=\"1\" /><text x=\"400.0\" y=\"95.0\" dominant-baseline=\"middle\" text-anchor=\"middle\" font-size=\"18px\" font-family=\"Arial\">X</text><rect x=\"380.0\" y=\"175.0\" width=\"40\" height=\"40\" stroke=\"black\" fill=\"white\" stroke-width=\"1\" /><text x=\"400.0\" y=\"195.0\" dominant-baseline=\"middle\" text-anchor=\"middle\" font-size=\"18px\" font-family=\"Arial\">^</text><rect x=\"450.0\" y=\"75.0\" width=\"40\" height=\"40\" stroke=\"black\" fill=\"white\" stroke-width=\"1\" /><text x=\"470.0\" y=\"95.0\" dominant-baseline=\"middle\" text-anchor=\"middle\" font-size=\"18px\" font-family=\"Arial\">Z</text><rect x=\"450.0\" y=\"225.0\" width=\"40\" height=\"40\" stroke=\"black\" fill=\"white\" stroke-width=\"1\" /><text x=\"470.0\" y=\"245.0\" dominant-baseline=\"middle\" text-anchor=\"middle\" font-size=\"18px\" font-family=\"Arial\">^</text></svg>"
      ],
      "text/plain": [
       "<cirq.contrib.svg.svg.SVGCircuit at 0x7fce96a39a30>"
      ]
     },
     "metadata": {},
     "output_type": "display_data"
    }
   ],
   "source": [
    "import cirq.contrib.svg as svg\n",
    "\n",
    "# Display the circuit\n",
    "print(\"Quantum Teleportation Protocol Circuit:\")\n",
    "print(protocol)\n",
    "\n",
    "# Display the circuit using SVGCircuit\n",
    "svg_circuit = svg.SVGCircuit(protocol)\n",
    "display(svg_circuit)"
   ]
  },
  {
   "cell_type": "markdown",
   "metadata": {},
   "source": [
    "## Part 2: Define a Random $U$ Gate with Random Parameters\n",
    "\n",
    "### The Role of the Random $U$ Gate in Quantum Teleportation\n",
    "\n",
    "The random unitary gate ($U$ gate) is an essential component in this quantum teleportation demonstration for several reasons:\n",
    "\n",
    "1. **Creating an Arbitrary Quantum State**:\n",
    "   - The objective of quantum teleportation is to transfer an arbitrary quantum state from one qubit (Alice's) to another (Bob's) without physically moving the qubit itself.\n",
    "   - The random unitary gate is applied to the initial $|0\\rangle$ state of qubit $Q$ to transform it into a random quantum state. This simulates a scenario where the state to be teleported is unknown and could be any valid quantum state.\n",
    "\n",
    "2. **Testing the Protocol's Functionality**:\n",
    "   - By using a randomly generated unitary transformation, the teleportation protocol is tested against a wide range of possible states, ensuring its capability to handle any quantum state.\n",
    "   - This adds robustness to the test, as the random gate can produce diverse states, challenging the teleportation process to correctly manage and transfer these states.\n",
    "\n",
    "3. **Verification of Teleportation**:\n",
    "   - After executing the teleportation protocol, the inverse of the random unitary gate is applied to Bob's qubit to verify the teleportation's accuracy.\n",
    "   - If the teleportation is successful, the inverse transformation should return Bob's qubit to the $|0\\rangle$ state, effectively reversing the initial transformation. Measuring the qubit should confirm this return to $|0\\rangle$ , validating the teleportation process.\n",
    "\n",
    "In summary, the random unitary gate is critical for creating a diverse range of test states and verifying the teleportation protocol's ability to accurately transfer arbitrary quantum states.\n"
   ]
  },
  {
   "cell_type": "markdown",
   "metadata": {},
   "source": [
    "### Step 2.1: Create Function to Generate Random Gate Matrix\n",
    "\n",
    "In this step, we define a function to generate the matrix representation of a unitary gate using the random parameters $\\theta$, $\\phi$, and $\\lambda$. This matrix specifies how the unitary gate transforms a quantum state.\n",
    "\n",
    "**Background**:\n",
    "A single-qubit unitary matrix can be parameterized using three angles: $\\theta$, $\\phi$, and $\\lambda$. This general form allows for a wide range of transformations that can be applied to a qubit:\n",
    "\n",
    "$$\n",
    "U(\\theta, \\phi, \\lambda) = \\begin{pmatrix}\n",
    "\\cos\\left(\\frac{\\theta}{2}\\right) & -e^{i \\lambda} \\sin\\left(\\frac{\\theta}{2}\\right) \\\\\n",
    "e^{i \\phi} \\sin\\left(\\frac{\\theta}{2}\\right) & e^{i (\\phi + \\lambda)} \\cos\\left(\\frac{\\theta}{2}\\right)\n",
    "\\end{pmatrix}\n",
    "$$\n",
    "\n",
    "**How to Use This Formula**:\n",
    "\n",
    "1. **Parameter Generation**:\n",
    "   - Randomly generate the values for $\\theta$, $\\phi$, and $\\lambda$, each within the range of $0$ to $2\\pi$. These parameters define the specific transformation applied by the gate.\n",
    "\n",
    "2. **Matrix Construction**:\n",
    "   - The matrix is constructed using these parameters:\n",
    "     - $\\cos\\left(\\frac{\\theta}{2}\\right)$ and $\\sin\\left(\\frac{\\theta}{2}\\right)$ determine the amplitude adjustments.\n",
    "     - The exponential terms $e^{i \\lambda}$ and $e^{i \\phi}$ introduce phase shifts, critical for capturing the unitary's effect.\n",
    "\n",
    "3. **Matrix Representation**:\n",
    "   - The function `random_unitary_gate_matrix` uses these parameters to compute and return the matrix as a NumPy array, making it suitable for integration into a quantum circuit.\n"
   ]
  },
  {
   "cell_type": "code",
   "execution_count": 8,
   "metadata": {},
   "outputs": [],
   "source": [
    "# Define the matrix for the unitary gate using the random parameters\n",
    "def random_unitary_gate_matrix(theta, phi, lam):\n",
    "    return np.array([\n",
    "        [np.cos(theta / 2), -np.exp(1j * lam) * np.sin(theta / 2)],\n",
    "        [np.exp(1j * phi) * np.sin(theta / 2), np.exp(1j * (phi + lam)) * np.cos(theta / 2)]\n",
    "    ])"
   ]
  },
  {
   "cell_type": "markdown",
   "metadata": {},
   "source": [
    "### Step 2.2: Define Parameters and Create the Random Gate\n",
    "\n",
    "In this step, we define the random parameters for the unitary gate and create its matrix representation. This matrix demonstrates the transformation applied by the gate to a quantum state.\n",
    "\n",
    "**Process**:\n",
    "\n",
    "1. **Define Random Parameters**:\n",
    "   - Generate random values for $\\theta$, $\\phi$, and $\\lambda$ within the range $0$ to $2\\pi$. These parameters determine the specific characteristics of the unitary transformation.\n",
    "\n",
    "2. **Create the Random Gate Matrix**:\n",
    "   - Compute the matrix representation of the unitary gate using the `random_unitary_gate_matrix` function with the generated parameters. This matrix describes how the gate modifies the amplitude and phase of a qubit.\n",
    "\n",
    "3. **Create the `MatrixGate`**:\n",
    "   - Convert the matrix into a Cirq `MatrixGate` using `cirq.MatrixGate(random_gate_matrix)`. This allows us to apply the gate in a Cirq quantum circuit.\n",
    "\n",
    "4. **Display the Matrix**:\n",
    "   - Print the matrix to visualize the unitary gate's transformation properties. This step helps in understanding the effects of the random unitary operation on a quantum state.\n"
   ]
  },
  {
   "cell_type": "code",
   "execution_count": 9,
   "metadata": {},
   "outputs": [
    {
     "name": "stdout",
     "output_type": "stream",
     "text": [
      "Matrix representation of the random gate:\n",
      "\n",
      "[[-0.9085763 +0.j          0.36338968+0.20600254j]\n",
      " [ 0.37240587+0.18921675j  0.50169727+0.75750297j]]\n"
     ]
    }
   ],
   "source": [
    "# Define random parameters\n",
    "theta = random.random() * 2 * pi\n",
    "phi = random.random() * 2 * pi\n",
    "lam = random.random() * 2 * pi\n",
    "\n",
    "# Create the random gate matrix and then create random gate\n",
    "random_gate_matrix = random_unitary_gate_matrix(theta, phi, lam)\n",
    "random_gate = cirq.MatrixGate(random_gate_matrix)\n",
    "\n",
    "# Display the matrix representation of the random gate\n",
    "print(\"Matrix representation of the random gate:\\n\")\n",
    "print(random_gate_matrix)"
   ]
  },
  {
   "cell_type": "markdown",
   "metadata": {},
   "source": [
    "## Part 3: Testing the Teleportation Protocol\n",
    "\n",
    "- In this part, we test the teleportation protocol to ensure it correctly transfers a quantum state from Alice to Bob. We achieve this by applying a randomly generated single-qubit gate to a qubit and then teleporting the state.\n"
   ]
  },
  {
   "cell_type": "markdown",
   "metadata": {},
   "source": [
    "### Step 3.1: Apply the Random Gate to the Initial State\n",
    "\n",
    "- We initialize a new quantum circuit including the qubits and classical registers used in the teleportation protocol. We then apply the randomly selected unitary gate to qubit $Q$, transforming its initial state $|0\\rangle$ into a random quantum state. This setup allows us to simulate the teleportation of a non-trivial state."
   ]
  },
  {
   "cell_type": "code",
   "execution_count": 10,
   "metadata": {},
   "outputs": [
    {
     "data": {
      "text/html": [
       "<pre style=\"overflow: auto; white-space: pre;\">      ┌                           ┐\n",
       "Q: ───│-0.909+0.j     0.363+0.206j│───\n",
       "      │ 0.372+0.189j  0.502+0.758j│\n",
       "      └                           ┘</pre>"
      ],
      "text/plain": [
       "      ┌                           ┐\n",
       "Q: ───│-0.909+0.j     0.363+0.206j│───\n",
       "      │ 0.372+0.189j  0.502+0.758j│\n",
       "      └                           ┘"
      ]
     },
     "execution_count": 10,
     "metadata": {},
     "output_type": "execute_result"
    }
   ],
   "source": [
    "# Define qubits\n",
    "qubit = cirq.NamedQubit('Q')   # Qubit to be teleported\n",
    "ebit0 = cirq.NamedQubit('A')   # Alice's entangled qubit 0\n",
    "ebit1 = cirq.NamedQubit('B')   # Alice's entangled qubit 1\n",
    "\n",
    "# Create a new circuit\n",
    "test = cirq.Circuit()\n",
    "\n",
    "# Apply the randomly selected gate to qubit Q\n",
    "test.append(random_gate.on(qubit))  # Apply the random UGate to qubit Q\n",
    "\n",
    "test"
   ]
  },
  {
   "cell_type": "markdown",
   "metadata": {},
   "source": [
    "### Step 3.2: Append the Teleportation Protocol\n",
    "\n",
    "In this step, we integrate the previously defined teleportation protocol into the circuit. This incorporates all necessary operations for quantum teleportation, including entanglement, gate operations, and measurements.\n",
    "\n",
    "**Process**:\n",
    "- Use the `append` method to add the teleportation protocol to the circuit created in the previous step. This step ensures that the full teleportation process is included in the circuit setup.\n"
   ]
  },
  {
   "cell_type": "code",
   "execution_count": 11,
   "metadata": {},
   "outputs": [
    {
     "data": {
      "text/html": [
       "<pre style=\"overflow: auto; white-space: pre;\">                                                  ┌──┐   ┌──┐\n",
       "A: ───────────────────────────────────H───@───X─────M───────────────\n",
       "                                          │   │     ║\n",
       "B: ───────────────────────────────────────X───┼─────╫──────X────Z───\n",
       "                                              │     ║      ║    ║\n",
       "      ┌                           ┐           │     ║      ║    ║\n",
       "Q: ───│-0.909+0.j     0.363+0.206j│───────────@────H╫─────M╫────╫───\n",
       "      │ 0.372+0.189j  0.502+0.758j│                 ║     ║║    ║\n",
       "      └                           ┘                 ║     ║║    ║\n",
       "                                                    ║     ║║    ║\n",
       "a: ═════════════════════════════════════════════════@═════╬^════╬═══\n",
       "                                                          ║     ║\n",
       "b: ═══════════════════════════════════════════════════════@═════^═══\n",
       "                                                  └──┘   └──┘</pre>"
      ],
      "text/plain": [
       "                                                  ┌──┐   ┌──┐\n",
       "A: ───────────────────────────────────H───@───X─────M───────────────\n",
       "                                          │   │     ║\n",
       "B: ───────────────────────────────────────X───┼─────╫──────X────Z───\n",
       "                                              │     ║      ║    ║\n",
       "      ┌                           ┐           │     ║      ║    ║\n",
       "Q: ───│-0.909+0.j     0.363+0.206j│───────────@────H╫─────M╫────╫───\n",
       "      │ 0.372+0.189j  0.502+0.758j│                 ║     ║║    ║\n",
       "      └                           ┘                 ║     ║║    ║\n",
       "                                                    ║     ║║    ║\n",
       "a: ═════════════════════════════════════════════════@═════╬^════╬═══\n",
       "                                                          ║     ║\n",
       "b: ═══════════════════════════════════════════════════════@═════^═══\n",
       "                                                  └──┘   └──┘"
      ]
     },
     "execution_count": 11,
     "metadata": {},
     "output_type": "execute_result"
    }
   ],
   "source": [
    "# Append the entire teleportation protocol from above\n",
    "test.append(protocol)   # Add the previously defined teleportation protocol to the current circuit\n",
    "\n",
    "test"
   ]
  },
  {
   "cell_type": "markdown",
   "metadata": {},
   "source": [
    "### Step 3.3: Apply the Inverse of the Random Gate and Measure\n",
    "\n",
    "In this step, we apply the inverse (i.e., conjugate transpose) of the random gate to qubit $B$. By measuring qubit $B$, we can verify the correctness of the teleportation process if it returns to the $|0\\rangle$ state."
   ]
  },
  {
   "cell_type": "code",
   "execution_count": 12,
   "metadata": {},
   "outputs": [],
   "source": [
    "# Create the inverse gate\n",
    "inverse_matrix = np.linalg.inv(random_gate_matrix)\n",
    "inverse_gate = cirq.MatrixGate(inverse_matrix)\n",
    "\n",
    "# Apply the inverse of the random unitary to qubit B\n",
    "test.append(inverse_gate.on(ebit1))\n",
    "\n",
    "# Measure the state of qubit B and store the result\n",
    "test.append(cirq.measure(ebit1, key='Result'))"
   ]
  },
  {
   "cell_type": "markdown",
   "metadata": {},
   "source": [
    "### Step 3.4: Display the Circuit\n",
    "\n",
    "- To visualize the test circuit, we display the entire setup, including the application of the random gate, the teleportation protocol, and the inverse gate."
   ]
  },
  {
   "cell_type": "code",
   "execution_count": 13,
   "metadata": {},
   "outputs": [
    {
     "name": "stdout",
     "output_type": "stream",
     "text": [
      "Final Circuit:\n",
      "\n",
      "                                                  ┌──┐   ┌──┐\n",
      "A: ───────────────────────────────────H───@───X─────M─────────────────────────────────────────────────────────────\n",
      "                                          │   │     ║\n",
      "                                          │   │     ║               ┌                           ┐\n",
      "B: ───────────────────────────────────────X───┼─────╫──────X────Z───│-0.909+0.j     0.372-0.189j│───M('Result')───\n",
      "                                              │     ║      ║    ║   │ 0.363-0.206j  0.502-0.758j│\n",
      "                                              │     ║      ║    ║   └                           ┘\n",
      "                                              │     ║      ║    ║\n",
      "      ┌                           ┐           │     ║      ║    ║\n",
      "Q: ───│-0.909+0.j     0.363+0.206j│───────────@────H╫─────M╫────╫─────────────────────────────────────────────────\n",
      "      │ 0.372+0.189j  0.502+0.758j│                 ║     ║║    ║\n",
      "      └                           ┘                 ║     ║║    ║\n",
      "                                                    ║     ║║    ║\n",
      "a: ═════════════════════════════════════════════════@═════╬^════╬═════════════════════════════════════════════════\n",
      "                                                          ║     ║\n",
      "b: ═══════════════════════════════════════════════════════@═════^═════════════════════════════════════════════════\n",
      "                                                  └──┘   └──┘\n"
     ]
    }
   ],
   "source": [
    "# Display the circuit\n",
    "print(\"Final Circuit:\\n\")\n",
    "print(test)"
   ]
  },
  {
   "cell_type": "markdown",
   "metadata": {},
   "source": [
    "## Part 4: Run the Simulation and Analyze Results\n",
    "\n",
    "In this part, we use Cirq's simulator to run the quantum circuit and analyze the results by plotting histograms of the measurement outcomes. We will see the statistics for the classical bits, focusing on whether the teleportation was successful."
   ]
  },
  {
   "cell_type": "markdown",
   "metadata": {},
   "source": [
    "**Process**:\n",
    "\n",
    "1. **Create a Simulator Instance**:\n",
    "   - Initialize a Cirq simulator to run the quantum circuit.\n",
    "\n",
    "2. **Run the Quantum Circuit**:\n",
    "   - Execute the quantum circuit with 1000 repetitions to gather sufficient measurement data.\n",
    "\n",
    "3. **Plot the Histogram**:\n",
    "   - Generate a histogram of the measurement outcomes to visualize the distribution of results.\n"
   ]
  },
  {
   "cell_type": "code",
   "execution_count": 14,
   "metadata": {},
   "outputs": [
    {
     "data": {
      "image/png": "[encoded data removed]",
      "text/plain": [
       "<Figure size 640x480 with 1 Axes>"
      ]
     },
     "metadata": {},
     "output_type": "display_data"
    }
   ],
   "source": [
    "# Create a simulator instance\n",
    "simulator = cirq.Simulator()\n",
    "\n",
    "# Run the quantum circuit on the simulator and get the result\n",
    "result = simulator.run(test, repetitions=1000)  # Run the circuit with 1000 repetitions\n",
    "\n",
    "# Plot the histogram of the measurement outcomes\n",
    "hist = cirq.plot_state_histogram(result, plt.subplot(), title='Measurement Outcomes', xlabel='States', ylabel='Occurrences', tick_label=binary_labels(3))\n",
    "\n",
    "plt.show()"
   ]
  },
  {
   "cell_type": "markdown",
   "metadata": {},
   "source": [
    "### Result Analysis of Quantum Teleportation Protocol\n",
    "\n",
    "The quantum teleportation protocol was implemented and simulated to verify its correctness. Here’s a detailed analysis of the results obtained from the simulation:\n",
    "\n",
    "1. **Circuit Overview:**\n",
    "   - The quantum circuit consists of preparing an entangled pair of qubits $A$ and $B$, performing operations on qubit $Q$ (the one to be teleported), measuring the qubits, and applying conditional operations based on the measurement results.\n",
    "\n",
    "2. **Measurement Results:**\n",
    "   - The histogram of measurement outcomes from the final circuit is analyzed to determine the success of the teleportation.\n",
    "\n",
    "3. **Expected Outcomes:**\n",
    "   - In the final measurement, `the states where the last qubit is 0 should ideally have non-zero counts`. This is because qubit $B$ is supposed to match the state of qubit $Q$ after teleportation, and any discrepancies would manifest as deviations in these outcomes.\n",
    "   - The states `001`, `011`, `101`, and `111` should ideally have zero counts. This indicates that the final state of qubit $B$ is consistent with the teleported state and that the effect of the random unitary gate has been correctly reversed.\n",
    "\n",
    "4. **Interpreting the Histogram:**\n",
    "   - The histogram shows that the states where the last qubit is 0 (i.e., `000`, `010`, `100`, `110`) have non-zero counts. This result confirms that the teleportation protocol has successfully transferred the state from qubit $Q$ to qubit $B$.\n",
    "   - The absence of states `001`, `011`, `101`, and `111` supports the correctness of the teleportation, indicating that the quantum state was accurately teleported and reconstructed on qubit $B$.\n",
    "\n",
    "In summary, the measurement outcomes align with the expected results, demonstrating that the quantum teleportation protocol was executed successfully and the qubit state was correctly teleported.\n"
   ]
  }
 ],
 "metadata": {
  "kernelspec": {
   "display_name": "cirq_env",
   "language": "python",
   "name": "python3"
  },
  "language_info": {
   "codemirror_mode": {
    "name": "ipython",
    "version": 3
   },
   "file_extension": ".py",
   "mimetype": "text/x-python",
   "name": "python",
   "nbconvert_exporter": "python",
   "pygments_lexer": "ipython3",
   "version": "3.8.19"
  }
 },
 "nbformat": 4,
 "nbformat_minor": 2
}
