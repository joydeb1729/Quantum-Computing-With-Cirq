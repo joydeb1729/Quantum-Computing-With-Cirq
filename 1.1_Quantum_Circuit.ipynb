{
 "cells": [
  {
   "cell_type": "markdown",
   "metadata": {},
   "source": [
    "# Getting Started With Quantum Circuits"
   ]
  },
  {
   "cell_type": "markdown",
   "metadata": {},
   "source": [
    "## Step 1: Creating a Qubit \n",
    "\n",
    "Using the `cirq.NamedQubit()` method to create and define a qubit with a specific name.\n",
    "\n"
   ]
  },
  {
   "cell_type": "code",
   "execution_count": 10,
   "metadata": {},
   "outputs": [],
   "source": [
    "import cirq\n",
    "\n",
    "my_qubit = cirq.NamedQubit('q0')\n"
   ]
  },
  {
   "cell_type": "markdown",
   "metadata": {},
   "source": [
    "## Step 2: Creating a Quantum Circuit\n",
    "\n",
    "Using the `cirq.Circuit()` method to create an empty circuit.\n",
    "\n"
   ]
  },
  {
   "cell_type": "code",
   "execution_count": 11,
   "metadata": {},
   "outputs": [],
   "source": [
    "my_circuit = cirq.Circuit() "
   ]
  },
  {
   "cell_type": "markdown",
   "metadata": {},
   "source": [
    "## Step 3: Modifying a Circuit\n",
    "\n",
    "Right now we have an empty circuit. To modify our circuit, we need to add objects to the circuit. To modify the circuit, we use the `append()` method.\n",
    "\n"
   ]
  },
  {
   "cell_type": "code",
   "execution_count": 12,
   "metadata": {},
   "outputs": [
    {
     "data": {
      "text/html": [
       "<pre style=\"overflow: auto; white-space: pre;\">q0: ───M───</pre>"
      ],
      "text/plain": [
       "q0: ───M───"
      ]
     },
     "execution_count": 12,
     "metadata": {},
     "output_type": "execute_result"
    }
   ],
   "source": [
    "my_circuit.append(cirq.measure(my_qubit))\n",
    "my_circuit"
   ]
  },
  {
   "cell_type": "markdown",
   "metadata": {},
   "source": [
    "**Note:** `cirq.measure(my_qubit)`: This line appends a measurement operation to `my_circuit`. The `measure` function from Cirq is used to create a measurement gate that measures the state of `my_qubit`."
   ]
  },
  {
   "cell_type": "markdown",
   "metadata": {},
   "source": [
    "## Step 4: Simulating a Circuit\n",
    "\n",
    "At the end of the circuit, we want to simulate the result of running the circuit.\n",
    "\n",
    "To simulate the circuit and obtain results, you can use the following steps:\n",
    "\n",
    "1. **Initialize a Simulator**: Use `cirq.Simulator()` to create a quantum circuit simulator.\n",
    "\n",
    "2. **Run the Circuit**: Use the simulator's `run` method to execute the circuit and obtain measurement results."
   ]
  },
  {
   "cell_type": "code",
   "execution_count": 13,
   "metadata": {},
   "outputs": [
    {
     "data": {
      "text/plain": [
       "q0=0"
      ]
     },
     "execution_count": 13,
     "metadata": {},
     "output_type": "execute_result"
    }
   ],
   "source": [
    "sim = cirq.Simulator()\n",
    "result = sim.run(my_circuit)\n",
    "result"
   ]
  },
  {
   "cell_type": "markdown",
   "metadata": {},
   "source": [
    "#### Fact : We can simulate as much time we want by passing value for repetition number \n",
    "\n",
    "- For example if we want to run 10 times we can use `results = sim.run(my_circuit, repetitions=10)`"
   ]
  },
  {
   "cell_type": "code",
   "execution_count": 14,
   "metadata": {},
   "outputs": [
    {
     "data": {
      "text/plain": [
       "q0=0000000000"
      ]
     },
     "execution_count": 14,
     "metadata": {},
     "output_type": "execute_result"
    }
   ],
   "source": [
    "results = sim.run(my_circuit, repetitions=10)\n",
    "results"
   ]
  },
  {
   "cell_type": "markdown",
   "metadata": {},
   "source": [
    "## Practice Question\n",
    "\n",
    "- Create a list of five qubits. \n",
    "- Create a quantum circuit and append a measurement for each of your qubits. \n",
    "- Simulate the result of your circuit."
   ]
  },
  {
   "cell_type": "code",
   "execution_count": 15,
   "metadata": {},
   "outputs": [
    {
     "data": {
      "text/html": [
       "<pre style=\"overflow: auto; white-space: pre;\">q0: ───M───\n",
       "\n",
       "q1: ───M───\n",
       "\n",
       "q2: ───M───\n",
       "\n",
       "q3: ───M───\n",
       "\n",
       "q4: ───M───</pre>"
      ],
      "text/plain": [
       "q0: ───M───\n",
       "\n",
       "q1: ───M───\n",
       "\n",
       "q2: ───M───\n",
       "\n",
       "q3: ───M───\n",
       "\n",
       "q4: ───M───"
      ]
     },
     "metadata": {},
     "output_type": "display_data"
    },
    {
     "data": {
      "text/plain": [
       "q0=0\n",
       "q1=0\n",
       "q2=0\n",
       "q3=0\n",
       "q4=0"
      ]
     },
     "execution_count": 15,
     "metadata": {},
     "output_type": "execute_result"
    }
   ],
   "source": [
    "# Solve ->\n",
    "\n",
    "my_qubits = [cirq.NamedQubit('q0'), cirq.NamedQubit('q1'), cirq.NamedQubit('q2'), cirq.NamedQubit('q3'), cirq.NamedQubit('q4')]\n",
    "my_circuit = cirq.Circuit()\n",
    "\n",
    "my_circuit.append(cirq.measure(my_qubits[0]))\n",
    "my_circuit.append(cirq.measure(my_qubits[1]))\n",
    "my_circuit.append(cirq.measure(my_qubits[2]))\n",
    "my_circuit.append(cirq.measure(my_qubits[3]))\n",
    "my_circuit.append(cirq.measure(my_qubits[4]))\n",
    "\n",
    "display(my_circuit)\n",
    "\n",
    "#since we have to measure all we can simply write \n",
    "#my_circuit.append(cirq.measure(my_qubits))\n",
    "\n",
    "my_simulator = cirq.Simulator()\n",
    "results = my_simulator.run(my_circuit)\n",
    "\n",
    "results"
   ]
  },
  {
   "cell_type": "markdown",
   "metadata": {},
   "source": [
    "### Alternative: Creating Multiple Qubits Using `range()` Method\n",
    "\n",
    "We can create multiple qubits using the `range()` method. This method allows us to efficiently generate a list of qubits.\n",
    "\n"
   ]
  },
  {
   "cell_type": "code",
   "execution_count": 16,
   "metadata": {},
   "outputs": [
    {
     "data": {
      "text/html": [
       "<pre style=\"overflow: auto; white-space: pre;\">q0: ───M───\n",
       "       │\n",
       "q1: ───M───\n",
       "       │\n",
       "q2: ───M───\n",
       "       │\n",
       "q3: ───M───\n",
       "       │\n",
       "q4: ───M───</pre>"
      ],
      "text/plain": [
       "q0: ───M───\n",
       "       │\n",
       "q1: ───M───\n",
       "       │\n",
       "q2: ───M───\n",
       "       │\n",
       "q3: ───M───\n",
       "       │\n",
       "q4: ───M───"
      ]
     },
     "metadata": {},
     "output_type": "display_data"
    },
    {
     "data": {
      "text/plain": [
       "q0,q1,q2,q3,q4=0, 0, 0, 0, 0"
      ]
     },
     "execution_count": 16,
     "metadata": {},
     "output_type": "execute_result"
    }
   ],
   "source": [
    "my_qubits = cirq.NamedQubit.range(5, prefix= 'q')\n",
    "\n",
    "my_circuit = cirq.Circuit()\n",
    "\n",
    "my_circuit.append(cirq.measure(my_qubits))\n",
    "\n",
    "display(my_circuit)\n",
    "\n",
    "my_simulator = cirq.Simulator()\n",
    "results = my_simulator.run(my_circuit)\n",
    "\n",
    "results\n"
   ]
  },
  {
   "cell_type": "markdown",
   "metadata": {},
   "source": [
    "#### Explanation:\n",
    "`cirq.NamedQubit.range(5, prefix='q')`: This method creates a list of 5 named qubits.\n",
    "- The `5` indicates the number of qubits to create.\n",
    "- The `prefix='q'` specifies that each qubit should have a name starting with 'q'.\n",
    "- The resulting qubits will be named 'q0', 'q1', 'q2', 'q3', and 'q4'.\n"
   ]
  }
 ],
 "metadata": {
  "kernelspec": {
   "display_name": "cirq_env",
   "language": "python",
   "name": "python3"
  },
  "language_info": {
   "codemirror_mode": {
    "name": "ipython",
    "version": 3
   },
   "file_extension": ".py",
   "mimetype": "text/x-python",
   "name": "python",
   "nbconvert_exporter": "python",
   "pygments_lexer": "ipython3",
   "version": "3.8.19"
  }
 },
 "nbformat": 4,
 "nbformat_minor": 2
}
