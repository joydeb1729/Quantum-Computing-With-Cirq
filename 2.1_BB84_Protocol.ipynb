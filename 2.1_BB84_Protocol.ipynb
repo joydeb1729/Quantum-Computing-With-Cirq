{
 "cells": [
  {
   "cell_type": "markdown",
   "metadata": {},
   "source": [
    "## BB84 Quantum Key Distribution Protocol\n",
    "\n",
    "## Phase 1: Alice Sends the Qubits\n",
    "\n",
    "**Step 1: Alice Randomly Chooses Bits**\n",
    "- Alice generates a random sequence of bits.\n",
    "\n",
    "**Step 2: Alice Randomly Chooses Basis**\n",
    "- For each bit, Alice randomly decides whether to encode it in the standard (Z) basis (`0`) or the Hadamard (X) basis (`1`).\n",
    "\n",
    "**Step 3: Alice Encodes the Qubits**\n",
    "- Alice prepares each qubit according to her random bit sequence and basis choices:\n",
    "  - If the basis is `0` (Z-basis), she sets the qubit to either `|0⟩` or `|1⟩`.\n",
    "  - If the basis is `1` (X-basis), she sets the qubit to either `|+⟩` or `|-⟩`.\n",
    "\n",
    "## Phase 2: Bob Receives The Qubits\n",
    "\n",
    "**Step 4: Bob Randomly Chooses Basis**\n",
    "- Bob independently chooses a measurement basis (`0` for Z-basis or `1` for X-basis) for each received qubit.\n",
    "\n",
    "**Step 5: Bob Applies Basis to Qubits**\n",
    "- Bob applies the chosen basis gate to each qubit received from Alice.\n",
    "\n",
    "**Step 6: Bob Measures the Qubits**\n",
    "- Using his chosen bases, Bob measures each qubit to obtain measurement outcomes.\n",
    "\n",
    "**Step 7: Combining Alice's and Bob's Circuits**\n",
    "- The circuits from Alice and Bob are combined to simulate the entire quantum key distribution process.\n",
    "\n",
    "## Phase 3: Alice and Bob Compare\n",
    "\n",
    "**Step 8: Key Reconciliation**\n",
    "- Alice and Bob compare their chosen bases for each qubit.\n",
    "\n",
    "**Step 9: Error Correction and Privacy Amplification**\n",
    "- They perform error checking to ensure the integrity of the shared key and apply privacy amplification techniques to distill a shorter, secure shared key that is resistant to eavesdropping.\n"
   ]
  },
  {
   "cell_type": "markdown",
   "metadata": {},
   "source": [
    "# Step 0: The Set Up\n",
    "\n",
    "1. **Define a Dictionary for Encoding Gates:**\n",
    "   - This dictionary specifies which gate to apply based on the bit value (0 or 1).\n",
    "   - For bit value 0, no gate is applied (identity operation).\n",
    "   - For bit value 1, an X gate (Pauli-X gate) is applied.\n",
    "\n",
    "2. **Define a Dictionary for Basis Gates:**\n",
    "   - This dictionary specifies which gate to apply based on the basis (standard or Hadamard).\n",
    "   - For standard basis, no gate is applied.\n",
    "   - For Hadamard basis, a Hadamard gate (H gate) is applied.\n",
    "\n",
    "3. **Create a List of Named Qubits:**\n",
    "   - Create a list of qubits with specific names for better identification in the circuit.\n"
   ]
  },
  {
   "cell_type": "code",
   "execution_count": 7,
   "metadata": {},
   "outputs": [],
   "source": [
    "import cirq\n",
    "from cirq.contrib.svg import SVGCircuit\n",
    "\n",
    "encode_gates = {0: cirq.I, 1: cirq.X}\n",
    "\n",
    "basis_gates = {'Z': cirq.I, 'X': cirq.H}\n",
    "\n",
    "num_bits = 10\n",
    "qubits = cirq.NamedQubit.range(num_bits, prefix='q')"
   ]
  },
  {
   "cell_type": "markdown",
   "metadata": {},
   "source": [
    "# Implementing the Steps\n"
   ]
  },
  {
   "cell_type": "markdown",
   "metadata": {},
   "source": [
    "## Phase 1: Alise sends the Qubits"
   ]
  },
  {
   "cell_type": "markdown",
   "metadata": {},
   "source": [
    "### Step 1: Alice Randomly Chooses Bits\n",
    "\n",
    "- Alice uses the `choices()` function from the `random` module to generate a key of random bits that is `num_bits` long.\n",
    "- For example, `choices([0, 1], k=num_bits)` generates a list of random bits of the specified length.\n"
   ]
  },
  {
   "cell_type": "code",
   "execution_count": 8,
   "metadata": {},
   "outputs": [
    {
     "name": "stdout",
     "output_type": "stream",
     "text": [
      "Alice's Initial Key:  [0, 0, 0, 1, 0, 0, 0, 1, 0, 1]\n"
     ]
    }
   ],
   "source": [
    "from random import choices\n",
    "\n",
    "alice_key = choices([0, 1], k=num_bits)\n",
    "print(\"Alice\\'s Initial Key: \", alice_key)"
   ]
  },
  {
   "cell_type": "markdown",
   "metadata": {},
   "source": [
    "### Step 2: Alice Randomly Chooses Basis\n",
    "\n",
    "Alice randomly chooses between the Z or X basis for each qubit, repeating this process `num_bits` times.\n"
   ]
  },
  {
   "cell_type": "code",
   "execution_count": 9,
   "metadata": {},
   "outputs": [
    {
     "name": "stdout",
     "output_type": "stream",
     "text": [
      "Alice's randomly choosen bases:  ['X', 'Z', 'X', 'Z', 'Z', 'Z', 'X', 'Z', 'X', 'Z']\n"
     ]
    }
   ],
   "source": [
    "alice_bases = choices(['X', 'Z'], k=num_bits)\n",
    "print(\"Alice\\'s randomly choosen bases: \", alice_bases)"
   ]
  },
  {
   "cell_type": "markdown",
   "metadata": {},
   "source": [
    "### Step 3: Alice Encodes the Qubits\n",
    "\n",
    "Alice encodes the qubits based on her chosen bits and bases. She does this by following these steps:\n",
    "\n",
    "1. **Create a Circuit**:\n",
    "   - Initialize an empty circuit named `alice_circuit`.\n",
    "\n",
    "2. **Iterate Over Each Bit**:\n",
    "   - For each bit in the range of `num_bits`, Alice performs the following operations:\n",
    "\n",
    "3. **Determine the Encoding Gate**:\n",
    "   - `encode_value = alice_keys[bit]`: Get the bit value (0 or 1) from Alice's key.\n",
    "   - `encode_gate = encode_gates[encode_value]`: Select the corresponding gate (I or X) based on the bit value. This is because every qubit is in the 0 state by default, so if `encode_value` is 0, it applies the identity gate and does nothing; if 1, then it applies the X-Gate and flips the qubit from 0 to 1.\n",
    "\n",
    "4. **Determine the Basis Gate**:\n",
    "   - `basis_value = alice_bases[bit]`: Get the basis value (X or Z) from Alice's chosen bases.\n",
    "   - `basis_gate = basis_gates[basis_value]`: Select the corresponding gate (I or H) based on the basis value.\n",
    "\n",
    "5. **Apply the Gates to the Qubits**:\n",
    "   - `qubit = my_qubits[bit]`: Get the qubit corresponding to the current bit.\n",
    "   - `alice_circuit.append(encode_gate(qubit))`: Apply the encoding gate (I or X) to the qubit.\n",
    "   - `alice_circuit.append(basis_gate(qubit))`: Apply the basis gate (I or H) to the qubit.\n",
    "\n",
    "This process ensures that each qubit is encoded according to Alice's random choices of bits and bases. The resulting circuit (`alice_circuit`) represents the quantum state that Alice will send to Bob.\n",
    "\n"
   ]
  },
  {
   "cell_type": "code",
   "execution_count": 10,
   "metadata": {},
   "outputs": [
    {
     "name": "stdout",
     "output_type": "stream",
     "text": [
      "Alice's Phase 1 Circuit: \n",
      "\n",
      " q0: ───I───H───\n",
      "\n",
      "q1: ───I───I───\n",
      "\n",
      "q2: ───I───H───\n",
      "\n",
      "q3: ───X───I───\n",
      "\n",
      "q4: ───I───I───\n",
      "\n",
      "q5: ───I───I───\n",
      "\n",
      "q6: ───I───H───\n",
      "\n",
      "q7: ───X───I───\n",
      "\n",
      "q8: ───I───H───\n",
      "\n",
      "q9: ───X───I───\n"
     ]
    }
   ],
   "source": [
    "alice_cirquit = cirq.Circuit()\n",
    "\n",
    "for bit in range(num_bits):\n",
    "    \n",
    "    encode_value = alice_key[bit]\n",
    "    encode_gate = encode_gates[encode_value]\n",
    "    \n",
    "    basis_value = alice_bases[bit]\n",
    "    basis_gate = basis_gates[basis_value]\n",
    "    \n",
    "    qubit = qubits[bit]\n",
    "    alice_cirquit.append(encode_gate(qubit))\n",
    "    alice_cirquit.append(basis_gate(qubit))\n",
    "    \n",
    "print(\"Alice\\'s Phase 1 Circuit: \\n\\n\", alice_cirquit)"
   ]
  },
  {
   "cell_type": "markdown",
   "metadata": {},
   "source": [
    "## Phase 2: Bob Recieves The Qubits"
   ]
  },
  {
   "cell_type": "markdown",
   "metadata": {},
   "source": [
    "### Step 4: Bob Randomly Chooses Basis\n",
    "\n",
    "- Bob randomly chooses Z or X basis for `num_bits` times, independently of Alice's choices.\n",
    "- This is similar to Alice's process, ensuring that the bases are chosen without any prior knowledge of Alice's choices."
   ]
  },
  {
   "cell_type": "code",
   "execution_count": 11,
   "metadata": {},
   "outputs": [
    {
     "name": "stdout",
     "output_type": "stream",
     "text": [
      "Bob's randomly choosen bases:  ['X', 'Z', 'X', 'X', 'Z', 'X', 'X', 'Z', 'Z', 'Z']\n"
     ]
    }
   ],
   "source": [
    "bob_bases = choices(['X', 'Z'], k= num_bits)\n",
    "print(\"Bob\\'s randomly choosen bases: \", bob_bases)"
   ]
  },
  {
   "cell_type": "markdown",
   "metadata": {},
   "source": [
    "### Step 5: Bob Applies Basis to Qubits\n",
    "\n",
    "Bob applies his chosen bases to the qubits received from Alice. He does this by following these steps:\n",
    "\n",
    "1. **Create a Circuit**:\n",
    "   - Initialize an empty circuit named `bob_circuit`.\n",
    "\n",
    "2. **Iterate Over Each Bit**:\n",
    "   - For each bit in the range of `num_bits`, Bob performs the following operations:\n",
    "\n",
    "3. **Determine the Basis Gate**:\n",
    "   - `basis_value = bob_bases[bit]`: Get the basis value (X or Z) from Bob's chosen bases.\n",
    "   - `basis_gate = basis_gates[basis_value]`: Select the corresponding gate (I or H) based on the basis value.\n",
    "\n",
    "4. **Apply the Basis Gate to the Qubits**:\n",
    "   - `qubit = qubits[bit]`: Get the qubit corresponding to the current bit.\n",
    "   - `bob_circuit.append(basis_gate(qubit))`: Apply the basis gate (I or H) to the qubit.\n",
    "\n",
    "This process ensures that Bob applies his randomly chosen bases to each qubit received from Alice. The resulting circuit (`bob_circuit`) represents the quantum operations Bob performs on the qubits before measuring them.\n"
   ]
  },
  {
   "cell_type": "code",
   "execution_count": 12,
   "metadata": {},
   "outputs": [],
   "source": [
    "bob_circuit = cirq.Circuit()\n",
    "\n",
    "for bit in range(num_bits):\n",
    "    \n",
    "    basis_value =  bob_bases[bit]\n",
    "    basis_gate = basis_gates[basis_value]\n",
    "    \n",
    "    qubit = qubits[bit]\n",
    "    bob_circuit.append(basis_gate(qubit))\n",
    "    "
   ]
  },
  {
   "cell_type": "markdown",
   "metadata": {},
   "source": [
    "### Step 6: Bob Measures the Qubits\n",
    "\n",
    "In this step, Bob measures the qubits after applying his chosen bases. He does this by following these steps:\n",
    "\n",
    "1. **Add Measurement Operations**:\n",
    "   - For each qubit in `qubits`, Bob adds a measurement operation to the circuit. This allows Bob to observe the state of each qubit.\n",
    "\n",
    "2. **Measure the Qubits**:\n",
    "   - `bob_circuit.append(cirq.measure(qubits, key='bob_key'))`: Append a measurement gate to all the qubits in the circuit. The `measure` function takes in the qubits and a key name (`bob_key`) which will be used to access the measurement results. This gate measures the state of each qubit and records the result using the specified key.\n",
    "\n",
    "The resulting circuit (`bob_circuit`) now includes both the basis gates and the measurement operations. When executed, this circuit will provide the measurement results for each qubit, allowing Bob to compare his results with Alice's original bits.\n"
   ]
  },
  {
   "cell_type": "code",
   "execution_count": 13,
   "metadata": {},
   "outputs": [
    {
     "name": "stdout",
     "output_type": "stream",
     "text": [
      "Bob's Phase 2 Circuit: \n",
      "\n",
      "\n"
     ]
    }
   ],
   "source": [
    "bob_circuit.append(cirq.measure(qubits, key= 'bob_key'))\n",
    "\n",
    "print(\"Bob\\'s Phase 2 Circuit: \\n\\n\")\n"
   ]
  },
  {
   "cell_type": "markdown",
   "metadata": {},
   "source": [
    "### Step 7: Combining Alice's and Bob's Circuits\n",
    "\n",
    "In this step, we combine Alice's and Bob's circuits and simulate the BB84 protocol:\n",
    "\n",
    "1. **Combine Circuits**:\n",
    "   - `bb84_circuit = alice_circuit + bob_circuit`: Combine Alice's circuit (`alice_circuit`) and Bob's circuit (`bob_circuit`) to create a complete BB84 circuit (`bb84_circuit`). This combined circuit represents the entire quantum communication process between Alice and Bob.\n",
    "\n",
    "2. **Simulate the Combined Circuit**:\n",
    "   - `sim = cirq.Simulator()`: Initialize a Cirq simulator.\n",
    "   - `results = sim.run(bb84_circuit)`: Run the combined circuit using the simulator. The simulation executes the quantum operations and measurements specified in the circuit.\n",
    "\n",
    "3. **Extract Bob's Measurement Results**:\n",
    "   - `bob_key = results.measurements['bob_key'][0]`: Extract Bob's measurement results from the simulation output. The `results.measurements` dictionary contains the measurement results keyed by the specified measurement name ('bob_key'). The `[0]` index retrieves the first set of measurement results.\n",
    "\n",
    "This process simulates the BB84 protocol, combining Alice's and Bob's quantum operations and providing the measurement results that Bob obtains after the quantum communication. These results can then be used to compare with Alice's original bits and bases to determine the shared secret key.\n"
   ]
  },
  {
   "cell_type": "code",
   "execution_count": 14,
   "metadata": {},
   "outputs": [
    {
     "name": "stdout",
     "output_type": "stream",
     "text": [
      "Bob's inital key:  [0 0 0 1 0 1 0 1 1 1]\n"
     ]
    }
   ],
   "source": [
    "bb84_circuit = alice_cirquit + bob_circuit\n",
    "\n",
    "sim = cirq.Simulator()\n",
    "results = sim.run(bb84_circuit)\n",
    "\n",
    "bob_key = results.measurements['bob_key'][0]\n",
    "\n",
    "print(\"Bob\\'s inital key: \", bob_key)"
   ]
  },
  {
   "cell_type": "markdown",
   "metadata": {},
   "source": [
    "## Phase 3: Alice and Bob Compare"
   ]
  },
  {
   "cell_type": "markdown",
   "metadata": {},
   "source": [
    "### Step 8: Key Reconciliation\n",
    "\n",
    "After Alice and Bob have measured their qubits, they need to compare their bases to determine the final shared key. Here's how they do it:\n",
    "\n",
    "- **Compare Bases**:\n",
    "   - `for bit in range(num_bits)`: Iterate over each bit in the range of `num_bits`.\n",
    "   - `if (alice_bases[bit] == bob_bases[bit])`: Check if the basis chosen by Alice for the current bit matches the basis chosen by Bob.\n",
    "     - If the bases match:\n",
    "       - `final_alice_key.append(alice_keys[bit])`: Append the bit from Alice's key to the final key list for Alice.\n",
    "       - `final_bob_key.append(bob_key[bit])`: Append the corresponding bit from Bob's measurement results to the final key list for Bob.\n",
    "\n",
    "This process ensures that only the bits where Alice's and Bob's bases matched are included in the final shared key. The final keys for Alice and Bob should be identical if no eavesdropping occurred, forming a secure shared secret key.\n"
   ]
  },
  {
   "cell_type": "code",
   "execution_count": 15,
   "metadata": {},
   "outputs": [
    {
     "name": "stdout",
     "output_type": "stream",
     "text": [
      "Final Alice's Key :  [0, 0, 0, 0, 0, 1, 1]\n",
      "\n",
      "Final Bob's Key :  [0, 0, 0, 0, 0, 1, 1]\n"
     ]
    }
   ],
   "source": [
    "final_alice_key = []\n",
    "final_bob_key = []\n",
    "\n",
    "for bit in range (num_bits):\n",
    "    \n",
    "    if(alice_bases[bit] == bob_bases[bit]):\n",
    "        final_alice_key.append(alice_key[bit])\n",
    "        final_bob_key.append(bob_key[bit])\n",
    "        \n",
    "print(\"Final Alice\\'s Key : \", final_alice_key)\n",
    "print(\"\\nFinal Bob\\'s Key : \", final_bob_key)"
   ]
  },
  {
   "cell_type": "markdown",
   "metadata": {},
   "source": [
    "### Step 9: Error Correction and Privacy Amplification\n",
    "\n",
    "After comparing their keys, Alice and Bob perform error correction and privacy amplification:\n",
    "\n",
    "1. **Initial Key Matching**:\n",
    "   - `if (final_alice_key[0] == final_bob_key[0]):` Check if the first bit of Alice's final key matches the first bit of Bob's final key.\n",
    "     - If they match:\n",
    "       - `final_alice_key = final_alice_key[1:]`: Remove the first bit from Alice's final key.\n",
    "       - `final_bob_key = final_bob_key[1:]`: Remove the first bit from Bob's final key.\n",
    "       - Print a confirmation message that they can use the remaining keys securely:\n",
    "       \n",
    "       \n",
    "\n",
    "     - If they do not match:\n",
    "       - Print a message indicating that eavesdropping may have occurred and they need to use a different channel:\n",
    "\n",
    "\n",
    "This step ensures that Alice and Bob verify the integrity of their shared key. If the initial bits match, they proceed to use the remaining bits as their secure key. If there is a mismatch, they suspect eavesdropping and take appropriate measures to secure their communication channel.\n"
   ]
  },
  {
   "cell_type": "code",
   "execution_count": 16,
   "metadata": {},
   "outputs": [
    {
     "name": "stdout",
     "output_type": "stream",
     "text": [
      "\n",
      "\n",
      " We can use our keys!\n",
      "\n",
      "Alice's Key:  [0, 0, 0, 0, 1, 1]\n",
      "Bob's Key:  [0, 0, 0, 0, 1, 1]\n"
     ]
    }
   ],
   "source": [
    "if(final_alice_key[0] == final_bob_key[0]):\n",
    "    final_alice_key = final_alice_key[1:]\n",
    "    final_bob_key = final_bob_key[1:]\n",
    "    \n",
    "    print(\"\\n\\n We can use our keys!\\n\")\n",
    "    print(\"Alice\\'s Key: \", final_alice_key)\n",
    "    print(\"Bob\\'s Key: \", final_bob_key)\n",
    "\n",
    "else:\n",
    "    print(\"\\n\\nEve was lisening. We need to use a different channel!\")"
   ]
  }
 ],
 "metadata": {
  "kernelspec": {
   "display_name": "cirq_env",
   "language": "python",
   "name": "python3"
  },
  "language_info": {
   "codemirror_mode": {
    "name": "ipython",
    "version": 3
   },
   "file_extension": ".py",
   "mimetype": "text/x-python",
   "name": "python",
   "nbconvert_exporter": "python",
   "pygments_lexer": "ipython3",
   "version": "3.8.19"
  }
 },
 "nbformat": 4,
 "nbformat_minor": 2
}
